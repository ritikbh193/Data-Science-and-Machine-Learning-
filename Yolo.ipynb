{
  "cells": [
    {
      "cell_type": "markdown",
      "metadata": {
        "id": "view-in-github",
        "colab_type": "text"
      },
      "source": [
        "<a href=\"https://colab.research.google.com/github/ritikbh193/Data-Science-and-Machine-Learning-/blob/main/Yolo.ipynb\" target=\"_parent\"><img src=\"https://colab.research.google.com/assets/colab-badge.svg\" alt=\"Open In Colab\"/></a>"
      ]
    },
    {
      "cell_type": "code",
      "execution_count": null,
      "metadata": {
        "colab": {
          "base_uri": "https://localhost:8080/"
        },
        "id": "2oabZyaK22sD",
        "outputId": "5ef8ba97-b05a-4e46-9b5c-dd6aca163fdd"
      },
      "outputs": [
        {
          "output_type": "stream",
          "name": "stdout",
          "text": [
            "Collecting ultralytics\n",
            "  Downloading ultralytics-8.2.5-py3-none-any.whl (754 kB)\n",
            "\u001b[?25l     \u001b[90m━━━━━━━━━━━━━━━━━━━━━━━━━━━━━━━━━━━━━━━━\u001b[0m \u001b[32m0.0/755.0 kB\u001b[0m \u001b[31m?\u001b[0m eta \u001b[36m-:--:--\u001b[0m\r\u001b[2K     \u001b[91m━━━━━━━━\u001b[0m\u001b[91m╸\u001b[0m\u001b[90m━━━━━━━━━━━━━━━━━━━━━━━━━━━━━━━\u001b[0m \u001b[32m163.8/755.0 kB\u001b[0m \u001b[31m4.7 MB/s\u001b[0m eta \u001b[36m0:00:01\u001b[0m\r\u001b[2K     \u001b[91m━━━━━━━━━━━━━━━━━━━━━━━━━━━━━\u001b[0m\u001b[91m╸\u001b[0m\u001b[90m━━━━━━━━━━\u001b[0m \u001b[32m563.2/755.0 kB\u001b[0m \u001b[31m8.1 MB/s\u001b[0m eta \u001b[36m0:00:01\u001b[0m\r\u001b[2K     \u001b[90m━━━━━━━━━━━━━━━━━━━━━━━━━━━━━━━━━━━━━━━━\u001b[0m \u001b[32m755.0/755.0 kB\u001b[0m \u001b[31m7.7 MB/s\u001b[0m eta \u001b[36m0:00:00\u001b[0m\n",
            "\u001b[?25hRequirement already satisfied: matplotlib>=3.3.0 in /usr/local/lib/python3.10/dist-packages (from ultralytics) (3.7.1)\n",
            "Requirement already satisfied: opencv-python>=4.6.0 in /usr/local/lib/python3.10/dist-packages (from ultralytics) (4.8.0.76)\n",
            "Requirement already satisfied: pillow>=7.1.2 in /usr/local/lib/python3.10/dist-packages (from ultralytics) (9.4.0)\n",
            "Requirement already satisfied: pyyaml>=5.3.1 in /usr/local/lib/python3.10/dist-packages (from ultralytics) (6.0.1)\n",
            "Requirement already satisfied: requests>=2.23.0 in /usr/local/lib/python3.10/dist-packages (from ultralytics) (2.31.0)\n",
            "Requirement already satisfied: scipy>=1.4.1 in /usr/local/lib/python3.10/dist-packages (from ultralytics) (1.11.4)\n",
            "Requirement already satisfied: torch>=1.8.0 in /usr/local/lib/python3.10/dist-packages (from ultralytics) (2.2.1+cu121)\n",
            "Requirement already satisfied: torchvision>=0.9.0 in /usr/local/lib/python3.10/dist-packages (from ultralytics) (0.17.1+cu121)\n",
            "Requirement already satisfied: tqdm>=4.64.0 in /usr/local/lib/python3.10/dist-packages (from ultralytics) (4.66.2)\n",
            "Requirement already satisfied: psutil in /usr/local/lib/python3.10/dist-packages (from ultralytics) (5.9.5)\n",
            "Requirement already satisfied: py-cpuinfo in /usr/local/lib/python3.10/dist-packages (from ultralytics) (9.0.0)\n",
            "Collecting thop>=0.1.1 (from ultralytics)\n",
            "  Downloading thop-0.1.1.post2209072238-py3-none-any.whl (15 kB)\n",
            "Requirement already satisfied: pandas>=1.1.4 in /usr/local/lib/python3.10/dist-packages (from ultralytics) (2.0.3)\n",
            "Requirement already satisfied: seaborn>=0.11.0 in /usr/local/lib/python3.10/dist-packages (from ultralytics) (0.13.1)\n",
            "Requirement already satisfied: contourpy>=1.0.1 in /usr/local/lib/python3.10/dist-packages (from matplotlib>=3.3.0->ultralytics) (1.2.1)\n",
            "Requirement already satisfied: cycler>=0.10 in /usr/local/lib/python3.10/dist-packages (from matplotlib>=3.3.0->ultralytics) (0.12.1)\n",
            "Requirement already satisfied: fonttools>=4.22.0 in /usr/local/lib/python3.10/dist-packages (from matplotlib>=3.3.0->ultralytics) (4.51.0)\n",
            "Requirement already satisfied: kiwisolver>=1.0.1 in /usr/local/lib/python3.10/dist-packages (from matplotlib>=3.3.0->ultralytics) (1.4.5)\n",
            "Requirement already satisfied: numpy>=1.20 in /usr/local/lib/python3.10/dist-packages (from matplotlib>=3.3.0->ultralytics) (1.25.2)\n",
            "Requirement already satisfied: packaging>=20.0 in /usr/local/lib/python3.10/dist-packages (from matplotlib>=3.3.0->ultralytics) (24.0)\n",
            "Requirement already satisfied: pyparsing>=2.3.1 in /usr/local/lib/python3.10/dist-packages (from matplotlib>=3.3.0->ultralytics) (3.1.2)\n",
            "Requirement already satisfied: python-dateutil>=2.7 in /usr/local/lib/python3.10/dist-packages (from matplotlib>=3.3.0->ultralytics) (2.8.2)\n",
            "Requirement already satisfied: pytz>=2020.1 in /usr/local/lib/python3.10/dist-packages (from pandas>=1.1.4->ultralytics) (2023.4)\n",
            "Requirement already satisfied: tzdata>=2022.1 in /usr/local/lib/python3.10/dist-packages (from pandas>=1.1.4->ultralytics) (2024.1)\n",
            "Requirement already satisfied: charset-normalizer<4,>=2 in /usr/local/lib/python3.10/dist-packages (from requests>=2.23.0->ultralytics) (3.3.2)\n",
            "Requirement already satisfied: idna<4,>=2.5 in /usr/local/lib/python3.10/dist-packages (from requests>=2.23.0->ultralytics) (3.7)\n",
            "Requirement already satisfied: urllib3<3,>=1.21.1 in /usr/local/lib/python3.10/dist-packages (from requests>=2.23.0->ultralytics) (2.0.7)\n",
            "Requirement already satisfied: certifi>=2017.4.17 in /usr/local/lib/python3.10/dist-packages (from requests>=2.23.0->ultralytics) (2024.2.2)\n",
            "Requirement already satisfied: filelock in /usr/local/lib/python3.10/dist-packages (from torch>=1.8.0->ultralytics) (3.13.4)\n",
            "Requirement already satisfied: typing-extensions>=4.8.0 in /usr/local/lib/python3.10/dist-packages (from torch>=1.8.0->ultralytics) (4.11.0)\n",
            "Requirement already satisfied: sympy in /usr/local/lib/python3.10/dist-packages (from torch>=1.8.0->ultralytics) (1.12)\n",
            "Requirement already satisfied: networkx in /usr/local/lib/python3.10/dist-packages (from torch>=1.8.0->ultralytics) (3.3)\n",
            "Requirement already satisfied: jinja2 in /usr/local/lib/python3.10/dist-packages (from torch>=1.8.0->ultralytics) (3.1.3)\n",
            "Requirement already satisfied: fsspec in /usr/local/lib/python3.10/dist-packages (from torch>=1.8.0->ultralytics) (2023.6.0)\n",
            "Collecting nvidia-cuda-nvrtc-cu12==12.1.105 (from torch>=1.8.0->ultralytics)\n",
            "  Using cached nvidia_cuda_nvrtc_cu12-12.1.105-py3-none-manylinux1_x86_64.whl (23.7 MB)\n",
            "Collecting nvidia-cuda-runtime-cu12==12.1.105 (from torch>=1.8.0->ultralytics)\n",
            "  Using cached nvidia_cuda_runtime_cu12-12.1.105-py3-none-manylinux1_x86_64.whl (823 kB)\n",
            "Collecting nvidia-cuda-cupti-cu12==12.1.105 (from torch>=1.8.0->ultralytics)\n",
            "  Using cached nvidia_cuda_cupti_cu12-12.1.105-py3-none-manylinux1_x86_64.whl (14.1 MB)\n",
            "Collecting nvidia-cudnn-cu12==8.9.2.26 (from torch>=1.8.0->ultralytics)\n",
            "  Using cached nvidia_cudnn_cu12-8.9.2.26-py3-none-manylinux1_x86_64.whl (731.7 MB)\n",
            "Collecting nvidia-cublas-cu12==12.1.3.1 (from torch>=1.8.0->ultralytics)\n",
            "  Using cached nvidia_cublas_cu12-12.1.3.1-py3-none-manylinux1_x86_64.whl (410.6 MB)\n",
            "Collecting nvidia-cufft-cu12==11.0.2.54 (from torch>=1.8.0->ultralytics)\n",
            "  Using cached nvidia_cufft_cu12-11.0.2.54-py3-none-manylinux1_x86_64.whl (121.6 MB)\n",
            "Collecting nvidia-curand-cu12==10.3.2.106 (from torch>=1.8.0->ultralytics)\n",
            "  Using cached nvidia_curand_cu12-10.3.2.106-py3-none-manylinux1_x86_64.whl (56.5 MB)\n",
            "Collecting nvidia-cusolver-cu12==11.4.5.107 (from torch>=1.8.0->ultralytics)\n",
            "  Using cached nvidia_cusolver_cu12-11.4.5.107-py3-none-manylinux1_x86_64.whl (124.2 MB)\n",
            "Collecting nvidia-cusparse-cu12==12.1.0.106 (from torch>=1.8.0->ultralytics)\n",
            "  Using cached nvidia_cusparse_cu12-12.1.0.106-py3-none-manylinux1_x86_64.whl (196.0 MB)\n",
            "Collecting nvidia-nccl-cu12==2.19.3 (from torch>=1.8.0->ultralytics)\n",
            "  Using cached nvidia_nccl_cu12-2.19.3-py3-none-manylinux1_x86_64.whl (166.0 MB)\n",
            "Collecting nvidia-nvtx-cu12==12.1.105 (from torch>=1.8.0->ultralytics)\n",
            "  Using cached nvidia_nvtx_cu12-12.1.105-py3-none-manylinux1_x86_64.whl (99 kB)\n",
            "Requirement already satisfied: triton==2.2.0 in /usr/local/lib/python3.10/dist-packages (from torch>=1.8.0->ultralytics) (2.2.0)\n",
            "Collecting nvidia-nvjitlink-cu12 (from nvidia-cusolver-cu12==11.4.5.107->torch>=1.8.0->ultralytics)\n",
            "  Using cached nvidia_nvjitlink_cu12-12.4.127-py3-none-manylinux2014_x86_64.whl (21.1 MB)\n",
            "Requirement already satisfied: six>=1.5 in /usr/local/lib/python3.10/dist-packages (from python-dateutil>=2.7->matplotlib>=3.3.0->ultralytics) (1.16.0)\n",
            "Requirement already satisfied: MarkupSafe>=2.0 in /usr/local/lib/python3.10/dist-packages (from jinja2->torch>=1.8.0->ultralytics) (2.1.5)\n",
            "Requirement already satisfied: mpmath>=0.19 in /usr/local/lib/python3.10/dist-packages (from sympy->torch>=1.8.0->ultralytics) (1.3.0)\n",
            "Installing collected packages: nvidia-nvtx-cu12, nvidia-nvjitlink-cu12, nvidia-nccl-cu12, nvidia-curand-cu12, nvidia-cufft-cu12, nvidia-cuda-runtime-cu12, nvidia-cuda-nvrtc-cu12, nvidia-cuda-cupti-cu12, nvidia-cublas-cu12, nvidia-cusparse-cu12, nvidia-cudnn-cu12, nvidia-cusolver-cu12, thop, ultralytics\n",
            "Successfully installed nvidia-cublas-cu12-12.1.3.1 nvidia-cuda-cupti-cu12-12.1.105 nvidia-cuda-nvrtc-cu12-12.1.105 nvidia-cuda-runtime-cu12-12.1.105 nvidia-cudnn-cu12-8.9.2.26 nvidia-cufft-cu12-11.0.2.54 nvidia-curand-cu12-10.3.2.106 nvidia-cusolver-cu12-11.4.5.107 nvidia-cusparse-cu12-12.1.0.106 nvidia-nccl-cu12-2.19.3 nvidia-nvjitlink-cu12-12.4.127 nvidia-nvtx-cu12-12.1.105 thop-0.1.1.post2209072238 ultralytics-8.2.5\n"
          ]
        }
      ],
      "source": [
        "!pip install ultralytics"
      ]
    },
    {
      "cell_type": "code",
      "execution_count": null,
      "metadata": {
        "id": "rsbbncgd3HhJ"
      },
      "outputs": [],
      "source": [
        "from ultralytics import YOLO"
      ]
    },
    {
      "cell_type": "code",
      "source": [],
      "metadata": {
        "id": "QSu9T-lTSYJH"
      },
      "execution_count": null,
      "outputs": []
    },
    {
      "cell_type": "markdown",
      "source": [],
      "metadata": {
        "id": "WRVDIkI6SbVm"
      }
    },
    {
      "cell_type": "code",
      "source": [],
      "metadata": {
        "id": "KqaMF3sAS8nW"
      },
      "execution_count": null,
      "outputs": []
    },
    {
      "cell_type": "markdown",
      "source": [],
      "metadata": {
        "id": "0TTAcICtSQLa"
      }
    },
    {
      "cell_type": "code",
      "source": [
        "from ultralytics import YOLO\n",
        "model = YOLO('yolov8n.yaml')\n",
        "result = model.train(data = '/content/custom_data (1).yaml',epochs = 15)"
      ],
      "metadata": {
        "id": "tu4MaHBQ3BIK",
        "colab": {
          "base_uri": "https://localhost:8080/"
        },
        "outputId": "686fc294-336e-4e57-8f80-f728def74e30"
      },
      "execution_count": null,
      "outputs": [
        {
          "output_type": "stream",
          "name": "stdout",
          "text": [
            "Ultralytics YOLOv8.2.5 🚀 Python-3.10.12 torch-2.2.1+cu121 CPU (Intel Xeon 2.20GHz)\n",
            "\u001b[34m\u001b[1mengine/trainer: \u001b[0mtask=detect, mode=train, model=yolov8n.yaml, data=/content/custom_data (1).yaml, epochs=15, time=None, patience=100, batch=16, imgsz=640, save=True, save_period=-1, cache=False, device=None, workers=8, project=None, name=train2, exist_ok=False, pretrained=True, optimizer=auto, verbose=True, seed=0, deterministic=True, single_cls=False, rect=False, cos_lr=False, close_mosaic=10, resume=False, amp=True, fraction=1.0, profile=False, freeze=None, multi_scale=False, overlap_mask=True, mask_ratio=4, dropout=0.0, val=True, split=val, save_json=False, save_hybrid=False, conf=None, iou=0.7, max_det=300, half=False, dnn=False, plots=True, source=None, vid_stride=1, stream_buffer=False, visualize=False, augment=False, agnostic_nms=False, classes=None, retina_masks=False, embed=None, show=False, save_frames=False, save_txt=False, save_conf=False, save_crop=False, show_labels=True, show_conf=True, show_boxes=True, line_width=None, format=torchscript, keras=False, optimize=False, int8=False, dynamic=False, simplify=False, opset=None, workspace=4, nms=False, lr0=0.01, lrf=0.01, momentum=0.937, weight_decay=0.0005, warmup_epochs=3.0, warmup_momentum=0.8, warmup_bias_lr=0.1, box=7.5, cls=0.5, dfl=1.5, pose=12.0, kobj=1.0, label_smoothing=0.0, nbs=64, hsv_h=0.015, hsv_s=0.7, hsv_v=0.4, degrees=0.0, translate=0.1, scale=0.5, shear=0.0, perspective=0.0, flipud=0.0, fliplr=0.5, bgr=0.0, mosaic=1.0, mixup=0.0, copy_paste=0.0, auto_augment=randaugment, erasing=0.4, crop_fraction=1.0, cfg=None, tracker=botsort.yaml, save_dir=runs/detect/train2\n",
            "Overriding model.yaml nc=80 with nc=1\n",
            "\n",
            "                   from  n    params  module                                       arguments                     \n",
            "  0                  -1  1       464  ultralytics.nn.modules.conv.Conv             [3, 16, 3, 2]                 \n",
            "  1                  -1  1      4672  ultralytics.nn.modules.conv.Conv             [16, 32, 3, 2]                \n",
            "  2                  -1  1      7360  ultralytics.nn.modules.block.C2f             [32, 32, 1, True]             \n",
            "  3                  -1  1     18560  ultralytics.nn.modules.conv.Conv             [32, 64, 3, 2]                \n",
            "  4                  -1  2     49664  ultralytics.nn.modules.block.C2f             [64, 64, 2, True]             \n",
            "  5                  -1  1     73984  ultralytics.nn.modules.conv.Conv             [64, 128, 3, 2]               \n",
            "  6                  -1  2    197632  ultralytics.nn.modules.block.C2f             [128, 128, 2, True]           \n",
            "  7                  -1  1    295424  ultralytics.nn.modules.conv.Conv             [128, 256, 3, 2]              \n",
            "  8                  -1  1    460288  ultralytics.nn.modules.block.C2f             [256, 256, 1, True]           \n",
            "  9                  -1  1    164608  ultralytics.nn.modules.block.SPPF            [256, 256, 5]                 \n",
            " 10                  -1  1         0  torch.nn.modules.upsampling.Upsample         [None, 2, 'nearest']          \n",
            " 11             [-1, 6]  1         0  ultralytics.nn.modules.conv.Concat           [1]                           \n",
            " 12                  -1  1    148224  ultralytics.nn.modules.block.C2f             [384, 128, 1]                 \n",
            " 13                  -1  1         0  torch.nn.modules.upsampling.Upsample         [None, 2, 'nearest']          \n",
            " 14             [-1, 4]  1         0  ultralytics.nn.modules.conv.Concat           [1]                           \n",
            " 15                  -1  1     37248  ultralytics.nn.modules.block.C2f             [192, 64, 1]                  \n",
            " 16                  -1  1     36992  ultralytics.nn.modules.conv.Conv             [64, 64, 3, 2]                \n",
            " 17            [-1, 12]  1         0  ultralytics.nn.modules.conv.Concat           [1]                           \n",
            " 18                  -1  1    123648  ultralytics.nn.modules.block.C2f             [192, 128, 1]                 \n",
            " 19                  -1  1    147712  ultralytics.nn.modules.conv.Conv             [128, 128, 3, 2]              \n",
            " 20             [-1, 9]  1         0  ultralytics.nn.modules.conv.Concat           [1]                           \n",
            " 21                  -1  1    493056  ultralytics.nn.modules.block.C2f             [384, 256, 1]                 \n",
            " 22        [15, 18, 21]  1    751507  ultralytics.nn.modules.head.Detect           [1, [64, 128, 256]]           \n",
            "YOLOv8n summary: 225 layers, 3011043 parameters, 3011027 gradients, 8.2 GFLOPs\n",
            "\n",
            "\u001b[34m\u001b[1mTensorBoard: \u001b[0mStart with 'tensorboard --logdir runs/detect/train2', view at http://localhost:6006/\n",
            "Freezing layer 'model.22.dfl.conv.weight'\n"
          ]
        },
        {
          "output_type": "stream",
          "name": "stderr",
          "text": [
            "\u001b[34m\u001b[1mtrain: \u001b[0mScanning /content/drive/MyDrive/chicken12/chicken_data/labels/train... 25 images, 0 backgrounds, 0 corrupt: 100%|██████████| 25/25 [00:48<00:00,  1.93s/it]"
          ]
        },
        {
          "output_type": "stream",
          "name": "stdout",
          "text": [
            "\u001b[34m\u001b[1mtrain: \u001b[0mNew cache created: /content/drive/MyDrive/chicken12/chicken_data/labels/train.cache\n"
          ]
        },
        {
          "output_type": "stream",
          "name": "stderr",
          "text": [
            "\n"
          ]
        },
        {
          "output_type": "stream",
          "name": "stdout",
          "text": [
            "\u001b[34m\u001b[1malbumentations: \u001b[0mBlur(p=0.01, blur_limit=(3, 7)), MedianBlur(p=0.01, blur_limit=(3, 7)), ToGray(p=0.01), CLAHE(p=0.01, clip_limit=(1, 4.0), tile_grid_size=(8, 8))\n"
          ]
        },
        {
          "output_type": "stream",
          "name": "stderr",
          "text": [
            "\u001b[34m\u001b[1mval: \u001b[0mScanning /content/drive/MyDrive/chicken12/chicken_data/labels/val... 13 images, 0 backgrounds, 0 corrupt: 100%|██████████| 13/13 [00:24<00:00,  1.88s/it]"
          ]
        },
        {
          "output_type": "stream",
          "name": "stdout",
          "text": [
            "\u001b[34m\u001b[1mval: \u001b[0mNew cache created: /content/drive/MyDrive/chicken12/chicken_data/labels/val.cache\n"
          ]
        },
        {
          "output_type": "stream",
          "name": "stderr",
          "text": [
            "\n"
          ]
        },
        {
          "output_type": "stream",
          "name": "stdout",
          "text": [
            "Plotting labels to runs/detect/train2/labels.jpg... \n",
            "\u001b[34m\u001b[1moptimizer:\u001b[0m 'optimizer=auto' found, ignoring 'lr0=0.01' and 'momentum=0.937' and determining best 'optimizer', 'lr0' and 'momentum' automatically... \n",
            "\u001b[34m\u001b[1moptimizer:\u001b[0m AdamW(lr=0.002, momentum=0.9) with parameter groups 57 weight(decay=0.0), 64 weight(decay=0.0005), 63 bias(decay=0.0)\n",
            "\u001b[34m\u001b[1mTensorBoard: \u001b[0mmodel graph visualization added ✅\n",
            "Image sizes 640 train, 640 val\n",
            "Using 0 dataloader workers\n",
            "Logging results to \u001b[1mruns/detect/train2\u001b[0m\n",
            "Starting training for 15 epochs...\n",
            "\n",
            "      Epoch    GPU_mem   box_loss   cls_loss   dfl_loss  Instances       Size\n"
          ]
        },
        {
          "output_type": "stream",
          "name": "stderr",
          "text": [
            "       1/15         0G      3.105      3.524      4.266         43        640: 100%|██████████| 2/2 [00:39<00:00, 19.63s/it]\n",
            "                 Class     Images  Instances      Box(P          R      mAP50  mAP50-95): 100%|██████████| 1/1 [00:14<00:00, 14.34s/it]"
          ]
        },
        {
          "output_type": "stream",
          "name": "stdout",
          "text": [
            "                   all         13         26    0.00513      0.769     0.0182    0.00506\n"
          ]
        },
        {
          "output_type": "stream",
          "name": "stderr",
          "text": [
            "\n"
          ]
        },
        {
          "output_type": "stream",
          "name": "stdout",
          "text": [
            "\n",
            "      Epoch    GPU_mem   box_loss   cls_loss   dfl_loss  Instances       Size\n"
          ]
        },
        {
          "output_type": "stream",
          "name": "stderr",
          "text": [
            "       2/15         0G      3.134        3.6      4.283         45        640: 100%|██████████| 2/2 [00:22<00:00, 11.45s/it]\n",
            "                 Class     Images  Instances      Box(P          R      mAP50  mAP50-95): 100%|██████████| 1/1 [00:07<00:00,  7.25s/it]"
          ]
        },
        {
          "output_type": "stream",
          "name": "stdout",
          "text": [
            "                   all         13         26    0.00462      0.692      0.018    0.00523\n"
          ]
        },
        {
          "output_type": "stream",
          "name": "stderr",
          "text": [
            "\n"
          ]
        },
        {
          "output_type": "stream",
          "name": "stdout",
          "text": [
            "\n",
            "      Epoch    GPU_mem   box_loss   cls_loss   dfl_loss  Instances       Size\n"
          ]
        },
        {
          "output_type": "stream",
          "name": "stderr",
          "text": [
            "       3/15         0G       3.12      3.505      4.233         29        640: 100%|██████████| 2/2 [00:21<00:00, 10.54s/it]\n",
            "                 Class     Images  Instances      Box(P          R      mAP50  mAP50-95): 100%|██████████| 1/1 [00:07<00:00,  7.66s/it]"
          ]
        },
        {
          "output_type": "stream",
          "name": "stdout",
          "text": [
            "                   all         13         26    0.00513      0.769     0.0278    0.00743\n"
          ]
        },
        {
          "output_type": "stream",
          "name": "stderr",
          "text": [
            "\n"
          ]
        },
        {
          "output_type": "stream",
          "name": "stdout",
          "text": [
            "\n",
            "      Epoch    GPU_mem   box_loss   cls_loss   dfl_loss  Instances       Size\n"
          ]
        },
        {
          "output_type": "stream",
          "name": "stderr",
          "text": [
            "       4/15         0G      3.129      3.537      4.262         45        640: 100%|██████████| 2/2 [00:20<00:00, 10.26s/it]\n",
            "                 Class     Images  Instances      Box(P          R      mAP50  mAP50-95): 100%|██████████| 1/1 [00:08<00:00,  8.42s/it]"
          ]
        },
        {
          "output_type": "stream",
          "name": "stdout",
          "text": [
            "                   all         13         26    0.00513      0.769     0.0251    0.00765\n"
          ]
        },
        {
          "output_type": "stream",
          "name": "stderr",
          "text": [
            "\n"
          ]
        },
        {
          "output_type": "stream",
          "name": "stdout",
          "text": [
            "\n",
            "      Epoch    GPU_mem   box_loss   cls_loss   dfl_loss  Instances       Size\n"
          ]
        },
        {
          "output_type": "stream",
          "name": "stderr",
          "text": [
            "       5/15         0G      2.999      3.502      4.244         39        640: 100%|██████████| 2/2 [00:21<00:00, 10.75s/it]\n",
            "                 Class     Images  Instances      Box(P          R      mAP50  mAP50-95): 100%|██████████| 1/1 [00:08<00:00,  8.35s/it]"
          ]
        },
        {
          "output_type": "stream",
          "name": "stdout",
          "text": [
            "                   all         13         26    0.00513      0.769     0.0234    0.00749\n"
          ]
        },
        {
          "output_type": "stream",
          "name": "stderr",
          "text": [
            "\n"
          ]
        },
        {
          "output_type": "stream",
          "name": "stdout",
          "text": [
            "Closing dataloader mosaic\n",
            "\u001b[34m\u001b[1malbumentations: \u001b[0mBlur(p=0.01, blur_limit=(3, 7)), MedianBlur(p=0.01, blur_limit=(3, 7)), ToGray(p=0.01), CLAHE(p=0.01, clip_limit=(1, 4.0), tile_grid_size=(8, 8))\n",
            "\n",
            "      Epoch    GPU_mem   box_loss   cls_loss   dfl_loss  Instances       Size\n"
          ]
        },
        {
          "output_type": "stream",
          "name": "stderr",
          "text": [
            "       6/15         0G      2.762       3.63       4.29         20        640: 100%|██████████| 2/2 [00:19<00:00,  9.93s/it]\n",
            "                 Class     Images  Instances      Box(P          R      mAP50  mAP50-95): 100%|██████████| 1/1 [00:08<00:00,  8.56s/it]"
          ]
        },
        {
          "output_type": "stream",
          "name": "stdout",
          "text": [
            "                   all         13         26    0.00513      0.769     0.0358     0.0109\n"
          ]
        },
        {
          "output_type": "stream",
          "name": "stderr",
          "text": [
            "\n"
          ]
        },
        {
          "output_type": "stream",
          "name": "stdout",
          "text": [
            "\n",
            "      Epoch    GPU_mem   box_loss   cls_loss   dfl_loss  Instances       Size\n"
          ]
        },
        {
          "output_type": "stream",
          "name": "stderr",
          "text": [
            "       7/15         0G      2.731      3.676       4.22         23        640: 100%|██████████| 2/2 [00:20<00:00, 10.23s/it]\n",
            "                 Class     Images  Instances      Box(P          R      mAP50  mAP50-95): 100%|██████████| 1/1 [00:08<00:00,  8.12s/it]"
          ]
        },
        {
          "output_type": "stream",
          "name": "stdout",
          "text": [
            "                   all         13         26    0.00513      0.769     0.0608     0.0159\n"
          ]
        },
        {
          "output_type": "stream",
          "name": "stderr",
          "text": [
            "\n"
          ]
        },
        {
          "output_type": "stream",
          "name": "stdout",
          "text": [
            "\n",
            "      Epoch    GPU_mem   box_loss   cls_loss   dfl_loss  Instances       Size\n"
          ]
        },
        {
          "output_type": "stream",
          "name": "stderr",
          "text": [
            "       8/15         0G      2.751      3.506      4.249         20        640: 100%|██████████| 2/2 [00:24<00:00, 12.32s/it]\n",
            "                 Class     Images  Instances      Box(P          R      mAP50  mAP50-95): 100%|██████████| 1/1 [00:07<00:00,  7.23s/it]"
          ]
        },
        {
          "output_type": "stream",
          "name": "stdout",
          "text": [
            "                   all         13         26    0.00487      0.731      0.057     0.0148\n"
          ]
        },
        {
          "output_type": "stream",
          "name": "stderr",
          "text": [
            "\n"
          ]
        },
        {
          "output_type": "stream",
          "name": "stdout",
          "text": [
            "\n",
            "      Epoch    GPU_mem   box_loss   cls_loss   dfl_loss  Instances       Size\n"
          ]
        },
        {
          "output_type": "stream",
          "name": "stderr",
          "text": [
            "       9/15         0G      2.763      3.665      4.218         24        640: 100%|██████████| 2/2 [00:20<00:00, 10.36s/it]\n",
            "                 Class     Images  Instances      Box(P          R      mAP50  mAP50-95): 100%|██████████| 1/1 [00:07<00:00,  7.88s/it]"
          ]
        },
        {
          "output_type": "stream",
          "name": "stdout",
          "text": [
            "                   all         13         26    0.00513      0.769      0.021    0.00599\n"
          ]
        },
        {
          "output_type": "stream",
          "name": "stderr",
          "text": [
            "\n"
          ]
        },
        {
          "output_type": "stream",
          "name": "stdout",
          "text": [
            "\n",
            "      Epoch    GPU_mem   box_loss   cls_loss   dfl_loss  Instances       Size\n"
          ]
        },
        {
          "output_type": "stream",
          "name": "stderr",
          "text": [
            "      10/15         0G      2.895      3.697      4.203         21        640: 100%|██████████| 2/2 [00:21<00:00, 10.94s/it]\n",
            "                 Class     Images  Instances      Box(P          R      mAP50  mAP50-95): 100%|██████████| 1/1 [00:08<00:00,  8.66s/it]"
          ]
        },
        {
          "output_type": "stream",
          "name": "stdout",
          "text": [
            "                   all         13         26    0.00513      0.769     0.0239    0.00839\n"
          ]
        },
        {
          "output_type": "stream",
          "name": "stderr",
          "text": [
            "\n"
          ]
        },
        {
          "output_type": "stream",
          "name": "stdout",
          "text": [
            "\n",
            "      Epoch    GPU_mem   box_loss   cls_loss   dfl_loss  Instances       Size\n"
          ]
        },
        {
          "output_type": "stream",
          "name": "stderr",
          "text": [
            "      11/15         0G       2.68       3.61        4.2         17        640: 100%|██████████| 2/2 [00:20<00:00, 10.12s/it]\n",
            "                 Class     Images  Instances      Box(P          R      mAP50  mAP50-95): 100%|██████████| 1/1 [00:08<00:00,  8.79s/it]"
          ]
        },
        {
          "output_type": "stream",
          "name": "stdout",
          "text": [
            "                   all         13         26    0.00513      0.769     0.0359     0.0102\n"
          ]
        },
        {
          "output_type": "stream",
          "name": "stderr",
          "text": [
            "\n"
          ]
        },
        {
          "output_type": "stream",
          "name": "stdout",
          "text": [
            "\n",
            "      Epoch    GPU_mem   box_loss   cls_loss   dfl_loss  Instances       Size\n"
          ]
        },
        {
          "output_type": "stream",
          "name": "stderr",
          "text": [
            "      12/15         0G      2.795      3.597      4.183         20        640: 100%|██████████| 2/2 [00:20<00:00, 10.03s/it]\n",
            "                 Class     Images  Instances      Box(P          R      mAP50  mAP50-95): 100%|██████████| 1/1 [00:08<00:00,  8.48s/it]"
          ]
        },
        {
          "output_type": "stream",
          "name": "stdout",
          "text": [
            "                   all         13         26    0.00513      0.769     0.0208    0.00706\n"
          ]
        },
        {
          "output_type": "stream",
          "name": "stderr",
          "text": [
            "\n"
          ]
        },
        {
          "output_type": "stream",
          "name": "stdout",
          "text": [
            "\n",
            "      Epoch    GPU_mem   box_loss   cls_loss   dfl_loss  Instances       Size\n"
          ]
        },
        {
          "output_type": "stream",
          "name": "stderr",
          "text": [
            "      13/15         0G      2.564      3.549       4.17         19        640: 100%|██████████| 2/2 [00:20<00:00, 10.47s/it]\n",
            "                 Class     Images  Instances      Box(P          R      mAP50  mAP50-95): 100%|██████████| 1/1 [00:07<00:00,  7.79s/it]"
          ]
        },
        {
          "output_type": "stream",
          "name": "stdout",
          "text": [
            "                   all         13         26    0.00513      0.769      0.021    0.00656\n"
          ]
        },
        {
          "output_type": "stream",
          "name": "stderr",
          "text": [
            "\n"
          ]
        },
        {
          "output_type": "stream",
          "name": "stdout",
          "text": [
            "\n",
            "      Epoch    GPU_mem   box_loss   cls_loss   dfl_loss  Instances       Size\n"
          ]
        },
        {
          "output_type": "stream",
          "name": "stderr",
          "text": [
            "      14/15         0G       2.67       3.54       4.15         24        640: 100%|██████████| 2/2 [00:20<00:00, 10.35s/it]\n",
            "                 Class     Images  Instances      Box(P          R      mAP50  mAP50-95): 100%|██████████| 1/1 [00:07<00:00,  7.84s/it]"
          ]
        },
        {
          "output_type": "stream",
          "name": "stdout",
          "text": [
            "                   all         13         26    0.00513      0.769     0.0177    0.00581\n"
          ]
        },
        {
          "output_type": "stream",
          "name": "stderr",
          "text": [
            "\n"
          ]
        },
        {
          "output_type": "stream",
          "name": "stdout",
          "text": [
            "\n",
            "      Epoch    GPU_mem   box_loss   cls_loss   dfl_loss  Instances       Size\n"
          ]
        },
        {
          "output_type": "stream",
          "name": "stderr",
          "text": [
            "      15/15         0G      2.707      3.456      4.163         19        640: 100%|██████████| 2/2 [00:21<00:00, 10.81s/it]\n",
            "                 Class     Images  Instances      Box(P          R      mAP50  mAP50-95): 100%|██████████| 1/1 [00:07<00:00,  7.12s/it]"
          ]
        },
        {
          "output_type": "stream",
          "name": "stdout",
          "text": [
            "                   all         13         26    0.00487      0.731     0.0198    0.00584\n"
          ]
        },
        {
          "output_type": "stream",
          "name": "stderr",
          "text": [
            "\n"
          ]
        },
        {
          "output_type": "stream",
          "name": "stdout",
          "text": [
            "\n",
            "15 epochs completed in 0.133 hours.\n",
            "Optimizer stripped from runs/detect/train2/weights/last.pt, 6.2MB\n",
            "Optimizer stripped from runs/detect/train2/weights/best.pt, 6.2MB\n",
            "\n",
            "Validating runs/detect/train2/weights/best.pt...\n",
            "Ultralytics YOLOv8.2.5 🚀 Python-3.10.12 torch-2.2.1+cu121 CPU (Intel Xeon 2.20GHz)\n",
            "YOLOv8n summary (fused): 168 layers, 3005843 parameters, 0 gradients, 8.1 GFLOPs\n"
          ]
        },
        {
          "output_type": "stream",
          "name": "stderr",
          "text": [
            "                 Class     Images  Instances      Box(P          R      mAP50  mAP50-95): 100%|██████████| 1/1 [00:07<00:00,  7.66s/it]\n"
          ]
        },
        {
          "output_type": "stream",
          "name": "stdout",
          "text": [
            "                   all         13         26    0.00513      0.769      0.033    0.00891\n",
            "Speed: 2.3ms preprocess, 203.1ms inference, 0.0ms loss, 2.7ms postprocess per image\n",
            "Results saved to \u001b[1mruns/detect/train2\u001b[0m\n"
          ]
        }
      ]
    },
    {
      "cell_type": "code",
      "source": [],
      "metadata": {
        "id": "975JvfR93mNd"
      },
      "execution_count": null,
      "outputs": []
    },
    {
      "cell_type": "code",
      "source": [],
      "metadata": {
        "id": "isVSk9hG3mSQ"
      },
      "execution_count": null,
      "outputs": []
    },
    {
      "cell_type": "markdown",
      "source": [
        "### predict"
      ],
      "metadata": {
        "id": "HvKCiOTjSSOo"
      }
    },
    {
      "cell_type": "code",
      "source": [
        "!yolo predict model='/content/runs/detect/train2/weights/best.pt' source='/content/drive/MyDrive/test/VID_20240429200646.mp4'"
      ],
      "metadata": {
        "colab": {
          "base_uri": "https://localhost:8080/"
        },
        "id": "5U_p6zlLYHcB",
        "outputId": "361bbe5c-ff01-4c34-e84e-a323339fcbf5"
      },
      "execution_count": null,
      "outputs": [
        {
          "output_type": "stream",
          "name": "stdout",
          "text": [
            "Ultralytics YOLOv8.2.5 🚀 Python-3.10.12 torch-2.2.1+cu121 CPU (Intel Xeon 2.20GHz)\n",
            "YOLOv8n summary (fused): 168 layers, 3005843 parameters, 0 gradients, 8.1 GFLOPs\n",
            "\n",
            "video 1/1 (frame 1/476) /content/drive/MyDrive/test/VID_20240429200646.mp4: 384x640 (no detections), 167.8ms\n",
            "video 1/1 (frame 2/476) /content/drive/MyDrive/test/VID_20240429200646.mp4: 384x640 (no detections), 126.0ms\n",
            "video 1/1 (frame 3/476) /content/drive/MyDrive/test/VID_20240429200646.mp4: 384x640 (no detections), 141.7ms\n",
            "video 1/1 (frame 4/476) /content/drive/MyDrive/test/VID_20240429200646.mp4: 384x640 (no detections), 133.7ms\n",
            "video 1/1 (frame 5/476) /content/drive/MyDrive/test/VID_20240429200646.mp4: 384x640 (no detections), 125.7ms\n",
            "video 1/1 (frame 6/476) /content/drive/MyDrive/test/VID_20240429200646.mp4: 384x640 (no detections), 122.3ms\n",
            "video 1/1 (frame 7/476) /content/drive/MyDrive/test/VID_20240429200646.mp4: 384x640 (no detections), 127.7ms\n",
            "video 1/1 (frame 8/476) /content/drive/MyDrive/test/VID_20240429200646.mp4: 384x640 (no detections), 131.8ms\n",
            "video 1/1 (frame 9/476) /content/drive/MyDrive/test/VID_20240429200646.mp4: 384x640 (no detections), 127.3ms\n",
            "video 1/1 (frame 10/476) /content/drive/MyDrive/test/VID_20240429200646.mp4: 384x640 (no detections), 123.2ms\n",
            "video 1/1 (frame 11/476) /content/drive/MyDrive/test/VID_20240429200646.mp4: 384x640 (no detections), 121.1ms\n",
            "video 1/1 (frame 12/476) /content/drive/MyDrive/test/VID_20240429200646.mp4: 384x640 (no detections), 132.2ms\n",
            "video 1/1 (frame 13/476) /content/drive/MyDrive/test/VID_20240429200646.mp4: 384x640 (no detections), 119.8ms\n",
            "video 1/1 (frame 14/476) /content/drive/MyDrive/test/VID_20240429200646.mp4: 384x640 (no detections), 124.0ms\n",
            "video 1/1 (frame 15/476) /content/drive/MyDrive/test/VID_20240429200646.mp4: 384x640 (no detections), 123.1ms\n",
            "video 1/1 (frame 16/476) /content/drive/MyDrive/test/VID_20240429200646.mp4: 384x640 (no detections), 135.3ms\n",
            "video 1/1 (frame 17/476) /content/drive/MyDrive/test/VID_20240429200646.mp4: 384x640 (no detections), 124.2ms\n",
            "video 1/1 (frame 18/476) /content/drive/MyDrive/test/VID_20240429200646.mp4: 384x640 (no detections), 130.1ms\n",
            "video 1/1 (frame 19/476) /content/drive/MyDrive/test/VID_20240429200646.mp4: 384x640 (no detections), 125.0ms\n",
            "video 1/1 (frame 20/476) /content/drive/MyDrive/test/VID_20240429200646.mp4: 384x640 (no detections), 135.7ms\n",
            "video 1/1 (frame 21/476) /content/drive/MyDrive/test/VID_20240429200646.mp4: 384x640 (no detections), 119.9ms\n",
            "video 1/1 (frame 22/476) /content/drive/MyDrive/test/VID_20240429200646.mp4: 384x640 (no detections), 199.3ms\n",
            "video 1/1 (frame 23/476) /content/drive/MyDrive/test/VID_20240429200646.mp4: 384x640 (no detections), 190.9ms\n",
            "video 1/1 (frame 24/476) /content/drive/MyDrive/test/VID_20240429200646.mp4: 384x640 (no detections), 193.2ms\n",
            "video 1/1 (frame 25/476) /content/drive/MyDrive/test/VID_20240429200646.mp4: 384x640 (no detections), 189.0ms\n",
            "video 1/1 (frame 26/476) /content/drive/MyDrive/test/VID_20240429200646.mp4: 384x640 (no detections), 201.8ms\n",
            "video 1/1 (frame 27/476) /content/drive/MyDrive/test/VID_20240429200646.mp4: 384x640 (no detections), 200.0ms\n",
            "video 1/1 (frame 28/476) /content/drive/MyDrive/test/VID_20240429200646.mp4: 384x640 (no detections), 196.9ms\n",
            "video 1/1 (frame 29/476) /content/drive/MyDrive/test/VID_20240429200646.mp4: 384x640 (no detections), 185.5ms\n",
            "video 1/1 (frame 30/476) /content/drive/MyDrive/test/VID_20240429200646.mp4: 384x640 (no detections), 219.4ms\n",
            "video 1/1 (frame 31/476) /content/drive/MyDrive/test/VID_20240429200646.mp4: 384x640 (no detections), 176.5ms\n",
            "video 1/1 (frame 32/476) /content/drive/MyDrive/test/VID_20240429200646.mp4: 384x640 (no detections), 188.7ms\n",
            "video 1/1 (frame 33/476) /content/drive/MyDrive/test/VID_20240429200646.mp4: 384x640 (no detections), 181.3ms\n",
            "video 1/1 (frame 34/476) /content/drive/MyDrive/test/VID_20240429200646.mp4: 384x640 (no detections), 205.7ms\n",
            "video 1/1 (frame 35/476) /content/drive/MyDrive/test/VID_20240429200646.mp4: 384x640 (no detections), 201.8ms\n",
            "video 1/1 (frame 36/476) /content/drive/MyDrive/test/VID_20240429200646.mp4: 384x640 (no detections), 203.1ms\n",
            "video 1/1 (frame 37/476) /content/drive/MyDrive/test/VID_20240429200646.mp4: 384x640 (no detections), 190.8ms\n",
            "video 1/1 (frame 38/476) /content/drive/MyDrive/test/VID_20240429200646.mp4: 384x640 (no detections), 151.4ms\n",
            "video 1/1 (frame 39/476) /content/drive/MyDrive/test/VID_20240429200646.mp4: 384x640 (no detections), 134.7ms\n",
            "video 1/1 (frame 40/476) /content/drive/MyDrive/test/VID_20240429200646.mp4: 384x640 (no detections), 122.8ms\n",
            "video 1/1 (frame 41/476) /content/drive/MyDrive/test/VID_20240429200646.mp4: 384x640 (no detections), 125.4ms\n",
            "video 1/1 (frame 42/476) /content/drive/MyDrive/test/VID_20240429200646.mp4: 384x640 (no detections), 120.9ms\n",
            "video 1/1 (frame 43/476) /content/drive/MyDrive/test/VID_20240429200646.mp4: 384x640 (no detections), 124.4ms\n",
            "video 1/1 (frame 44/476) /content/drive/MyDrive/test/VID_20240429200646.mp4: 384x640 (no detections), 127.1ms\n",
            "video 1/1 (frame 45/476) /content/drive/MyDrive/test/VID_20240429200646.mp4: 384x640 (no detections), 122.5ms\n",
            "video 1/1 (frame 46/476) /content/drive/MyDrive/test/VID_20240429200646.mp4: 384x640 (no detections), 126.0ms\n",
            "video 1/1 (frame 47/476) /content/drive/MyDrive/test/VID_20240429200646.mp4: 384x640 (no detections), 130.3ms\n",
            "video 1/1 (frame 48/476) /content/drive/MyDrive/test/VID_20240429200646.mp4: 384x640 (no detections), 122.1ms\n",
            "video 1/1 (frame 49/476) /content/drive/MyDrive/test/VID_20240429200646.mp4: 384x640 (no detections), 124.8ms\n",
            "video 1/1 (frame 50/476) /content/drive/MyDrive/test/VID_20240429200646.mp4: 384x640 (no detections), 121.3ms\n",
            "video 1/1 (frame 51/476) /content/drive/MyDrive/test/VID_20240429200646.mp4: 384x640 (no detections), 132.5ms\n",
            "video 1/1 (frame 52/476) /content/drive/MyDrive/test/VID_20240429200646.mp4: 384x640 (no detections), 122.0ms\n",
            "video 1/1 (frame 53/476) /content/drive/MyDrive/test/VID_20240429200646.mp4: 384x640 (no detections), 124.9ms\n",
            "video 1/1 (frame 54/476) /content/drive/MyDrive/test/VID_20240429200646.mp4: 384x640 (no detections), 121.6ms\n",
            "video 1/1 (frame 55/476) /content/drive/MyDrive/test/VID_20240429200646.mp4: 384x640 (no detections), 123.7ms\n",
            "video 1/1 (frame 56/476) /content/drive/MyDrive/test/VID_20240429200646.mp4: 384x640 (no detections), 125.9ms\n",
            "video 1/1 (frame 57/476) /content/drive/MyDrive/test/VID_20240429200646.mp4: 384x640 (no detections), 134.1ms\n",
            "video 1/1 (frame 58/476) /content/drive/MyDrive/test/VID_20240429200646.mp4: 384x640 (no detections), 125.0ms\n",
            "video 1/1 (frame 59/476) /content/drive/MyDrive/test/VID_20240429200646.mp4: 384x640 (no detections), 120.5ms\n",
            "video 1/1 (frame 60/476) /content/drive/MyDrive/test/VID_20240429200646.mp4: 384x640 (no detections), 132.9ms\n",
            "video 1/1 (frame 61/476) /content/drive/MyDrive/test/VID_20240429200646.mp4: 384x640 (no detections), 126.6ms\n",
            "video 1/1 (frame 62/476) /content/drive/MyDrive/test/VID_20240429200646.mp4: 384x640 (no detections), 124.6ms\n",
            "video 1/1 (frame 63/476) /content/drive/MyDrive/test/VID_20240429200646.mp4: 384x640 (no detections), 122.5ms\n",
            "video 1/1 (frame 64/476) /content/drive/MyDrive/test/VID_20240429200646.mp4: 384x640 (no detections), 127.2ms\n",
            "video 1/1 (frame 65/476) /content/drive/MyDrive/test/VID_20240429200646.mp4: 384x640 (no detections), 125.6ms\n",
            "video 1/1 (frame 66/476) /content/drive/MyDrive/test/VID_20240429200646.mp4: 384x640 (no detections), 121.2ms\n",
            "video 1/1 (frame 67/476) /content/drive/MyDrive/test/VID_20240429200646.mp4: 384x640 (no detections), 124.0ms\n",
            "video 1/1 (frame 68/476) /content/drive/MyDrive/test/VID_20240429200646.mp4: 384x640 (no detections), 123.4ms\n",
            "video 1/1 (frame 69/476) /content/drive/MyDrive/test/VID_20240429200646.mp4: 384x640 (no detections), 139.0ms\n",
            "video 1/1 (frame 70/476) /content/drive/MyDrive/test/VID_20240429200646.mp4: 384x640 (no detections), 137.1ms\n",
            "video 1/1 (frame 71/476) /content/drive/MyDrive/test/VID_20240429200646.mp4: 384x640 (no detections), 123.9ms\n",
            "video 1/1 (frame 72/476) /content/drive/MyDrive/test/VID_20240429200646.mp4: 384x640 (no detections), 125.6ms\n",
            "video 1/1 (frame 73/476) /content/drive/MyDrive/test/VID_20240429200646.mp4: 384x640 (no detections), 125.0ms\n",
            "video 1/1 (frame 74/476) /content/drive/MyDrive/test/VID_20240429200646.mp4: 384x640 (no detections), 122.1ms\n",
            "video 1/1 (frame 75/476) /content/drive/MyDrive/test/VID_20240429200646.mp4: 384x640 (no detections), 124.9ms\n",
            "video 1/1 (frame 76/476) /content/drive/MyDrive/test/VID_20240429200646.mp4: 384x640 (no detections), 133.1ms\n",
            "video 1/1 (frame 77/476) /content/drive/MyDrive/test/VID_20240429200646.mp4: 384x640 (no detections), 134.7ms\n",
            "video 1/1 (frame 78/476) /content/drive/MyDrive/test/VID_20240429200646.mp4: 384x640 (no detections), 131.4ms\n",
            "video 1/1 (frame 79/476) /content/drive/MyDrive/test/VID_20240429200646.mp4: 384x640 (no detections), 125.0ms\n",
            "video 1/1 (frame 80/476) /content/drive/MyDrive/test/VID_20240429200646.mp4: 384x640 (no detections), 136.2ms\n",
            "video 1/1 (frame 81/476) /content/drive/MyDrive/test/VID_20240429200646.mp4: 384x640 (no detections), 120.0ms\n",
            "video 1/1 (frame 82/476) /content/drive/MyDrive/test/VID_20240429200646.mp4: 384x640 (no detections), 146.0ms\n",
            "video 1/1 (frame 83/476) /content/drive/MyDrive/test/VID_20240429200646.mp4: 384x640 (no detections), 122.4ms\n",
            "video 1/1 (frame 84/476) /content/drive/MyDrive/test/VID_20240429200646.mp4: 384x640 (no detections), 135.1ms\n",
            "video 1/1 (frame 85/476) /content/drive/MyDrive/test/VID_20240429200646.mp4: 384x640 (no detections), 120.2ms\n",
            "video 1/1 (frame 86/476) /content/drive/MyDrive/test/VID_20240429200646.mp4: 384x640 (no detections), 128.0ms\n",
            "video 1/1 (frame 87/476) /content/drive/MyDrive/test/VID_20240429200646.mp4: 384x640 (no detections), 123.2ms\n",
            "video 1/1 (frame 88/476) /content/drive/MyDrive/test/VID_20240429200646.mp4: 384x640 (no detections), 130.5ms\n",
            "video 1/1 (frame 89/476) /content/drive/MyDrive/test/VID_20240429200646.mp4: 384x640 (no detections), 119.4ms\n",
            "video 1/1 (frame 90/476) /content/drive/MyDrive/test/VID_20240429200646.mp4: 384x640 (no detections), 128.7ms\n",
            "video 1/1 (frame 91/476) /content/drive/MyDrive/test/VID_20240429200646.mp4: 384x640 (no detections), 125.9ms\n",
            "video 1/1 (frame 92/476) /content/drive/MyDrive/test/VID_20240429200646.mp4: 384x640 (no detections), 128.4ms\n",
            "video 1/1 (frame 93/476) /content/drive/MyDrive/test/VID_20240429200646.mp4: 384x640 (no detections), 123.5ms\n",
            "video 1/1 (frame 94/476) /content/drive/MyDrive/test/VID_20240429200646.mp4: 384x640 (no detections), 121.8ms\n",
            "video 1/1 (frame 95/476) /content/drive/MyDrive/test/VID_20240429200646.mp4: 384x640 (no detections), 144.0ms\n",
            "video 1/1 (frame 96/476) /content/drive/MyDrive/test/VID_20240429200646.mp4: 384x640 (no detections), 126.6ms\n",
            "video 1/1 (frame 97/476) /content/drive/MyDrive/test/VID_20240429200646.mp4: 384x640 (no detections), 124.6ms\n",
            "video 1/1 (frame 98/476) /content/drive/MyDrive/test/VID_20240429200646.mp4: 384x640 (no detections), 124.7ms\n",
            "video 1/1 (frame 99/476) /content/drive/MyDrive/test/VID_20240429200646.mp4: 384x640 (no detections), 183.8ms\n",
            "video 1/1 (frame 100/476) /content/drive/MyDrive/test/VID_20240429200646.mp4: 384x640 (no detections), 208.9ms\n",
            "video 1/1 (frame 101/476) /content/drive/MyDrive/test/VID_20240429200646.mp4: 384x640 (no detections), 197.4ms\n",
            "video 1/1 (frame 102/476) /content/drive/MyDrive/test/VID_20240429200646.mp4: 384x640 (no detections), 183.3ms\n",
            "video 1/1 (frame 103/476) /content/drive/MyDrive/test/VID_20240429200646.mp4: 384x640 (no detections), 183.1ms\n",
            "video 1/1 (frame 104/476) /content/drive/MyDrive/test/VID_20240429200646.mp4: 384x640 (no detections), 200.1ms\n",
            "video 1/1 (frame 105/476) /content/drive/MyDrive/test/VID_20240429200646.mp4: 384x640 (no detections), 187.4ms\n",
            "video 1/1 (frame 106/476) /content/drive/MyDrive/test/VID_20240429200646.mp4: 384x640 (no detections), 209.0ms\n",
            "video 1/1 (frame 107/476) /content/drive/MyDrive/test/VID_20240429200646.mp4: 384x640 (no detections), 180.8ms\n",
            "video 1/1 (frame 108/476) /content/drive/MyDrive/test/VID_20240429200646.mp4: 384x640 (no detections), 189.7ms\n",
            "video 1/1 (frame 109/476) /content/drive/MyDrive/test/VID_20240429200646.mp4: 384x640 (no detections), 182.6ms\n",
            "video 1/1 (frame 110/476) /content/drive/MyDrive/test/VID_20240429200646.mp4: 384x640 (no detections), 173.8ms\n",
            "video 1/1 (frame 111/476) /content/drive/MyDrive/test/VID_20240429200646.mp4: 384x640 (no detections), 204.1ms\n",
            "video 1/1 (frame 112/476) /content/drive/MyDrive/test/VID_20240429200646.mp4: 384x640 (no detections), 198.5ms\n",
            "video 1/1 (frame 113/476) /content/drive/MyDrive/test/VID_20240429200646.mp4: 384x640 (no detections), 191.6ms\n",
            "video 1/1 (frame 114/476) /content/drive/MyDrive/test/VID_20240429200646.mp4: 384x640 (no detections), 206.2ms\n",
            "video 1/1 (frame 115/476) /content/drive/MyDrive/test/VID_20240429200646.mp4: 384x640 (no detections), 147.6ms\n",
            "video 1/1 (frame 116/476) /content/drive/MyDrive/test/VID_20240429200646.mp4: 384x640 (no detections), 131.3ms\n",
            "video 1/1 (frame 117/476) /content/drive/MyDrive/test/VID_20240429200646.mp4: 384x640 (no detections), 130.2ms\n",
            "video 1/1 (frame 118/476) /content/drive/MyDrive/test/VID_20240429200646.mp4: 384x640 (no detections), 130.8ms\n",
            "video 1/1 (frame 119/476) /content/drive/MyDrive/test/VID_20240429200646.mp4: 384x640 (no detections), 117.8ms\n",
            "video 1/1 (frame 120/476) /content/drive/MyDrive/test/VID_20240429200646.mp4: 384x640 (no detections), 128.8ms\n",
            "video 1/1 (frame 121/476) /content/drive/MyDrive/test/VID_20240429200646.mp4: 384x640 (no detections), 125.7ms\n",
            "video 1/1 (frame 122/476) /content/drive/MyDrive/test/VID_20240429200646.mp4: 384x640 (no detections), 129.8ms\n",
            "video 1/1 (frame 123/476) /content/drive/MyDrive/test/VID_20240429200646.mp4: 384x640 (no detections), 123.4ms\n",
            "video 1/1 (frame 124/476) /content/drive/MyDrive/test/VID_20240429200646.mp4: 384x640 (no detections), 145.8ms\n",
            "video 1/1 (frame 125/476) /content/drive/MyDrive/test/VID_20240429200646.mp4: 384x640 (no detections), 122.5ms\n",
            "video 1/1 (frame 126/476) /content/drive/MyDrive/test/VID_20240429200646.mp4: 384x640 (no detections), 127.4ms\n",
            "video 1/1 (frame 127/476) /content/drive/MyDrive/test/VID_20240429200646.mp4: 384x640 (no detections), 124.4ms\n",
            "video 1/1 (frame 128/476) /content/drive/MyDrive/test/VID_20240429200646.mp4: 384x640 (no detections), 127.5ms\n",
            "video 1/1 (frame 129/476) /content/drive/MyDrive/test/VID_20240429200646.mp4: 384x640 (no detections), 123.7ms\n",
            "video 1/1 (frame 130/476) /content/drive/MyDrive/test/VID_20240429200646.mp4: 384x640 (no detections), 132.6ms\n",
            "video 1/1 (frame 131/476) /content/drive/MyDrive/test/VID_20240429200646.mp4: 384x640 (no detections), 126.7ms\n",
            "video 1/1 (frame 132/476) /content/drive/MyDrive/test/VID_20240429200646.mp4: 384x640 (no detections), 128.3ms\n",
            "video 1/1 (frame 133/476) /content/drive/MyDrive/test/VID_20240429200646.mp4: 384x640 (no detections), 121.5ms\n",
            "video 1/1 (frame 134/476) /content/drive/MyDrive/test/VID_20240429200646.mp4: 384x640 (no detections), 126.1ms\n",
            "video 1/1 (frame 135/476) /content/drive/MyDrive/test/VID_20240429200646.mp4: 384x640 (no detections), 118.4ms\n",
            "video 1/1 (frame 136/476) /content/drive/MyDrive/test/VID_20240429200646.mp4: 384x640 (no detections), 134.6ms\n",
            "video 1/1 (frame 137/476) /content/drive/MyDrive/test/VID_20240429200646.mp4: 384x640 (no detections), 117.8ms\n",
            "video 1/1 (frame 138/476) /content/drive/MyDrive/test/VID_20240429200646.mp4: 384x640 (no detections), 132.2ms\n",
            "video 1/1 (frame 139/476) /content/drive/MyDrive/test/VID_20240429200646.mp4: 384x640 (no detections), 121.9ms\n",
            "video 1/1 (frame 140/476) /content/drive/MyDrive/test/VID_20240429200646.mp4: 384x640 (no detections), 126.2ms\n",
            "video 1/1 (frame 141/476) /content/drive/MyDrive/test/VID_20240429200646.mp4: 384x640 (no detections), 121.6ms\n",
            "video 1/1 (frame 142/476) /content/drive/MyDrive/test/VID_20240429200646.mp4: 384x640 (no detections), 127.3ms\n",
            "video 1/1 (frame 143/476) /content/drive/MyDrive/test/VID_20240429200646.mp4: 384x640 (no detections), 136.3ms\n",
            "video 1/1 (frame 144/476) /content/drive/MyDrive/test/VID_20240429200646.mp4: 384x640 (no detections), 124.5ms\n",
            "video 1/1 (frame 145/476) /content/drive/MyDrive/test/VID_20240429200646.mp4: 384x640 (no detections), 121.4ms\n",
            "video 1/1 (frame 146/476) /content/drive/MyDrive/test/VID_20240429200646.mp4: 384x640 (no detections), 127.7ms\n",
            "video 1/1 (frame 147/476) /content/drive/MyDrive/test/VID_20240429200646.mp4: 384x640 (no detections), 122.1ms\n",
            "video 1/1 (frame 148/476) /content/drive/MyDrive/test/VID_20240429200646.mp4: 384x640 (no detections), 128.5ms\n",
            "video 1/1 (frame 149/476) /content/drive/MyDrive/test/VID_20240429200646.mp4: 384x640 (no detections), 129.5ms\n",
            "video 1/1 (frame 150/476) /content/drive/MyDrive/test/VID_20240429200646.mp4: 384x640 (no detections), 140.0ms\n",
            "video 1/1 (frame 151/476) /content/drive/MyDrive/test/VID_20240429200646.mp4: 384x640 (no detections), 121.6ms\n",
            "video 1/1 (frame 152/476) /content/drive/MyDrive/test/VID_20240429200646.mp4: 384x640 (no detections), 120.7ms\n",
            "video 1/1 (frame 153/476) /content/drive/MyDrive/test/VID_20240429200646.mp4: 384x640 (no detections), 125.4ms\n",
            "video 1/1 (frame 154/476) /content/drive/MyDrive/test/VID_20240429200646.mp4: 384x640 (no detections), 125.9ms\n",
            "video 1/1 (frame 155/476) /content/drive/MyDrive/test/VID_20240429200646.mp4: 384x640 (no detections), 135.4ms\n",
            "video 1/1 (frame 156/476) /content/drive/MyDrive/test/VID_20240429200646.mp4: 384x640 (no detections), 133.5ms\n",
            "video 1/1 (frame 157/476) /content/drive/MyDrive/test/VID_20240429200646.mp4: 384x640 (no detections), 127.8ms\n",
            "video 1/1 (frame 158/476) /content/drive/MyDrive/test/VID_20240429200646.mp4: 384x640 (no detections), 125.9ms\n",
            "video 1/1 (frame 159/476) /content/drive/MyDrive/test/VID_20240429200646.mp4: 384x640 (no detections), 131.8ms\n",
            "video 1/1 (frame 160/476) /content/drive/MyDrive/test/VID_20240429200646.mp4: 384x640 (no detections), 127.2ms\n",
            "video 1/1 (frame 161/476) /content/drive/MyDrive/test/VID_20240429200646.mp4: 384x640 (no detections), 127.3ms\n",
            "video 1/1 (frame 162/476) /content/drive/MyDrive/test/VID_20240429200646.mp4: 384x640 (no detections), 128.6ms\n",
            "video 1/1 (frame 163/476) /content/drive/MyDrive/test/VID_20240429200646.mp4: 384x640 (no detections), 125.7ms\n",
            "video 1/1 (frame 164/476) /content/drive/MyDrive/test/VID_20240429200646.mp4: 384x640 (no detections), 120.9ms\n",
            "video 1/1 (frame 165/476) /content/drive/MyDrive/test/VID_20240429200646.mp4: 384x640 (no detections), 125.6ms\n",
            "video 1/1 (frame 166/476) /content/drive/MyDrive/test/VID_20240429200646.mp4: 384x640 (no detections), 122.2ms\n",
            "video 1/1 (frame 167/476) /content/drive/MyDrive/test/VID_20240429200646.mp4: 384x640 (no detections), 136.1ms\n",
            "video 1/1 (frame 168/476) /content/drive/MyDrive/test/VID_20240429200646.mp4: 384x640 (no detections), 139.5ms\n",
            "video 1/1 (frame 169/476) /content/drive/MyDrive/test/VID_20240429200646.mp4: 384x640 (no detections), 118.1ms\n",
            "video 1/1 (frame 170/476) /content/drive/MyDrive/test/VID_20240429200646.mp4: 384x640 (no detections), 128.1ms\n",
            "video 1/1 (frame 171/476) /content/drive/MyDrive/test/VID_20240429200646.mp4: 384x640 (no detections), 124.3ms\n",
            "video 1/1 (frame 172/476) /content/drive/MyDrive/test/VID_20240429200646.mp4: 384x640 (no detections), 132.3ms\n",
            "video 1/1 (frame 173/476) /content/drive/MyDrive/test/VID_20240429200646.mp4: 384x640 (no detections), 119.2ms\n",
            "video 1/1 (frame 174/476) /content/drive/MyDrive/test/VID_20240429200646.mp4: 384x640 (no detections), 132.3ms\n",
            "video 1/1 (frame 175/476) /content/drive/MyDrive/test/VID_20240429200646.mp4: 384x640 (no detections), 120.5ms\n",
            "video 1/1 (frame 176/476) /content/drive/MyDrive/test/VID_20240429200646.mp4: 384x640 (no detections), 198.9ms\n",
            "video 1/1 (frame 177/476) /content/drive/MyDrive/test/VID_20240429200646.mp4: 384x640 (no detections), 195.9ms\n",
            "video 1/1 (frame 178/476) /content/drive/MyDrive/test/VID_20240429200646.mp4: 384x640 (no detections), 183.0ms\n",
            "video 1/1 (frame 179/476) /content/drive/MyDrive/test/VID_20240429200646.mp4: 384x640 (no detections), 322.4ms\n",
            "video 1/1 (frame 180/476) /content/drive/MyDrive/test/VID_20240429200646.mp4: 384x640 (no detections), 221.9ms\n",
            "video 1/1 (frame 181/476) /content/drive/MyDrive/test/VID_20240429200646.mp4: 384x640 (no detections), 255.7ms\n",
            "video 1/1 (frame 182/476) /content/drive/MyDrive/test/VID_20240429200646.mp4: 384x640 (no detections), 201.7ms\n",
            "video 1/1 (frame 183/476) /content/drive/MyDrive/test/VID_20240429200646.mp4: 384x640 (no detections), 202.8ms\n",
            "video 1/1 (frame 184/476) /content/drive/MyDrive/test/VID_20240429200646.mp4: 384x640 (no detections), 186.0ms\n",
            "video 1/1 (frame 185/476) /content/drive/MyDrive/test/VID_20240429200646.mp4: 384x640 (no detections), 175.2ms\n",
            "video 1/1 (frame 186/476) /content/drive/MyDrive/test/VID_20240429200646.mp4: 384x640 (no detections), 196.0ms\n",
            "video 1/1 (frame 187/476) /content/drive/MyDrive/test/VID_20240429200646.mp4: 384x640 (no detections), 192.2ms\n",
            "video 1/1 (frame 188/476) /content/drive/MyDrive/test/VID_20240429200646.mp4: 384x640 (no detections), 202.2ms\n",
            "video 1/1 (frame 189/476) /content/drive/MyDrive/test/VID_20240429200646.mp4: 384x640 (no detections), 187.4ms\n",
            "video 1/1 (frame 190/476) /content/drive/MyDrive/test/VID_20240429200646.mp4: 384x640 (no detections), 203.3ms\n",
            "video 1/1 (frame 191/476) /content/drive/MyDrive/test/VID_20240429200646.mp4: 384x640 (no detections), 115.5ms\n",
            "video 1/1 (frame 192/476) /content/drive/MyDrive/test/VID_20240429200646.mp4: 384x640 (no detections), 124.0ms\n",
            "video 1/1 (frame 193/476) /content/drive/MyDrive/test/VID_20240429200646.mp4: 384x640 (no detections), 120.3ms\n",
            "video 1/1 (frame 194/476) /content/drive/MyDrive/test/VID_20240429200646.mp4: 384x640 (no detections), 118.9ms\n",
            "video 1/1 (frame 195/476) /content/drive/MyDrive/test/VID_20240429200646.mp4: 384x640 (no detections), 124.0ms\n",
            "video 1/1 (frame 196/476) /content/drive/MyDrive/test/VID_20240429200646.mp4: 384x640 (no detections), 139.6ms\n",
            "video 1/1 (frame 197/476) /content/drive/MyDrive/test/VID_20240429200646.mp4: 384x640 (no detections), 121.0ms\n",
            "video 1/1 (frame 198/476) /content/drive/MyDrive/test/VID_20240429200646.mp4: 384x640 (no detections), 124.1ms\n",
            "video 1/1 (frame 199/476) /content/drive/MyDrive/test/VID_20240429200646.mp4: 384x640 (no detections), 120.5ms\n",
            "video 1/1 (frame 200/476) /content/drive/MyDrive/test/VID_20240429200646.mp4: 384x640 (no detections), 120.0ms\n",
            "video 1/1 (frame 201/476) /content/drive/MyDrive/test/VID_20240429200646.mp4: 384x640 (no detections), 127.0ms\n",
            "video 1/1 (frame 202/476) /content/drive/MyDrive/test/VID_20240429200646.mp4: 384x640 (no detections), 126.7ms\n",
            "video 1/1 (frame 203/476) /content/drive/MyDrive/test/VID_20240429200646.mp4: 384x640 (no detections), 135.6ms\n",
            "video 1/1 (frame 204/476) /content/drive/MyDrive/test/VID_20240429200646.mp4: 384x640 (no detections), 126.5ms\n",
            "video 1/1 (frame 205/476) /content/drive/MyDrive/test/VID_20240429200646.mp4: 384x640 (no detections), 119.6ms\n",
            "video 1/1 (frame 206/476) /content/drive/MyDrive/test/VID_20240429200646.mp4: 384x640 (no detections), 121.6ms\n",
            "video 1/1 (frame 207/476) /content/drive/MyDrive/test/VID_20240429200646.mp4: 384x640 (no detections), 124.5ms\n",
            "video 1/1 (frame 208/476) /content/drive/MyDrive/test/VID_20240429200646.mp4: 384x640 (no detections), 129.8ms\n",
            "video 1/1 (frame 209/476) /content/drive/MyDrive/test/VID_20240429200646.mp4: 384x640 (no detections), 129.8ms\n",
            "video 1/1 (frame 210/476) /content/drive/MyDrive/test/VID_20240429200646.mp4: 384x640 (no detections), 136.5ms\n",
            "video 1/1 (frame 211/476) /content/drive/MyDrive/test/VID_20240429200646.mp4: 384x640 (no detections), 124.4ms\n",
            "video 1/1 (frame 212/476) /content/drive/MyDrive/test/VID_20240429200646.mp4: 384x640 (no detections), 124.2ms\n",
            "video 1/1 (frame 213/476) /content/drive/MyDrive/test/VID_20240429200646.mp4: 384x640 (no detections), 126.9ms\n",
            "video 1/1 (frame 214/476) /content/drive/MyDrive/test/VID_20240429200646.mp4: 384x640 (no detections), 125.4ms\n",
            "video 1/1 (frame 215/476) /content/drive/MyDrive/test/VID_20240429200646.mp4: 384x640 (no detections), 131.3ms\n",
            "video 1/1 (frame 216/476) /content/drive/MyDrive/test/VID_20240429200646.mp4: 384x640 (no detections), 134.9ms\n",
            "video 1/1 (frame 217/476) /content/drive/MyDrive/test/VID_20240429200646.mp4: 384x640 (no detections), 121.1ms\n",
            "video 1/1 (frame 218/476) /content/drive/MyDrive/test/VID_20240429200646.mp4: 384x640 (no detections), 130.8ms\n",
            "video 1/1 (frame 219/476) /content/drive/MyDrive/test/VID_20240429200646.mp4: 384x640 (no detections), 125.5ms\n",
            "video 1/1 (frame 220/476) /content/drive/MyDrive/test/VID_20240429200646.mp4: 384x640 (no detections), 128.9ms\n",
            "video 1/1 (frame 221/476) /content/drive/MyDrive/test/VID_20240429200646.mp4: 384x640 (no detections), 123.8ms\n",
            "video 1/1 (frame 222/476) /content/drive/MyDrive/test/VID_20240429200646.mp4: 384x640 (no detections), 119.7ms\n",
            "video 1/1 (frame 223/476) /content/drive/MyDrive/test/VID_20240429200646.mp4: 384x640 (no detections), 125.7ms\n",
            "video 1/1 (frame 224/476) /content/drive/MyDrive/test/VID_20240429200646.mp4: 384x640 (no detections), 120.7ms\n",
            "video 1/1 (frame 225/476) /content/drive/MyDrive/test/VID_20240429200646.mp4: 384x640 (no detections), 121.6ms\n",
            "video 1/1 (frame 226/476) /content/drive/MyDrive/test/VID_20240429200646.mp4: 384x640 (no detections), 125.8ms\n",
            "video 1/1 (frame 227/476) /content/drive/MyDrive/test/VID_20240429200646.mp4: 384x640 (no detections), 119.2ms\n",
            "video 1/1 (frame 228/476) /content/drive/MyDrive/test/VID_20240429200646.mp4: 384x640 (no detections), 136.8ms\n",
            "video 1/1 (frame 229/476) /content/drive/MyDrive/test/VID_20240429200646.mp4: 384x640 (no detections), 122.0ms\n",
            "video 1/1 (frame 230/476) /content/drive/MyDrive/test/VID_20240429200646.mp4: 384x640 (no detections), 126.4ms\n",
            "video 1/1 (frame 231/476) /content/drive/MyDrive/test/VID_20240429200646.mp4: 384x640 (no detections), 125.8ms\n",
            "video 1/1 (frame 232/476) /content/drive/MyDrive/test/VID_20240429200646.mp4: 384x640 (no detections), 128.1ms\n",
            "video 1/1 (frame 233/476) /content/drive/MyDrive/test/VID_20240429200646.mp4: 384x640 (no detections), 122.0ms\n",
            "video 1/1 (frame 234/476) /content/drive/MyDrive/test/VID_20240429200646.mp4: 384x640 (no detections), 137.7ms\n",
            "video 1/1 (frame 235/476) /content/drive/MyDrive/test/VID_20240429200646.mp4: 384x640 (no detections), 126.1ms\n",
            "video 1/1 (frame 236/476) /content/drive/MyDrive/test/VID_20240429200646.mp4: 384x640 (no detections), 130.5ms\n",
            "video 1/1 (frame 237/476) /content/drive/MyDrive/test/VID_20240429200646.mp4: 384x640 (no detections), 127.7ms\n",
            "video 1/1 (frame 238/476) /content/drive/MyDrive/test/VID_20240429200646.mp4: 384x640 (no detections), 128.7ms\n",
            "video 1/1 (frame 239/476) /content/drive/MyDrive/test/VID_20240429200646.mp4: 384x640 (no detections), 126.1ms\n",
            "video 1/1 (frame 240/476) /content/drive/MyDrive/test/VID_20240429200646.mp4: 384x640 (no detections), 143.9ms\n",
            "video 1/1 (frame 241/476) /content/drive/MyDrive/test/VID_20240429200646.mp4: 384x640 (no detections), 120.8ms\n",
            "video 1/1 (frame 242/476) /content/drive/MyDrive/test/VID_20240429200646.mp4: 384x640 (no detections), 131.5ms\n",
            "video 1/1 (frame 243/476) /content/drive/MyDrive/test/VID_20240429200646.mp4: 384x640 (no detections), 125.9ms\n",
            "video 1/1 (frame 244/476) /content/drive/MyDrive/test/VID_20240429200646.mp4: 384x640 (no detections), 122.9ms\n",
            "video 1/1 (frame 245/476) /content/drive/MyDrive/test/VID_20240429200646.mp4: 384x640 (no detections), 128.0ms\n",
            "video 1/1 (frame 246/476) /content/drive/MyDrive/test/VID_20240429200646.mp4: 384x640 (no detections), 127.0ms\n",
            "video 1/1 (frame 247/476) /content/drive/MyDrive/test/VID_20240429200646.mp4: 384x640 (no detections), 134.1ms\n",
            "video 1/1 (frame 248/476) /content/drive/MyDrive/test/VID_20240429200646.mp4: 384x640 (no detections), 129.1ms\n",
            "video 1/1 (frame 249/476) /content/drive/MyDrive/test/VID_20240429200646.mp4: 384x640 (no detections), 123.2ms\n",
            "video 1/1 (frame 250/476) /content/drive/MyDrive/test/VID_20240429200646.mp4: 384x640 (no detections), 129.8ms\n",
            "video 1/1 (frame 251/476) /content/drive/MyDrive/test/VID_20240429200646.mp4: 384x640 (no detections), 124.3ms\n",
            "video 1/1 (frame 252/476) /content/drive/MyDrive/test/VID_20240429200646.mp4: 384x640 (no detections), 192.9ms\n",
            "video 1/1 (frame 253/476) /content/drive/MyDrive/test/VID_20240429200646.mp4: 384x640 (no detections), 190.0ms\n",
            "video 1/1 (frame 254/476) /content/drive/MyDrive/test/VID_20240429200646.mp4: 384x640 (no detections), 196.9ms\n",
            "video 1/1 (frame 255/476) /content/drive/MyDrive/test/VID_20240429200646.mp4: 384x640 (no detections), 180.4ms\n",
            "video 1/1 (frame 256/476) /content/drive/MyDrive/test/VID_20240429200646.mp4: 384x640 (no detections), 210.7ms\n",
            "video 1/1 (frame 257/476) /content/drive/MyDrive/test/VID_20240429200646.mp4: 384x640 (no detections), 188.2ms\n",
            "video 1/1 (frame 258/476) /content/drive/MyDrive/test/VID_20240429200646.mp4: 384x640 (no detections), 195.8ms\n",
            "video 1/1 (frame 259/476) /content/drive/MyDrive/test/VID_20240429200646.mp4: 384x640 (no detections), 189.5ms\n",
            "video 1/1 (frame 260/476) /content/drive/MyDrive/test/VID_20240429200646.mp4: 384x640 (no detections), 184.0ms\n",
            "video 1/1 (frame 261/476) /content/drive/MyDrive/test/VID_20240429200646.mp4: 384x640 (no detections), 198.0ms\n",
            "video 1/1 (frame 262/476) /content/drive/MyDrive/test/VID_20240429200646.mp4: 384x640 (no detections), 185.9ms\n",
            "video 1/1 (frame 263/476) /content/drive/MyDrive/test/VID_20240429200646.mp4: 384x640 (no detections), 192.9ms\n",
            "video 1/1 (frame 264/476) /content/drive/MyDrive/test/VID_20240429200646.mp4: 384x640 (no detections), 197.3ms\n",
            "video 1/1 (frame 265/476) /content/drive/MyDrive/test/VID_20240429200646.mp4: 384x640 (no detections), 196.8ms\n",
            "video 1/1 (frame 266/476) /content/drive/MyDrive/test/VID_20240429200646.mp4: 384x640 (no detections), 212.2ms\n",
            "video 1/1 (frame 267/476) /content/drive/MyDrive/test/VID_20240429200646.mp4: 384x640 (no detections), 192.8ms\n",
            "video 1/1 (frame 268/476) /content/drive/MyDrive/test/VID_20240429200646.mp4: 384x640 (no detections), 135.7ms\n",
            "video 1/1 (frame 269/476) /content/drive/MyDrive/test/VID_20240429200646.mp4: 384x640 (no detections), 127.4ms\n",
            "video 1/1 (frame 270/476) /content/drive/MyDrive/test/VID_20240429200646.mp4: 384x640 (no detections), 130.6ms\n",
            "video 1/1 (frame 271/476) /content/drive/MyDrive/test/VID_20240429200646.mp4: 384x640 (no detections), 130.7ms\n",
            "video 1/1 (frame 272/476) /content/drive/MyDrive/test/VID_20240429200646.mp4: 384x640 (no detections), 150.6ms\n",
            "video 1/1 (frame 273/476) /content/drive/MyDrive/test/VID_20240429200646.mp4: 384x640 (no detections), 118.4ms\n",
            "video 1/1 (frame 274/476) /content/drive/MyDrive/test/VID_20240429200646.mp4: 384x640 (no detections), 124.9ms\n",
            "video 1/1 (frame 275/476) /content/drive/MyDrive/test/VID_20240429200646.mp4: 384x640 (no detections), 125.9ms\n",
            "video 1/1 (frame 276/476) /content/drive/MyDrive/test/VID_20240429200646.mp4: 384x640 (no detections), 126.9ms\n",
            "video 1/1 (frame 277/476) /content/drive/MyDrive/test/VID_20240429200646.mp4: 384x640 (no detections), 127.4ms\n",
            "video 1/1 (frame 278/476) /content/drive/MyDrive/test/VID_20240429200646.mp4: 384x640 (no detections), 129.1ms\n",
            "video 1/1 (frame 279/476) /content/drive/MyDrive/test/VID_20240429200646.mp4: 384x640 (no detections), 121.1ms\n",
            "video 1/1 (frame 280/476) /content/drive/MyDrive/test/VID_20240429200646.mp4: 384x640 (no detections), 131.8ms\n",
            "video 1/1 (frame 281/476) /content/drive/MyDrive/test/VID_20240429200646.mp4: 384x640 (no detections), 121.8ms\n",
            "video 1/1 (frame 282/476) /content/drive/MyDrive/test/VID_20240429200646.mp4: 384x640 (no detections), 134.9ms\n",
            "video 1/1 (frame 283/476) /content/drive/MyDrive/test/VID_20240429200646.mp4: 384x640 (no detections), 122.2ms\n",
            "video 1/1 (frame 284/476) /content/drive/MyDrive/test/VID_20240429200646.mp4: 384x640 (no detections), 144.9ms\n",
            "video 1/1 (frame 285/476) /content/drive/MyDrive/test/VID_20240429200646.mp4: 384x640 (no detections), 122.0ms\n",
            "video 1/1 (frame 286/476) /content/drive/MyDrive/test/VID_20240429200646.mp4: 384x640 (no detections), 122.0ms\n",
            "video 1/1 (frame 287/476) /content/drive/MyDrive/test/VID_20240429200646.mp4: 384x640 (no detections), 119.9ms\n",
            "video 1/1 (frame 288/476) /content/drive/MyDrive/test/VID_20240429200646.mp4: 384x640 (no detections), 132.3ms\n",
            "video 1/1 (frame 289/476) /content/drive/MyDrive/test/VID_20240429200646.mp4: 384x640 (no detections), 123.3ms\n",
            "video 1/1 (frame 290/476) /content/drive/MyDrive/test/VID_20240429200646.mp4: 384x640 (no detections), 126.0ms\n",
            "video 1/1 (frame 291/476) /content/drive/MyDrive/test/VID_20240429200646.mp4: 384x640 (no detections), 119.4ms\n",
            "video 1/1 (frame 292/476) /content/drive/MyDrive/test/VID_20240429200646.mp4: 384x640 (no detections), 123.1ms\n",
            "video 1/1 (frame 293/476) /content/drive/MyDrive/test/VID_20240429200646.mp4: 384x640 (no detections), 121.4ms\n",
            "video 1/1 (frame 294/476) /content/drive/MyDrive/test/VID_20240429200646.mp4: 384x640 (no detections), 140.1ms\n",
            "video 1/1 (frame 295/476) /content/drive/MyDrive/test/VID_20240429200646.mp4: 384x640 (no detections), 119.2ms\n",
            "video 1/1 (frame 296/476) /content/drive/MyDrive/test/VID_20240429200646.mp4: 384x640 (no detections), 137.9ms\n",
            "video 1/1 (frame 297/476) /content/drive/MyDrive/test/VID_20240429200646.mp4: 384x640 (no detections), 120.7ms\n",
            "video 1/1 (frame 298/476) /content/drive/MyDrive/test/VID_20240429200646.mp4: 384x640 (no detections), 127.7ms\n",
            "video 1/1 (frame 299/476) /content/drive/MyDrive/test/VID_20240429200646.mp4: 384x640 (no detections), 125.3ms\n",
            "video 1/1 (frame 300/476) /content/drive/MyDrive/test/VID_20240429200646.mp4: 384x640 (no detections), 142.7ms\n",
            "video 1/1 (frame 301/476) /content/drive/MyDrive/test/VID_20240429200646.mp4: 384x640 (no detections), 125.4ms\n",
            "video 1/1 (frame 302/476) /content/drive/MyDrive/test/VID_20240429200646.mp4: 384x640 (no detections), 130.2ms\n",
            "video 1/1 (frame 303/476) /content/drive/MyDrive/test/VID_20240429200646.mp4: 384x640 (no detections), 126.7ms\n",
            "video 1/1 (frame 304/476) /content/drive/MyDrive/test/VID_20240429200646.mp4: 384x640 (no detections), 133.9ms\n",
            "video 1/1 (frame 305/476) /content/drive/MyDrive/test/VID_20240429200646.mp4: 384x640 (no detections), 126.2ms\n",
            "video 1/1 (frame 306/476) /content/drive/MyDrive/test/VID_20240429200646.mp4: 384x640 (no detections), 122.8ms\n",
            "video 1/1 (frame 307/476) /content/drive/MyDrive/test/VID_20240429200646.mp4: 384x640 (no detections), 123.1ms\n",
            "video 1/1 (frame 308/476) /content/drive/MyDrive/test/VID_20240429200646.mp4: 384x640 (no detections), 120.3ms\n",
            "video 1/1 (frame 309/476) /content/drive/MyDrive/test/VID_20240429200646.mp4: 384x640 (no detections), 119.9ms\n",
            "video 1/1 (frame 310/476) /content/drive/MyDrive/test/VID_20240429200646.mp4: 384x640 (no detections), 124.7ms\n",
            "video 1/1 (frame 311/476) /content/drive/MyDrive/test/VID_20240429200646.mp4: 384x640 (no detections), 125.3ms\n",
            "video 1/1 (frame 312/476) /content/drive/MyDrive/test/VID_20240429200646.mp4: 384x640 (no detections), 126.8ms\n",
            "video 1/1 (frame 313/476) /content/drive/MyDrive/test/VID_20240429200646.mp4: 384x640 (no detections), 131.6ms\n",
            "video 1/1 (frame 314/476) /content/drive/MyDrive/test/VID_20240429200646.mp4: 384x640 (no detections), 128.6ms\n",
            "video 1/1 (frame 315/476) /content/drive/MyDrive/test/VID_20240429200646.mp4: 384x640 (no detections), 128.2ms\n",
            "video 1/1 (frame 316/476) /content/drive/MyDrive/test/VID_20240429200646.mp4: 384x640 (no detections), 129.7ms\n",
            "video 1/1 (frame 317/476) /content/drive/MyDrive/test/VID_20240429200646.mp4: 384x640 (no detections), 127.9ms\n",
            "video 1/1 (frame 318/476) /content/drive/MyDrive/test/VID_20240429200646.mp4: 384x640 (no detections), 127.5ms\n",
            "video 1/1 (frame 319/476) /content/drive/MyDrive/test/VID_20240429200646.mp4: 384x640 (no detections), 133.4ms\n",
            "video 1/1 (frame 320/476) /content/drive/MyDrive/test/VID_20240429200646.mp4: 384x640 (no detections), 128.6ms\n",
            "video 1/1 (frame 321/476) /content/drive/MyDrive/test/VID_20240429200646.mp4: 384x640 (no detections), 119.5ms\n",
            "video 1/1 (frame 322/476) /content/drive/MyDrive/test/VID_20240429200646.mp4: 384x640 (no detections), 124.2ms\n",
            "video 1/1 (frame 323/476) /content/drive/MyDrive/test/VID_20240429200646.mp4: 384x640 (no detections), 126.1ms\n",
            "video 1/1 (frame 324/476) /content/drive/MyDrive/test/VID_20240429200646.mp4: 384x640 (no detections), 125.1ms\n",
            "video 1/1 (frame 325/476) /content/drive/MyDrive/test/VID_20240429200646.mp4: 384x640 (no detections), 131.4ms\n",
            "video 1/1 (frame 326/476) /content/drive/MyDrive/test/VID_20240429200646.mp4: 384x640 (no detections), 131.7ms\n",
            "video 1/1 (frame 327/476) /content/drive/MyDrive/test/VID_20240429200646.mp4: 384x640 (no detections), 120.6ms\n",
            "video 1/1 (frame 328/476) /content/drive/MyDrive/test/VID_20240429200646.mp4: 384x640 (no detections), 150.1ms\n",
            "video 1/1 (frame 329/476) /content/drive/MyDrive/test/VID_20240429200646.mp4: 384x640 (no detections), 195.9ms\n",
            "video 1/1 (frame 330/476) /content/drive/MyDrive/test/VID_20240429200646.mp4: 384x640 (no detections), 191.2ms\n",
            "video 1/1 (frame 331/476) /content/drive/MyDrive/test/VID_20240429200646.mp4: 384x640 (no detections), 183.4ms\n",
            "video 1/1 (frame 332/476) /content/drive/MyDrive/test/VID_20240429200646.mp4: 384x640 (no detections), 200.2ms\n",
            "video 1/1 (frame 333/476) /content/drive/MyDrive/test/VID_20240429200646.mp4: 384x640 (no detections), 199.8ms\n",
            "video 1/1 (frame 334/476) /content/drive/MyDrive/test/VID_20240429200646.mp4: 384x640 (no detections), 196.0ms\n",
            "video 1/1 (frame 335/476) /content/drive/MyDrive/test/VID_20240429200646.mp4: 384x640 (no detections), 225.6ms\n",
            "video 1/1 (frame 336/476) /content/drive/MyDrive/test/VID_20240429200646.mp4: 384x640 (no detections), 191.4ms\n",
            "video 1/1 (frame 337/476) /content/drive/MyDrive/test/VID_20240429200646.mp4: 384x640 (no detections), 188.5ms\n",
            "video 1/1 (frame 338/476) /content/drive/MyDrive/test/VID_20240429200646.mp4: 384x640 (no detections), 192.3ms\n",
            "video 1/1 (frame 339/476) /content/drive/MyDrive/test/VID_20240429200646.mp4: 384x640 (no detections), 192.8ms\n",
            "video 1/1 (frame 340/476) /content/drive/MyDrive/test/VID_20240429200646.mp4: 384x640 (no detections), 209.3ms\n",
            "video 1/1 (frame 341/476) /content/drive/MyDrive/test/VID_20240429200646.mp4: 384x640 (no detections), 196.1ms\n",
            "video 1/1 (frame 342/476) /content/drive/MyDrive/test/VID_20240429200646.mp4: 384x640 (no detections), 203.9ms\n",
            "video 1/1 (frame 343/476) /content/drive/MyDrive/test/VID_20240429200646.mp4: 384x640 (no detections), 208.2ms\n",
            "video 1/1 (frame 344/476) /content/drive/MyDrive/test/VID_20240429200646.mp4: 384x640 (no detections), 176.8ms\n",
            "video 1/1 (frame 345/476) /content/drive/MyDrive/test/VID_20240429200646.mp4: 384x640 (no detections), 126.9ms\n",
            "video 1/1 (frame 346/476) /content/drive/MyDrive/test/VID_20240429200646.mp4: 384x640 (no detections), 127.8ms\n",
            "video 1/1 (frame 347/476) /content/drive/MyDrive/test/VID_20240429200646.mp4: 384x640 (no detections), 124.6ms\n",
            "video 1/1 (frame 348/476) /content/drive/MyDrive/test/VID_20240429200646.mp4: 384x640 (no detections), 120.1ms\n",
            "video 1/1 (frame 349/476) /content/drive/MyDrive/test/VID_20240429200646.mp4: 384x640 (no detections), 126.7ms\n",
            "video 1/1 (frame 350/476) /content/drive/MyDrive/test/VID_20240429200646.mp4: 384x640 (no detections), 129.8ms\n",
            "video 1/1 (frame 351/476) /content/drive/MyDrive/test/VID_20240429200646.mp4: 384x640 (no detections), 129.0ms\n",
            "video 1/1 (frame 352/476) /content/drive/MyDrive/test/VID_20240429200646.mp4: 384x640 (no detections), 128.4ms\n",
            "video 1/1 (frame 353/476) /content/drive/MyDrive/test/VID_20240429200646.mp4: 384x640 (no detections), 124.9ms\n",
            "video 1/1 (frame 354/476) /content/drive/MyDrive/test/VID_20240429200646.mp4: 384x640 (no detections), 125.2ms\n",
            "video 1/1 (frame 355/476) /content/drive/MyDrive/test/VID_20240429200646.mp4: 384x640 (no detections), 142.9ms\n",
            "video 1/1 (frame 356/476) /content/drive/MyDrive/test/VID_20240429200646.mp4: 384x640 (no detections), 120.1ms\n",
            "video 1/1 (frame 357/476) /content/drive/MyDrive/test/VID_20240429200646.mp4: 384x640 (no detections), 140.7ms\n",
            "video 1/1 (frame 358/476) /content/drive/MyDrive/test/VID_20240429200646.mp4: 384x640 (no detections), 122.9ms\n",
            "video 1/1 (frame 359/476) /content/drive/MyDrive/test/VID_20240429200646.mp4: 384x640 (no detections), 124.7ms\n",
            "video 1/1 (frame 360/476) /content/drive/MyDrive/test/VID_20240429200646.mp4: 384x640 (no detections), 125.1ms\n",
            "video 1/1 (frame 361/476) /content/drive/MyDrive/test/VID_20240429200646.mp4: 384x640 (no detections), 137.9ms\n",
            "video 1/1 (frame 362/476) /content/drive/MyDrive/test/VID_20240429200646.mp4: 384x640 (no detections), 121.0ms\n",
            "video 1/1 (frame 363/476) /content/drive/MyDrive/test/VID_20240429200646.mp4: 384x640 (no detections), 132.9ms\n",
            "video 1/1 (frame 364/476) /content/drive/MyDrive/test/VID_20240429200646.mp4: 384x640 (no detections), 131.3ms\n",
            "video 1/1 (frame 365/476) /content/drive/MyDrive/test/VID_20240429200646.mp4: 384x640 (no detections), 123.3ms\n",
            "video 1/1 (frame 366/476) /content/drive/MyDrive/test/VID_20240429200646.mp4: 384x640 (no detections), 120.3ms\n",
            "video 1/1 (frame 367/476) /content/drive/MyDrive/test/VID_20240429200646.mp4: 384x640 (no detections), 138.9ms\n",
            "video 1/1 (frame 368/476) /content/drive/MyDrive/test/VID_20240429200646.mp4: 384x640 (no detections), 121.6ms\n",
            "video 1/1 (frame 369/476) /content/drive/MyDrive/test/VID_20240429200646.mp4: 384x640 (no detections), 133.9ms\n",
            "video 1/1 (frame 370/476) /content/drive/MyDrive/test/VID_20240429200646.mp4: 384x640 (no detections), 121.1ms\n",
            "video 1/1 (frame 371/476) /content/drive/MyDrive/test/VID_20240429200646.mp4: 384x640 (no detections), 134.0ms\n",
            "video 1/1 (frame 372/476) /content/drive/MyDrive/test/VID_20240429200646.mp4: 384x640 (no detections), 121.3ms\n",
            "video 1/1 (frame 373/476) /content/drive/MyDrive/test/VID_20240429200646.mp4: 384x640 (no detections), 121.7ms\n",
            "video 1/1 (frame 374/476) /content/drive/MyDrive/test/VID_20240429200646.mp4: 384x640 (no detections), 122.8ms\n",
            "video 1/1 (frame 375/476) /content/drive/MyDrive/test/VID_20240429200646.mp4: 384x640 (no detections), 136.3ms\n",
            "video 1/1 (frame 376/476) /content/drive/MyDrive/test/VID_20240429200646.mp4: 384x640 (no detections), 121.6ms\n",
            "video 1/1 (frame 377/476) /content/drive/MyDrive/test/VID_20240429200646.mp4: 384x640 (no detections), 127.6ms\n",
            "video 1/1 (frame 378/476) /content/drive/MyDrive/test/VID_20240429200646.mp4: 384x640 (no detections), 117.5ms\n",
            "video 1/1 (frame 379/476) /content/drive/MyDrive/test/VID_20240429200646.mp4: 384x640 (no detections), 128.5ms\n",
            "video 1/1 (frame 380/476) /content/drive/MyDrive/test/VID_20240429200646.mp4: 384x640 (no detections), 130.3ms\n",
            "video 1/1 (frame 381/476) /content/drive/MyDrive/test/VID_20240429200646.mp4: 384x640 (no detections), 128.4ms\n",
            "video 1/1 (frame 382/476) /content/drive/MyDrive/test/VID_20240429200646.mp4: 384x640 (no detections), 124.3ms\n",
            "video 1/1 (frame 383/476) /content/drive/MyDrive/test/VID_20240429200646.mp4: 384x640 (no detections), 125.9ms\n",
            "video 1/1 (frame 384/476) /content/drive/MyDrive/test/VID_20240429200646.mp4: 384x640 (no detections), 120.1ms\n",
            "video 1/1 (frame 385/476) /content/drive/MyDrive/test/VID_20240429200646.mp4: 384x640 (no detections), 134.3ms\n",
            "video 1/1 (frame 386/476) /content/drive/MyDrive/test/VID_20240429200646.mp4: 384x640 (no detections), 136.0ms\n",
            "video 1/1 (frame 387/476) /content/drive/MyDrive/test/VID_20240429200646.mp4: 384x640 (no detections), 136.0ms\n",
            "video 1/1 (frame 388/476) /content/drive/MyDrive/test/VID_20240429200646.mp4: 384x640 (no detections), 124.3ms\n",
            "video 1/1 (frame 389/476) /content/drive/MyDrive/test/VID_20240429200646.mp4: 384x640 (no detections), 126.8ms\n",
            "video 1/1 (frame 390/476) /content/drive/MyDrive/test/VID_20240429200646.mp4: 384x640 (no detections), 128.9ms\n",
            "video 1/1 (frame 391/476) /content/drive/MyDrive/test/VID_20240429200646.mp4: 384x640 (no detections), 122.0ms\n",
            "video 1/1 (frame 392/476) /content/drive/MyDrive/test/VID_20240429200646.mp4: 384x640 (no detections), 127.3ms\n",
            "video 1/1 (frame 393/476) /content/drive/MyDrive/test/VID_20240429200646.mp4: 384x640 (no detections), 131.9ms\n",
            "video 1/1 (frame 394/476) /content/drive/MyDrive/test/VID_20240429200646.mp4: 384x640 (no detections), 121.5ms\n",
            "video 1/1 (frame 395/476) /content/drive/MyDrive/test/VID_20240429200646.mp4: 384x640 (no detections), 127.9ms\n",
            "video 1/1 (frame 396/476) /content/drive/MyDrive/test/VID_20240429200646.mp4: 384x640 (no detections), 117.8ms\n",
            "video 1/1 (frame 397/476) /content/drive/MyDrive/test/VID_20240429200646.mp4: 384x640 (no detections), 121.7ms\n",
            "video 1/1 (frame 398/476) /content/drive/MyDrive/test/VID_20240429200646.mp4: 384x640 (no detections), 128.9ms\n",
            "video 1/1 (frame 399/476) /content/drive/MyDrive/test/VID_20240429200646.mp4: 384x640 (no detections), 148.8ms\n",
            "video 1/1 (frame 400/476) /content/drive/MyDrive/test/VID_20240429200646.mp4: 384x640 (no detections), 122.7ms\n",
            "video 1/1 (frame 401/476) /content/drive/MyDrive/test/VID_20240429200646.mp4: 384x640 (no detections), 123.1ms\n",
            "video 1/1 (frame 402/476) /content/drive/MyDrive/test/VID_20240429200646.mp4: 384x640 (no detections), 122.1ms\n",
            "video 1/1 (frame 403/476) /content/drive/MyDrive/test/VID_20240429200646.mp4: 384x640 (no detections), 123.9ms\n",
            "video 1/1 (frame 404/476) /content/drive/MyDrive/test/VID_20240429200646.mp4: 384x640 (no detections), 120.5ms\n",
            "video 1/1 (frame 405/476) /content/drive/MyDrive/test/VID_20240429200646.mp4: 384x640 (no detections), 167.2ms\n",
            "video 1/1 (frame 406/476) /content/drive/MyDrive/test/VID_20240429200646.mp4: 384x640 (no detections), 188.9ms\n",
            "video 1/1 (frame 407/476) /content/drive/MyDrive/test/VID_20240429200646.mp4: 384x640 (no detections), 187.4ms\n",
            "video 1/1 (frame 408/476) /content/drive/MyDrive/test/VID_20240429200646.mp4: 384x640 (no detections), 188.9ms\n",
            "video 1/1 (frame 409/476) /content/drive/MyDrive/test/VID_20240429200646.mp4: 384x640 (no detections), 199.9ms\n",
            "video 1/1 (frame 410/476) /content/drive/MyDrive/test/VID_20240429200646.mp4: 384x640 (no detections), 201.5ms\n",
            "video 1/1 (frame 411/476) /content/drive/MyDrive/test/VID_20240429200646.mp4: 384x640 (no detections), 193.5ms\n",
            "video 1/1 (frame 412/476) /content/drive/MyDrive/test/VID_20240429200646.mp4: 384x640 (no detections), 188.8ms\n",
            "video 1/1 (frame 413/476) /content/drive/MyDrive/test/VID_20240429200646.mp4: 384x640 (no detections), 227.5ms\n",
            "video 1/1 (frame 414/476) /content/drive/MyDrive/test/VID_20240429200646.mp4: 384x640 (no detections), 188.1ms\n",
            "video 1/1 (frame 415/476) /content/drive/MyDrive/test/VID_20240429200646.mp4: 384x640 (no detections), 183.4ms\n",
            "video 1/1 (frame 416/476) /content/drive/MyDrive/test/VID_20240429200646.mp4: 384x640 (no detections), 196.7ms\n",
            "video 1/1 (frame 417/476) /content/drive/MyDrive/test/VID_20240429200646.mp4: 384x640 (no detections), 210.9ms\n",
            "video 1/1 (frame 418/476) /content/drive/MyDrive/test/VID_20240429200646.mp4: 384x640 (no detections), 189.5ms\n",
            "video 1/1 (frame 419/476) /content/drive/MyDrive/test/VID_20240429200646.mp4: 384x640 (no detections), 201.4ms\n",
            "video 1/1 (frame 420/476) /content/drive/MyDrive/test/VID_20240429200646.mp4: 384x640 (no detections), 206.1ms\n",
            "video 1/1 (frame 421/476) /content/drive/MyDrive/test/VID_20240429200646.mp4: 384x640 (no detections), 136.9ms\n",
            "video 1/1 (frame 422/476) /content/drive/MyDrive/test/VID_20240429200646.mp4: 384x640 (no detections), 121.9ms\n",
            "video 1/1 (frame 423/476) /content/drive/MyDrive/test/VID_20240429200646.mp4: 384x640 (no detections), 144.6ms\n",
            "video 1/1 (frame 424/476) /content/drive/MyDrive/test/VID_20240429200646.mp4: 384x640 (no detections), 119.8ms\n",
            "video 1/1 (frame 425/476) /content/drive/MyDrive/test/VID_20240429200646.mp4: 384x640 (no detections), 125.0ms\n",
            "video 1/1 (frame 426/476) /content/drive/MyDrive/test/VID_20240429200646.mp4: 384x640 (no detections), 123.0ms\n",
            "video 1/1 (frame 427/476) /content/drive/MyDrive/test/VID_20240429200646.mp4: 384x640 (no detections), 128.2ms\n",
            "video 1/1 (frame 428/476) /content/drive/MyDrive/test/VID_20240429200646.mp4: 384x640 (no detections), 140.5ms\n",
            "video 1/1 (frame 429/476) /content/drive/MyDrive/test/VID_20240429200646.mp4: 384x640 (no detections), 127.0ms\n",
            "video 1/1 (frame 430/476) /content/drive/MyDrive/test/VID_20240429200646.mp4: 384x640 (no detections), 124.7ms\n",
            "video 1/1 (frame 431/476) /content/drive/MyDrive/test/VID_20240429200646.mp4: 384x640 (no detections), 123.1ms\n",
            "video 1/1 (frame 432/476) /content/drive/MyDrive/test/VID_20240429200646.mp4: 384x640 (no detections), 125.2ms\n",
            "video 1/1 (frame 433/476) /content/drive/MyDrive/test/VID_20240429200646.mp4: 384x640 (no detections), 129.4ms\n",
            "video 1/1 (frame 434/476) /content/drive/MyDrive/test/VID_20240429200646.mp4: 384x640 (no detections), 136.9ms\n",
            "video 1/1 (frame 435/476) /content/drive/MyDrive/test/VID_20240429200646.mp4: 384x640 (no detections), 129.5ms\n",
            "video 1/1 (frame 436/476) /content/drive/MyDrive/test/VID_20240429200646.mp4: 384x640 (no detections), 126.1ms\n",
            "video 1/1 (frame 437/476) /content/drive/MyDrive/test/VID_20240429200646.mp4: 384x640 (no detections), 123.7ms\n",
            "video 1/1 (frame 438/476) /content/drive/MyDrive/test/VID_20240429200646.mp4: 384x640 (no detections), 128.8ms\n",
            "video 1/1 (frame 439/476) /content/drive/MyDrive/test/VID_20240429200646.mp4: 384x640 (no detections), 130.1ms\n",
            "video 1/1 (frame 440/476) /content/drive/MyDrive/test/VID_20240429200646.mp4: 384x640 (no detections), 145.1ms\n",
            "video 1/1 (frame 441/476) /content/drive/MyDrive/test/VID_20240429200646.mp4: 384x640 (no detections), 123.4ms\n",
            "video 1/1 (frame 442/476) /content/drive/MyDrive/test/VID_20240429200646.mp4: 384x640 (no detections), 122.7ms\n",
            "video 1/1 (frame 443/476) /content/drive/MyDrive/test/VID_20240429200646.mp4: 384x640 (no detections), 127.3ms\n",
            "video 1/1 (frame 444/476) /content/drive/MyDrive/test/VID_20240429200646.mp4: 384x640 (no detections), 131.2ms\n",
            "video 1/1 (frame 445/476) /content/drive/MyDrive/test/VID_20240429200646.mp4: 384x640 (no detections), 125.7ms\n",
            "video 1/1 (frame 446/476) /content/drive/MyDrive/test/VID_20240429200646.mp4: 384x640 (no detections), 141.7ms\n",
            "video 1/1 (frame 447/476) /content/drive/MyDrive/test/VID_20240429200646.mp4: 384x640 (no detections), 120.1ms\n",
            "video 1/1 (frame 448/476) /content/drive/MyDrive/test/VID_20240429200646.mp4: 384x640 (no detections), 126.3ms\n",
            "video 1/1 (frame 449/476) /content/drive/MyDrive/test/VID_20240429200646.mp4: 384x640 (no detections), 127.1ms\n",
            "video 1/1 (frame 450/476) /content/drive/MyDrive/test/VID_20240429200646.mp4: 384x640 (no detections), 124.3ms\n",
            "video 1/1 (frame 451/476) /content/drive/MyDrive/test/VID_20240429200646.mp4: 384x640 (no detections), 128.3ms\n",
            "video 1/1 (frame 452/476) /content/drive/MyDrive/test/VID_20240429200646.mp4: 384x640 (no detections), 148.1ms\n",
            "video 1/1 (frame 453/476) /content/drive/MyDrive/test/VID_20240429200646.mp4: 384x640 (no detections), 130.4ms\n",
            "video 1/1 (frame 454/476) /content/drive/MyDrive/test/VID_20240429200646.mp4: 384x640 (no detections), 129.9ms\n",
            "video 1/1 (frame 455/476) /content/drive/MyDrive/test/VID_20240429200646.mp4: 384x640 (no detections), 129.9ms\n",
            "video 1/1 (frame 456/476) /content/drive/MyDrive/test/VID_20240429200646.mp4: 384x640 (no detections), 128.1ms\n",
            "video 1/1 (frame 457/476) /content/drive/MyDrive/test/VID_20240429200646.mp4: 384x640 (no detections), 131.0ms\n",
            "video 1/1 (frame 458/476) /content/drive/MyDrive/test/VID_20240429200646.mp4: 384x640 (no detections), 126.0ms\n",
            "video 1/1 (frame 459/476) /content/drive/MyDrive/test/VID_20240429200646.mp4: 384x640 (no detections), 122.7ms\n",
            "video 1/1 (frame 460/476) /content/drive/MyDrive/test/VID_20240429200646.mp4: 384x640 (no detections), 126.7ms\n",
            "video 1/1 (frame 461/476) /content/drive/MyDrive/test/VID_20240429200646.mp4: 384x640 (no detections), 124.7ms\n",
            "video 1/1 (frame 462/476) /content/drive/MyDrive/test/VID_20240429200646.mp4: 384x640 (no detections), 136.1ms\n",
            "video 1/1 (frame 463/476) /content/drive/MyDrive/test/VID_20240429200646.mp4: 384x640 (no detections), 128.8ms\n",
            "video 1/1 (frame 464/476) /content/drive/MyDrive/test/VID_20240429200646.mp4: 384x640 (no detections), 129.7ms\n",
            "video 1/1 (frame 465/476) /content/drive/MyDrive/test/VID_20240429200646.mp4: 384x640 (no detections), 138.0ms\n",
            "video 1/1 (frame 466/476) /content/drive/MyDrive/test/VID_20240429200646.mp4: 384x640 (no detections), 122.5ms\n",
            "video 1/1 (frame 467/476) /content/drive/MyDrive/test/VID_20240429200646.mp4: 384x640 (no detections), 124.7ms\n",
            "video 1/1 (frame 468/476) /content/drive/MyDrive/test/VID_20240429200646.mp4: 384x640 (no detections), 129.4ms\n",
            "video 1/1 (frame 469/476) /content/drive/MyDrive/test/VID_20240429200646.mp4: 384x640 (no detections), 129.6ms\n",
            "video 1/1 (frame 470/476) /content/drive/MyDrive/test/VID_20240429200646.mp4: 384x640 (no detections), 124.2ms\n",
            "video 1/1 (frame 471/476) /content/drive/MyDrive/test/VID_20240429200646.mp4: 384x640 (no detections), 135.2ms\n",
            "video 1/1 (frame 472/476) /content/drive/MyDrive/test/VID_20240429200646.mp4: 384x640 (no detections), 128.4ms\n",
            "video 1/1 (frame 473/476) /content/drive/MyDrive/test/VID_20240429200646.mp4: 384x640 (no detections), 131.0ms\n",
            "video 1/1 (frame 474/476) /content/drive/MyDrive/test/VID_20240429200646.mp4: 384x640 (no detections), 126.5ms\n",
            "video 1/1 (frame 475/476) /content/drive/MyDrive/test/VID_20240429200646.mp4: 384x640 (no detections), 129.5ms\n",
            "video 1/1 (frame 476/476) /content/drive/MyDrive/test/VID_20240429200646.mp4: 384x640 (no detections), 125.5ms\n",
            "Speed: 4.7ms preprocess, 141.4ms inference, 4.5ms postprocess per image at shape (1, 3, 384, 640)\n",
            "Results saved to \u001b[1mruns/detect/predict\u001b[0m\n",
            "💡 Learn more at https://docs.ultralytics.com/modes/predict\n"
          ]
        }
      ]
    },
    {
      "cell_type": "markdown",
      "source": [
        "# New Section"
      ],
      "metadata": {
        "id": "oK88rkx6b2dT"
      }
    },
    {
      "cell_type": "code",
      "source": [
        "!cp /content/runs/detect/predict/dd.avi /content/drive/MyDrive/test"
      ],
      "metadata": {
        "id": "fk9a6mZAZXsd"
      },
      "execution_count": null,
      "outputs": []
    },
    {
      "cell_type": "markdown",
      "source": [],
      "metadata": {
        "id": "8HU2eC8V4IEw"
      }
    },
    {
      "cell_type": "code",
      "source": [],
      "metadata": {
        "id": "ECsZmNGL2SP5"
      },
      "execution_count": null,
      "outputs": []
    },
    {
      "cell_type": "markdown",
      "source": [
        "### YOLO5\n"
      ],
      "metadata": {
        "id": "8xthGWJ0uiQm"
      }
    },
    {
      "cell_type": "code",
      "source": [
        "!git clone https://github.com/ultralytics/yolov5  # clone\n",
        "%cd yolov5\n",
        "%pip install -qr requirements.txt comet_ml  # install\n",
        "\n",
        "import torch\n",
        "import utils\n",
        "display = utils.notebook_init()  # checks"
      ],
      "metadata": {
        "colab": {
          "base_uri": "https://localhost:8080/"
        },
        "id": "ltHRoVWQuhZw",
        "outputId": "5d69f712-9be4-4cbb-d22c-4f68b1ce3774"
      },
      "execution_count": 1,
      "outputs": [
        {
          "output_type": "stream",
          "name": "stderr",
          "text": [
            "YOLOv5 🚀 v7.0-306-gb599ae42 Python-3.10.12 torch-2.2.1+cu121 CUDA:0 (Tesla T4, 15102MiB)\n"
          ]
        },
        {
          "output_type": "stream",
          "name": "stdout",
          "text": [
            "Setup complete ✅ (2 CPUs, 12.7 GB RAM, 28.9/78.2 GB disk)\n"
          ]
        }
      ]
    },
    {
      "cell_type": "code",
      "source": [],
      "metadata": {
        "id": "IMVoHORAuhfW"
      },
      "execution_count": null,
      "outputs": []
    },
    {
      "cell_type": "markdown",
      "source": [
        "### Initializing google drive"
      ],
      "metadata": {
        "id": "B5Ze40nbuq_I"
      }
    },
    {
      "cell_type": "code",
      "source": [
        "from google.colab import drive\n",
        "drive.mount('/content/drive')"
      ],
      "metadata": {
        "colab": {
          "base_uri": "https://localhost:8080/"
        },
        "id": "TyV79D19uhlw",
        "outputId": "953e9e9c-70ab-46ad-df54-c0e362e2bc4a"
      },
      "execution_count": 2,
      "outputs": [
        {
          "output_type": "stream",
          "name": "stdout",
          "text": [
            "Drive already mounted at /content/drive; to attempt to forcibly remount, call drive.mount(\"/content/drive\", force_remount=True).\n"
          ]
        }
      ]
    },
    {
      "cell_type": "code",
      "source": [],
      "metadata": {
        "id": "Lvn__PbYu6jW"
      },
      "execution_count": null,
      "outputs": []
    },
    {
      "cell_type": "markdown",
      "source": [
        "### training the model"
      ],
      "metadata": {
        "id": "x9MEUOKRu7m1"
      }
    },
    {
      "cell_type": "code",
      "source": [
        "# Train YOLOv5s on COCO128 for 3 epochs\n",
        "!python train.py --img 640 --batch 2 --epochs 33 --data /content/yolov5/data/custom_data2.yaml --weights yolov5s.pt --cache"
      ],
      "metadata": {
        "colab": {
          "base_uri": "https://localhost:8080/"
        },
        "id": "_DgrRFzou6t1",
        "outputId": "0cfb3742-5768-4c59-8f35-cd2cccc118b2"
      },
      "execution_count": 3,
      "outputs": [
        {
          "output_type": "stream",
          "name": "stdout",
          "text": [
            "2024-05-02 05:22:15.459669: E external/local_xla/xla/stream_executor/cuda/cuda_dnn.cc:9261] Unable to register cuDNN factory: Attempting to register factory for plugin cuDNN when one has already been registered\n",
            "2024-05-02 05:22:15.459740: E external/local_xla/xla/stream_executor/cuda/cuda_fft.cc:607] Unable to register cuFFT factory: Attempting to register factory for plugin cuFFT when one has already been registered\n",
            "2024-05-02 05:22:15.462069: E external/local_xla/xla/stream_executor/cuda/cuda_blas.cc:1515] Unable to register cuBLAS factory: Attempting to register factory for plugin cuBLAS when one has already been registered\n",
            "\u001b[34m\u001b[1mtrain: \u001b[0mweights=yolov5s.pt, cfg=, data=/content/yolov5/data/custom_data2.yaml, hyp=data/hyps/hyp.scratch-low.yaml, epochs=33, batch_size=2, imgsz=640, rect=False, resume=False, nosave=False, noval=False, noautoanchor=False, noplots=False, evolve=None, evolve_population=data/hyps, resume_evolve=None, bucket=, cache=ram, image_weights=False, device=, multi_scale=False, single_cls=False, optimizer=SGD, sync_bn=False, workers=8, project=runs/train, name=exp, exist_ok=False, quad=False, cos_lr=False, label_smoothing=0.0, patience=100, freeze=[0], save_period=-1, seed=0, local_rank=-1, entity=None, upload_dataset=False, bbox_interval=-1, artifact_alias=latest, ndjson_console=False, ndjson_file=False\n",
            "\u001b[34m\u001b[1mgithub: \u001b[0mup to date with https://github.com/ultralytics/yolov5 ✅\n",
            "YOLOv5 🚀 v7.0-306-gb599ae42 Python-3.10.12 torch-2.2.1+cu121 CUDA:0 (Tesla T4, 15102MiB)\n",
            "\n",
            "\u001b[34m\u001b[1mhyperparameters: \u001b[0mlr0=0.01, lrf=0.01, momentum=0.937, weight_decay=0.0005, warmup_epochs=3.0, warmup_momentum=0.8, warmup_bias_lr=0.1, box=0.05, cls=0.5, cls_pw=1.0, obj=1.0, obj_pw=1.0, iou_t=0.2, anchor_t=4.0, fl_gamma=0.0, hsv_h=0.015, hsv_s=0.7, hsv_v=0.4, degrees=0.0, translate=0.1, scale=0.5, shear=0.0, perspective=0.0, flipud=0.0, fliplr=0.5, mosaic=1.0, mixup=0.0, copy_paste=0.0\n",
            "\u001b[34m\u001b[1mTensorBoard: \u001b[0mStart with 'tensorboard --logdir runs/train', view at http://localhost:6006/\n",
            "\u001b[1;38;5;214mCOMET WARNING:\u001b[0m Can not parse empty Comet API key\n",
            "COMET WARNING: Comet credentials have not been set. Comet will default to offline logging. Please set your credentials to enable online logging.\n",
            "\u001b[1;38;5;214mCOMET WARNING:\u001b[0m Can not parse empty Comet API key\n",
            "\u001b[1;38;5;39mCOMET INFO:\u001b[0m Using '/content/yolov5/.cometml-runs' path as offline directory. Pass 'offline_directory' parameter into constructor or set the 'COMET_OFFLINE_DIRECTORY' environment variable to manually choose where to store offline experiment archives.\n",
            "/usr/lib/python3.10/multiprocessing/popen_fork.py:66: RuntimeWarning: os.fork() was called. os.fork() is incompatible with multithreaded code, and JAX is multithreaded, so this will likely lead to a deadlock.\n",
            "  self.pid = os.fork()\n",
            "Downloading https://github.com/ultralytics/yolov5/releases/download/v7.0/yolov5s.pt to yolov5s.pt...\n",
            "100%|██████████| 14.1M/14.1M [00:00<00:00, 133MB/s]\n",
            "\n",
            "Overriding model.yaml nc=80 with nc=1\n",
            "\n",
            "                 from  n    params  module                                  arguments                     \n",
            "  0                -1  1      3520  models.common.Conv                      [3, 32, 6, 2, 2]              \n",
            "  1                -1  1     18560  models.common.Conv                      [32, 64, 3, 2]                \n",
            "  2                -1  1     18816  models.common.C3                        [64, 64, 1]                   \n",
            "  3                -1  1     73984  models.common.Conv                      [64, 128, 3, 2]               \n",
            "  4                -1  2    115712  models.common.C3                        [128, 128, 2]                 \n",
            "  5                -1  1    295424  models.common.Conv                      [128, 256, 3, 2]              \n",
            "  6                -1  3    625152  models.common.C3                        [256, 256, 3]                 \n",
            "  7                -1  1   1180672  models.common.Conv                      [256, 512, 3, 2]              \n",
            "  8                -1  1   1182720  models.common.C3                        [512, 512, 1]                 \n",
            "  9                -1  1    656896  models.common.SPPF                      [512, 512, 5]                 \n",
            " 10                -1  1    131584  models.common.Conv                      [512, 256, 1, 1]              \n",
            " 11                -1  1         0  torch.nn.modules.upsampling.Upsample    [None, 2, 'nearest']          \n",
            " 12           [-1, 6]  1         0  models.common.Concat                    [1]                           \n",
            " 13                -1  1    361984  models.common.C3                        [512, 256, 1, False]          \n",
            " 14                -1  1     33024  models.common.Conv                      [256, 128, 1, 1]              \n",
            " 15                -1  1         0  torch.nn.modules.upsampling.Upsample    [None, 2, 'nearest']          \n",
            " 16           [-1, 4]  1         0  models.common.Concat                    [1]                           \n",
            " 17                -1  1     90880  models.common.C3                        [256, 128, 1, False]          \n",
            " 18                -1  1    147712  models.common.Conv                      [128, 128, 3, 2]              \n",
            " 19          [-1, 14]  1         0  models.common.Concat                    [1]                           \n",
            " 20                -1  1    296448  models.common.C3                        [256, 256, 1, False]          \n",
            " 21                -1  1    590336  models.common.Conv                      [256, 256, 3, 2]              \n",
            " 22          [-1, 10]  1         0  models.common.Concat                    [1]                           \n",
            " 23                -1  1   1182720  models.common.C3                        [512, 512, 1, False]          \n",
            " 24      [17, 20, 23]  1     16182  models.yolo.Detect                      [1, [[10, 13, 16, 30, 33, 23], [30, 61, 62, 45, 59, 119], [116, 90, 156, 198, 373, 326]], [128, 256, 512]]\n",
            "Model summary: 214 layers, 7022326 parameters, 7022326 gradients, 15.9 GFLOPs\n",
            "\n",
            "Transferred 343/349 items from yolov5s.pt\n",
            "\u001b[34m\u001b[1mAMP: \u001b[0mchecks passed ✅\n",
            "\u001b[34m\u001b[1moptimizer:\u001b[0m SGD(lr=0.01) with parameter groups 57 weight(decay=0.0), 60 weight(decay=0.0005), 60 bias\n",
            "\u001b[34m\u001b[1malbumentations: \u001b[0mBlur(p=0.01, blur_limit=(3, 7)), MedianBlur(p=0.01, blur_limit=(3, 7)), ToGray(p=0.01), CLAHE(p=0.01, clip_limit=(1, 4.0), tile_grid_size=(8, 8))\n",
            "\u001b[34m\u001b[1mtrain: \u001b[0mScanning /content/drive/MyDrive/chicken12/chicken_data/labels/train.cache... 25 images, 0 backgrounds, 0 corrupt: 100%|██████████| 25/25 [00:00<?, ?it/s]\n",
            "\u001b[34m\u001b[1mtrain: \u001b[0mCaching images (0.0GB ram): 100%|██████████| 25/25 [00:11<00:00,  2.25it/s]\n",
            "/usr/lib/python3.10/multiprocessing/popen_fork.py:66: RuntimeWarning: os.fork() was called. os.fork() is incompatible with multithreaded code, and JAX is multithreaded, so this will likely lead to a deadlock.\n",
            "  self.pid = os.fork()\n",
            "\u001b[34m\u001b[1mval: \u001b[0mScanning /content/drive/MyDrive/chicken12/chicken_data/labels/val.cache... 13 images, 0 backgrounds, 0 corrupt: 100%|██████████| 13/13 [00:00<?, ?it/s]\n",
            "\u001b[34m\u001b[1mval: \u001b[0mCaching images (0.0GB ram): 100%|██████████| 13/13 [00:08<00:00,  1.50it/s]\n",
            "\n",
            "\u001b[34m\u001b[1mAutoAnchor: \u001b[0m3.86 anchors/target, 1.000 Best Possible Recall (BPR). Current anchors are a good fit to dataset ✅\n",
            "Plotting labels to runs/train/exp/labels.jpg... \n",
            "Image sizes 640 train, 640 val\n",
            "Using 2 dataloader workers\n",
            "Logging results to \u001b[1mruns/train/exp\u001b[0m\n",
            "Starting training for 33 epochs...\n",
            "\n",
            "      Epoch    GPU_mem   box_loss   obj_loss   cls_loss  Instances       Size\n",
            "       0/32     0.711G    0.09956    0.03971          0          4        640: 100%|██████████| 13/13 [00:06<00:00,  1.93it/s]\n",
            "                 Class     Images  Instances          P          R      mAP50   mAP50-95: 100%|██████████| 4/4 [00:02<00:00,  1.54it/s]\n",
            "                   all         13         26    0.00359      0.538    0.00571    0.00139\n",
            "\n",
            "      Epoch    GPU_mem   box_loss   obj_loss   cls_loss  Instances       Size\n",
            "       1/32     0.724G    0.09531    0.04473          0          7        640: 100%|██████████| 13/13 [00:01<00:00,  8.29it/s]\n",
            "                 Class     Images  Instances          P          R      mAP50   mAP50-95: 100%|██████████| 4/4 [00:09<00:00,  2.44s/it]\n",
            "                   all         13         26    0.00487      0.731     0.0135     0.0032\n",
            "\n",
            "      Epoch    GPU_mem   box_loss   obj_loss   cls_loss  Instances       Size\n",
            "       2/32     0.724G    0.09699    0.04166          0          7        640: 100%|██████████| 13/13 [00:01<00:00,  7.79it/s]\n",
            "                 Class     Images  Instances          P          R      mAP50   mAP50-95: 100%|██████████| 4/4 [00:09<00:00,  2.29s/it]\n",
            "                   all         13         26     0.0059      0.885     0.0259    0.00533\n",
            "\n",
            "      Epoch    GPU_mem   box_loss   obj_loss   cls_loss  Instances       Size\n",
            "       3/32     0.728G     0.0956    0.05158          0         10        640: 100%|██████████| 13/13 [00:02<00:00,  6.20it/s]\n",
            "                 Class     Images  Instances          P          R      mAP50   mAP50-95: 100%|██████████| 4/4 [00:08<00:00,  2.20s/it]\n",
            "                   all         13         26     0.0059      0.885     0.0259    0.00533\n",
            "\n",
            "      Epoch    GPU_mem   box_loss   obj_loss   cls_loss  Instances       Size\n",
            "       4/32     0.728G    0.08344    0.04167          0          2        640: 100%|██████████| 13/13 [00:02<00:00,  5.75it/s]\n",
            "                 Class     Images  Instances          P          R      mAP50   mAP50-95: 100%|██████████| 4/4 [00:09<00:00,  2.37s/it]\n",
            "                   all         13         26    0.00641      0.962     0.0375    0.00804\n",
            "\n",
            "      Epoch    GPU_mem   box_loss   obj_loss   cls_loss  Instances       Size\n",
            "       5/32     0.728G    0.09743    0.05125          0         10        640: 100%|██████████| 13/13 [00:01<00:00,  8.38it/s]\n",
            "                 Class     Images  Instances          P          R      mAP50   mAP50-95: 100%|██████████| 4/4 [00:09<00:00,  2.43s/it]\n",
            "                   all         13         26    0.00641      0.962     0.0375    0.00804\n",
            "\n",
            "      Epoch    GPU_mem   box_loss   obj_loss   cls_loss  Instances       Size\n",
            "       6/32     0.728G     0.0847    0.04622          0          7        640: 100%|██████████| 13/13 [00:01<00:00,  7.83it/s]\n",
            "                 Class     Images  Instances          P          R      mAP50   mAP50-95: 100%|██████████| 4/4 [00:09<00:00,  2.42s/it]\n",
            "                   all         13         26     0.0341      0.808     0.0645     0.0163\n",
            "\n",
            "      Epoch    GPU_mem   box_loss   obj_loss   cls_loss  Instances       Size\n",
            "       7/32     0.728G    0.09853    0.05159          0          9        640: 100%|██████████| 13/13 [00:01<00:00,  7.60it/s]\n",
            "                 Class     Images  Instances          P          R      mAP50   mAP50-95: 100%|██████████| 4/4 [00:09<00:00,  2.39s/it]\n",
            "                   all         13         26     0.0341      0.808     0.0645     0.0163\n",
            "\n",
            "      Epoch    GPU_mem   box_loss   obj_loss   cls_loss  Instances       Size\n",
            "       8/32     0.728G    0.09209    0.04629          0          5        640: 100%|██████████| 13/13 [00:01<00:00,  7.94it/s]\n",
            "                 Class     Images  Instances          P          R      mAP50   mAP50-95: 100%|██████████| 4/4 [00:09<00:00,  2.38s/it]\n",
            "                   all         13         26     0.0713     0.0385      0.134     0.0414\n",
            "\n",
            "      Epoch    GPU_mem   box_loss   obj_loss   cls_loss  Instances       Size\n",
            "       9/32     0.728G    0.06968    0.04119          0          8        640: 100%|██████████| 13/13 [00:01<00:00,  8.19it/s]\n",
            "                 Class     Images  Instances          P          R      mAP50   mAP50-95: 100%|██████████| 4/4 [00:09<00:00,  2.27s/it]\n",
            "                   all         13         26     0.0713     0.0385      0.134     0.0414\n",
            "\n",
            "      Epoch    GPU_mem   box_loss   obj_loss   cls_loss  Instances       Size\n",
            "      10/32     0.728G     0.0669    0.04447          0          4        640: 100%|██████████| 13/13 [00:02<00:00,  5.82it/s]\n",
            "                 Class     Images  Instances          P          R      mAP50   mAP50-95: 100%|██████████| 4/4 [00:08<00:00,  2.17s/it]\n",
            "                   all         13         26      0.208      0.538      0.332      0.112\n",
            "\n",
            "      Epoch    GPU_mem   box_loss   obj_loss   cls_loss  Instances       Size\n",
            "      11/32     0.728G    0.07285    0.04317          0          2        640: 100%|██████████| 13/13 [00:02<00:00,  6.21it/s]\n",
            "                 Class     Images  Instances          P          R      mAP50   mAP50-95: 100%|██████████| 4/4 [00:09<00:00,  2.31s/it]\n",
            "                   all         13         26      0.208      0.538      0.332      0.112\n",
            "\n",
            "      Epoch    GPU_mem   box_loss   obj_loss   cls_loss  Instances       Size\n",
            "      12/32     0.728G    0.07329    0.04454          0          5        640: 100%|██████████| 13/13 [00:01<00:00,  8.49it/s]\n",
            "                 Class     Images  Instances          P          R      mAP50   mAP50-95: 100%|██████████| 4/4 [00:09<00:00,  2.36s/it]\n",
            "                   all         13         26      0.208      0.538      0.332      0.112\n",
            "\n",
            "      Epoch    GPU_mem   box_loss   obj_loss   cls_loss  Instances       Size\n",
            "      13/32     0.728G    0.07396     0.0388          0          3        640: 100%|██████████| 13/13 [00:01<00:00,  8.39it/s]\n",
            "                 Class     Images  Instances          P          R      mAP50   mAP50-95: 100%|██████████| 4/4 [00:09<00:00,  2.39s/it]\n",
            "                   all         13         26      0.437      0.577      0.526      0.204\n",
            "\n",
            "      Epoch    GPU_mem   box_loss   obj_loss   cls_loss  Instances       Size\n",
            "      14/32     0.728G    0.06828    0.04727          0          3        640: 100%|██████████| 13/13 [00:02<00:00,  5.61it/s]\n",
            "                 Class     Images  Instances          P          R      mAP50   mAP50-95: 100%|██████████| 4/4 [00:09<00:00,  2.39s/it]\n",
            "                   all         13         26      0.437      0.577      0.526      0.204\n",
            "\n",
            "      Epoch    GPU_mem   box_loss   obj_loss   cls_loss  Instances       Size\n",
            "      15/32     0.728G    0.06534    0.03787          0          1        640: 100%|██████████| 13/13 [00:01<00:00,  8.46it/s]\n",
            "                 Class     Images  Instances          P          R      mAP50   mAP50-95: 100%|██████████| 4/4 [00:00<00:00, 11.03it/s]\n",
            "                   all         13         26      0.654      0.423      0.629      0.262\n",
            "\n",
            "      Epoch    GPU_mem   box_loss   obj_loss   cls_loss  Instances       Size\n",
            "      16/32     0.728G    0.07649    0.03728          0          4        640: 100%|██████████| 13/13 [00:01<00:00,  8.40it/s]\n",
            "                 Class     Images  Instances          P          R      mAP50   mAP50-95: 100%|██████████| 4/4 [00:00<00:00, 11.24it/s]\n",
            "                   all         13         26      0.654      0.423      0.629      0.262\n",
            "\n",
            "      Epoch    GPU_mem   box_loss   obj_loss   cls_loss  Instances       Size\n",
            "      17/32     0.728G     0.0663     0.0453          0          2        640: 100%|██████████| 13/13 [00:01<00:00,  8.10it/s]\n",
            "                 Class     Images  Instances          P          R      mAP50   mAP50-95: 100%|██████████| 4/4 [00:00<00:00,  8.11it/s]\n",
            "                   all         13         26      0.654      0.423      0.629      0.262\n",
            "\n",
            "      Epoch    GPU_mem   box_loss   obj_loss   cls_loss  Instances       Size\n",
            "      18/32     0.728G    0.06827     0.0468          0          7        640: 100%|██████████| 13/13 [00:02<00:00,  5.75it/s]\n",
            "                 Class     Images  Instances          P          R      mAP50   mAP50-95: 100%|██████████| 4/4 [00:08<00:00,  2.18s/it]\n",
            "                   all         13         26      0.642      0.553      0.699      0.291\n",
            "\n",
            "      Epoch    GPU_mem   box_loss   obj_loss   cls_loss  Instances       Size\n",
            "      19/32     0.728G    0.06273    0.04022          0          6        640: 100%|██████████| 13/13 [00:01<00:00,  6.89it/s]\n",
            "                 Class     Images  Instances          P          R      mAP50   mAP50-95: 100%|██████████| 4/4 [00:09<00:00,  2.32s/it]\n",
            "                   all         13         26      0.642      0.553      0.699      0.291\n",
            "\n",
            "      Epoch    GPU_mem   box_loss   obj_loss   cls_loss  Instances       Size\n",
            "      20/32     0.728G    0.06923    0.04429          0          7        640: 100%|██████████| 13/13 [00:01<00:00,  8.14it/s]\n",
            "                 Class     Images  Instances          P          R      mAP50   mAP50-95: 100%|██████████| 4/4 [00:13<00:00,  3.35s/it]\n",
            "                   all         13         26      0.604      0.703       0.73      0.296\n",
            "\n",
            "      Epoch    GPU_mem   box_loss   obj_loss   cls_loss  Instances       Size\n",
            "      21/32     0.728G     0.0567    0.03968          0          1        640: 100%|██████████| 13/13 [00:01<00:00,  7.92it/s]\n",
            "                 Class     Images  Instances          P          R      mAP50   mAP50-95: 100%|██████████| 4/4 [00:13<00:00,  3.33s/it]\n",
            "                   all         13         26      0.604      0.703       0.73      0.296\n",
            "\n",
            "      Epoch    GPU_mem   box_loss   obj_loss   cls_loss  Instances       Size\n",
            "      22/32     0.728G    0.06073    0.04385          0          1        640: 100%|██████████| 13/13 [00:02<00:00,  5.83it/s]\n",
            "                 Class     Images  Instances          P          R      mAP50   mAP50-95: 100%|██████████| 4/4 [00:13<00:00,  3.32s/it]\n",
            "                   all         13         26      0.604      0.703       0.73      0.296\n",
            "\n",
            "      Epoch    GPU_mem   box_loss   obj_loss   cls_loss  Instances       Size\n",
            "      23/32     0.728G    0.05928    0.04695          0          8        640: 100%|██████████| 13/13 [00:01<00:00,  6.99it/s]\n",
            "                 Class     Images  Instances          P          R      mAP50   mAP50-95: 100%|██████████| 4/4 [00:08<00:00,  2.13s/it]\n",
            "                   all         13         26      0.603       0.76      0.734      0.302\n",
            "\n",
            "      Epoch    GPU_mem   box_loss   obj_loss   cls_loss  Instances       Size\n",
            "      24/32     0.728G    0.04715     0.0349          0          9        640: 100%|██████████| 13/13 [00:02<00:00,  6.22it/s]\n",
            "                 Class     Images  Instances          P          R      mAP50   mAP50-95: 100%|██████████| 4/4 [00:09<00:00,  2.25s/it]\n",
            "                   all         13         26      0.603       0.76      0.734      0.302\n",
            "\n",
            "      Epoch    GPU_mem   box_loss   obj_loss   cls_loss  Instances       Size\n",
            "      25/32     0.728G    0.05232    0.03918          0          1        640: 100%|██████████| 13/13 [00:01<00:00,  8.37it/s]\n",
            "                 Class     Images  Instances          P          R      mAP50   mAP50-95: 100%|██████████| 4/4 [00:09<00:00,  2.38s/it]\n",
            "                   all         13         26      0.562       0.79      0.703       0.27\n",
            "\n",
            "      Epoch    GPU_mem   box_loss   obj_loss   cls_loss  Instances       Size\n",
            "      26/32     0.728G    0.06059    0.04039          0          3        640: 100%|██████████| 13/13 [00:01<00:00,  8.16it/s]\n",
            "                 Class     Images  Instances          P          R      mAP50   mAP50-95: 100%|██████████| 4/4 [00:09<00:00,  2.36s/it]\n",
            "                   all         13         26      0.562       0.79      0.703       0.27\n",
            "\n",
            "      Epoch    GPU_mem   box_loss   obj_loss   cls_loss  Instances       Size\n",
            "      27/32     0.728G    0.05668    0.03845          0          4        640: 100%|██████████| 13/13 [00:01<00:00,  8.53it/s]\n",
            "                 Class     Images  Instances          P          R      mAP50   mAP50-95: 100%|██████████| 4/4 [00:09<00:00,  2.33s/it]\n",
            "                   all         13         26      0.562       0.79      0.703       0.27\n",
            "\n",
            "      Epoch    GPU_mem   box_loss   obj_loss   cls_loss  Instances       Size\n",
            "      28/32     0.728G    0.05983    0.03482          0          3        640: 100%|██████████| 13/13 [00:01<00:00,  8.25it/s]\n",
            "                 Class     Images  Instances          P          R      mAP50   mAP50-95: 100%|██████████| 4/4 [00:13<00:00,  3.34s/it]\n",
            "                   all         13         26      0.574      0.777      0.669      0.255\n",
            "\n",
            "      Epoch    GPU_mem   box_loss   obj_loss   cls_loss  Instances       Size\n",
            "      29/32     0.728G    0.06297    0.04609          0          7        640: 100%|██████████| 13/13 [00:01<00:00,  8.35it/s]\n",
            "                 Class     Images  Instances          P          R      mAP50   mAP50-95: 100%|██████████| 4/4 [00:13<00:00,  3.36s/it]\n",
            "                   all         13         26      0.574      0.777      0.669      0.255\n",
            "\n",
            "      Epoch    GPU_mem   box_loss   obj_loss   cls_loss  Instances       Size\n",
            "      30/32     0.728G    0.05383    0.04079          0          6        640: 100%|██████████| 13/13 [00:01<00:00,  8.76it/s]\n",
            "                 Class     Images  Instances          P          R      mAP50   mAP50-95: 100%|██████████| 4/4 [00:13<00:00,  3.36s/it]\n",
            "                   all         13         26      0.625      0.771       0.82      0.285\n",
            "\n",
            "      Epoch    GPU_mem   box_loss   obj_loss   cls_loss  Instances       Size\n",
            "      31/32     0.728G    0.06006    0.03908          0          8        640: 100%|██████████| 13/13 [00:01<00:00,  8.52it/s]\n",
            "                 Class     Images  Instances          P          R      mAP50   mAP50-95: 100%|██████████| 4/4 [00:13<00:00,  3.35s/it]\n",
            "                   all         13         26      0.625      0.771       0.82      0.285\n",
            "\n",
            "      Epoch    GPU_mem   box_loss   obj_loss   cls_loss  Instances       Size\n",
            "      32/32     0.728G    0.05659    0.03892          0          7        640: 100%|██████████| 13/13 [00:01<00:00,  8.57it/s]\n",
            "                 Class     Images  Instances          P          R      mAP50   mAP50-95: 100%|██████████| 4/4 [00:13<00:00,  3.30s/it]\n",
            "                   all         13         26      0.625      0.771       0.82      0.285\n",
            "\n",
            "33 epochs completed in 0.110 hours.\n",
            "Optimizer stripped from runs/train/exp/weights/last.pt, 14.4MB\n",
            "Optimizer stripped from runs/train/exp/weights/best.pt, 14.4MB\n",
            "\n",
            "Validating runs/train/exp/weights/best.pt...\n",
            "Fusing layers... \n",
            "Model summary: 157 layers, 7012822 parameters, 0 gradients, 15.8 GFLOPs\n",
            "                 Class     Images  Instances          P          R      mAP50   mAP50-95: 100%|██████████| 4/4 [00:01<00:00,  3.79it/s]\n",
            "                   all         13         26      0.604      0.762      0.732      0.302\n",
            "Results saved to \u001b[1mruns/train/exp\u001b[0m\n",
            "\u001b[1;38;5;39mCOMET INFO:\u001b[0m ---------------------------------------------------------------------------------------\n",
            "\u001b[1;38;5;39mCOMET INFO:\u001b[0m Comet.ml OfflineExperiment Summary\n",
            "\u001b[1;38;5;39mCOMET INFO:\u001b[0m ---------------------------------------------------------------------------------------\n",
            "\u001b[1;38;5;39mCOMET INFO:\u001b[0m   Data:\n",
            "\u001b[1;38;5;39mCOMET INFO:\u001b[0m     display_summary_level : 1\n",
            "\u001b[1;38;5;39mCOMET INFO:\u001b[0m     name                  : exp\n",
            "\u001b[1;38;5;39mCOMET INFO:\u001b[0m     url                   : [OfflineExperiment will get URL after upload]\n",
            "\u001b[1;38;5;39mCOMET INFO:\u001b[0m   Metrics [count] (min, max):\n",
            "\u001b[1;38;5;39mCOMET INFO:\u001b[0m     loss [43]                 : (0.045490674674510956, 0.33182603120803833)\n",
            "\u001b[1;38;5;39mCOMET INFO:\u001b[0m     metrics/mAP_0.5 [66]      : (0.005714645094280961, 0.8195181946504294)\n",
            "\u001b[1;38;5;39mCOMET INFO:\u001b[0m     metrics/mAP_0.5:0.95 [66] : (0.0013900966072607427, 0.30227420323502974)\n",
            "\u001b[1;38;5;39mCOMET INFO:\u001b[0m     metrics/precision [66]    : (0.0035897435897435897, 0.6535222125941522)\n",
            "\u001b[1;38;5;39mCOMET INFO:\u001b[0m     metrics/recall [66]       : (0.038461538461538464, 0.9615384615384616)\n",
            "\u001b[1;38;5;39mCOMET INFO:\u001b[0m     train/box_loss [66]       : (0.047151681035757065, 0.0995614230632782)\n",
            "\u001b[1;38;5;39mCOMET INFO:\u001b[0m     train/cls_loss            : 0.0\n",
            "\u001b[1;38;5;39mCOMET INFO:\u001b[0m     train/obj_loss [66]       : (0.03482172638177872, 0.05159248039126396)\n",
            "\u001b[1;38;5;39mCOMET INFO:\u001b[0m     val/box_loss [66]         : (0.02946980483829975, 0.0693625956773758)\n",
            "\u001b[1;38;5;39mCOMET INFO:\u001b[0m     val/cls_loss              : 0.0\n",
            "\u001b[1;38;5;39mCOMET INFO:\u001b[0m     val/obj_loss [66]         : (0.018523097038269043, 0.029508590698242188)\n",
            "\u001b[1;38;5;39mCOMET INFO:\u001b[0m     x/lr0 [66]                : (0.0006999999999999996, 0.0892)\n",
            "\u001b[1;38;5;39mCOMET INFO:\u001b[0m     x/lr1 [66]                : (0.0006999999999999996, 0.007899999999999999)\n",
            "\u001b[1;38;5;39mCOMET INFO:\u001b[0m     x/lr2 [66]                : (0.0006999999999999996, 0.007899999999999999)\n",
            "\u001b[1;38;5;39mCOMET INFO:\u001b[0m   Others:\n",
            "\u001b[1;38;5;39mCOMET INFO:\u001b[0m     Name                        : exp\n",
            "\u001b[1;38;5;39mCOMET INFO:\u001b[0m     comet_log_batch_metrics     : False\n",
            "\u001b[1;38;5;39mCOMET INFO:\u001b[0m     comet_log_confusion_matrix  : True\n",
            "\u001b[1;38;5;39mCOMET INFO:\u001b[0m     comet_log_per_class_metrics : False\n",
            "\u001b[1;38;5;39mCOMET INFO:\u001b[0m     comet_max_image_uploads     : 100\n",
            "\u001b[1;38;5;39mCOMET INFO:\u001b[0m     comet_mode                  : online\n",
            "\u001b[1;38;5;39mCOMET INFO:\u001b[0m     comet_model_name            : yolov5\n",
            "\u001b[1;38;5;39mCOMET INFO:\u001b[0m     hasNestedParams             : True\n",
            "\u001b[1;38;5;39mCOMET INFO:\u001b[0m     offline_experiment          : True\n",
            "\u001b[1;38;5;39mCOMET INFO:\u001b[0m   Parameters:\n",
            "\u001b[1;38;5;39mCOMET INFO:\u001b[0m     anchor_t            : 4.0\n",
            "\u001b[1;38;5;39mCOMET INFO:\u001b[0m     artifact_alias      : latest\n",
            "\u001b[1;38;5;39mCOMET INFO:\u001b[0m     batch_size          : 2\n",
            "\u001b[1;38;5;39mCOMET INFO:\u001b[0m     bbox_interval       : -1\n",
            "\u001b[1;38;5;39mCOMET INFO:\u001b[0m     box                 : 0.05\n",
            "\u001b[1;38;5;39mCOMET INFO:\u001b[0m     bucket              : \n",
            "\u001b[1;38;5;39mCOMET INFO:\u001b[0m     cfg                 : \n",
            "\u001b[1;38;5;39mCOMET INFO:\u001b[0m     cls                 : 0.006250000000000001\n",
            "\u001b[1;38;5;39mCOMET INFO:\u001b[0m     cls_pw              : 1.0\n",
            "\u001b[1;38;5;39mCOMET INFO:\u001b[0m     copy_paste          : 0.0\n",
            "\u001b[1;38;5;39mCOMET INFO:\u001b[0m     cos_lr              : False\n",
            "\u001b[1;38;5;39mCOMET INFO:\u001b[0m     degrees             : 0.0\n",
            "\u001b[1;38;5;39mCOMET INFO:\u001b[0m     device              : \n",
            "\u001b[1;38;5;39mCOMET INFO:\u001b[0m     entity              : None\n",
            "\u001b[1;38;5;39mCOMET INFO:\u001b[0m     evolve              : None\n",
            "\u001b[1;38;5;39mCOMET INFO:\u001b[0m     evolve_population   : data/hyps\n",
            "\u001b[1;38;5;39mCOMET INFO:\u001b[0m     exist_ok            : False\n",
            "\u001b[1;38;5;39mCOMET INFO:\u001b[0m     fl_gamma            : 0.0\n",
            "\u001b[1;38;5;39mCOMET INFO:\u001b[0m     fliplr              : 0.5\n",
            "\u001b[1;38;5;39mCOMET INFO:\u001b[0m     flipud              : 0.0\n",
            "\u001b[1;38;5;39mCOMET INFO:\u001b[0m     freeze              : [0]\n",
            "\u001b[1;38;5;39mCOMET INFO:\u001b[0m     hsv_h               : 0.015\n",
            "\u001b[1;38;5;39mCOMET INFO:\u001b[0m     hsv_s               : 0.7\n",
            "\u001b[1;38;5;39mCOMET INFO:\u001b[0m     hsv_v               : 0.4\n",
            "\u001b[1;38;5;39mCOMET INFO:\u001b[0m     hyp|anchor_t        : 4.0\n",
            "\u001b[1;38;5;39mCOMET INFO:\u001b[0m     hyp|box             : 0.05\n",
            "\u001b[1;38;5;39mCOMET INFO:\u001b[0m     hyp|cls             : 0.5\n",
            "\u001b[1;38;5;39mCOMET INFO:\u001b[0m     hyp|cls_pw          : 1.0\n",
            "\u001b[1;38;5;39mCOMET INFO:\u001b[0m     hyp|copy_paste      : 0.0\n",
            "\u001b[1;38;5;39mCOMET INFO:\u001b[0m     hyp|degrees         : 0.0\n",
            "\u001b[1;38;5;39mCOMET INFO:\u001b[0m     hyp|fl_gamma        : 0.0\n",
            "\u001b[1;38;5;39mCOMET INFO:\u001b[0m     hyp|fliplr          : 0.5\n",
            "\u001b[1;38;5;39mCOMET INFO:\u001b[0m     hyp|flipud          : 0.0\n",
            "\u001b[1;38;5;39mCOMET INFO:\u001b[0m     hyp|hsv_h           : 0.015\n",
            "\u001b[1;38;5;39mCOMET INFO:\u001b[0m     hyp|hsv_s           : 0.7\n",
            "\u001b[1;38;5;39mCOMET INFO:\u001b[0m     hyp|hsv_v           : 0.4\n",
            "\u001b[1;38;5;39mCOMET INFO:\u001b[0m     hyp|iou_t           : 0.2\n",
            "\u001b[1;38;5;39mCOMET INFO:\u001b[0m     hyp|lr0             : 0.01\n",
            "\u001b[1;38;5;39mCOMET INFO:\u001b[0m     hyp|lrf             : 0.01\n",
            "\u001b[1;38;5;39mCOMET INFO:\u001b[0m     hyp|mixup           : 0.0\n",
            "\u001b[1;38;5;39mCOMET INFO:\u001b[0m     hyp|momentum        : 0.937\n",
            "\u001b[1;38;5;39mCOMET INFO:\u001b[0m     hyp|mosaic          : 1.0\n",
            "\u001b[1;38;5;39mCOMET INFO:\u001b[0m     hyp|obj             : 1.0\n",
            "\u001b[1;38;5;39mCOMET INFO:\u001b[0m     hyp|obj_pw          : 1.0\n",
            "\u001b[1;38;5;39mCOMET INFO:\u001b[0m     hyp|perspective     : 0.0\n",
            "\u001b[1;38;5;39mCOMET INFO:\u001b[0m     hyp|scale           : 0.5\n",
            "\u001b[1;38;5;39mCOMET INFO:\u001b[0m     hyp|shear           : 0.0\n",
            "\u001b[1;38;5;39mCOMET INFO:\u001b[0m     hyp|translate       : 0.1\n",
            "\u001b[1;38;5;39mCOMET INFO:\u001b[0m     hyp|warmup_bias_lr  : 0.1\n",
            "\u001b[1;38;5;39mCOMET INFO:\u001b[0m     hyp|warmup_epochs   : 3.0\n",
            "\u001b[1;38;5;39mCOMET INFO:\u001b[0m     hyp|warmup_momentum : 0.8\n",
            "\u001b[1;38;5;39mCOMET INFO:\u001b[0m     hyp|weight_decay    : 0.0005\n",
            "\u001b[1;38;5;39mCOMET INFO:\u001b[0m     image_weights       : False\n",
            "\u001b[1;38;5;39mCOMET INFO:\u001b[0m     imgsz               : 640\n",
            "\u001b[1;38;5;39mCOMET INFO:\u001b[0m     iou_t               : 0.2\n",
            "\u001b[1;38;5;39mCOMET INFO:\u001b[0m     label_smoothing     : 0.0\n",
            "\u001b[1;38;5;39mCOMET INFO:\u001b[0m     local_rank          : -1\n",
            "\u001b[1;38;5;39mCOMET INFO:\u001b[0m     lr0                 : 0.01\n",
            "\u001b[1;38;5;39mCOMET INFO:\u001b[0m     lrf                 : 0.01\n",
            "\u001b[1;38;5;39mCOMET INFO:\u001b[0m     mixup               : 0.0\n",
            "\u001b[1;38;5;39mCOMET INFO:\u001b[0m     momentum            : 0.937\n",
            "\u001b[1;38;5;39mCOMET INFO:\u001b[0m     mosaic              : 1.0\n",
            "\u001b[1;38;5;39mCOMET INFO:\u001b[0m     multi_scale         : False\n",
            "\u001b[1;38;5;39mCOMET INFO:\u001b[0m     name                : exp\n",
            "\u001b[1;38;5;39mCOMET INFO:\u001b[0m     ndjson_console      : False\n",
            "\u001b[1;38;5;39mCOMET INFO:\u001b[0m     ndjson_file         : False\n",
            "\u001b[1;38;5;39mCOMET INFO:\u001b[0m     noautoanchor        : False\n",
            "\u001b[1;38;5;39mCOMET INFO:\u001b[0m     noplots             : False\n",
            "\u001b[1;38;5;39mCOMET INFO:\u001b[0m     nosave              : False\n",
            "\u001b[1;38;5;39mCOMET INFO:\u001b[0m     noval               : False\n",
            "\u001b[1;38;5;39mCOMET INFO:\u001b[0m     obj                 : 1.0\n",
            "\u001b[1;38;5;39mCOMET INFO:\u001b[0m     obj_pw              : 1.0\n",
            "\u001b[1;38;5;39mCOMET INFO:\u001b[0m     optimizer           : SGD\n",
            "\u001b[1;38;5;39mCOMET INFO:\u001b[0m     patience            : 100\n",
            "\u001b[1;38;5;39mCOMET INFO:\u001b[0m     perspective         : 0.0\n",
            "\u001b[1;38;5;39mCOMET INFO:\u001b[0m     project             : runs/train\n",
            "\u001b[1;38;5;39mCOMET INFO:\u001b[0m     quad                : False\n",
            "\u001b[1;38;5;39mCOMET INFO:\u001b[0m     rect                : False\n",
            "\u001b[1;38;5;39mCOMET INFO:\u001b[0m     resume              : False\n",
            "\u001b[1;38;5;39mCOMET INFO:\u001b[0m     resume_evolve       : None\n",
            "\u001b[1;38;5;39mCOMET INFO:\u001b[0m     save_dir            : runs/train/exp\n",
            "\u001b[1;38;5;39mCOMET INFO:\u001b[0m     save_period         : -1\n",
            "\u001b[1;38;5;39mCOMET INFO:\u001b[0m     scale               : 0.5\n",
            "\u001b[1;38;5;39mCOMET INFO:\u001b[0m     seed                : 0\n",
            "\u001b[1;38;5;39mCOMET INFO:\u001b[0m     shear               : 0.0\n",
            "\u001b[1;38;5;39mCOMET INFO:\u001b[0m     single_cls          : False\n",
            "\u001b[1;38;5;39mCOMET INFO:\u001b[0m     sync_bn             : False\n",
            "\u001b[1;38;5;39mCOMET INFO:\u001b[0m     translate           : 0.1\n",
            "\u001b[1;38;5;39mCOMET INFO:\u001b[0m     upload_dataset      : False\n",
            "\u001b[1;38;5;39mCOMET INFO:\u001b[0m     val_conf_threshold  : 0.001\n",
            "\u001b[1;38;5;39mCOMET INFO:\u001b[0m     val_iou_threshold   : 0.6\n",
            "\u001b[1;38;5;39mCOMET INFO:\u001b[0m     warmup_bias_lr      : 0.1\n",
            "\u001b[1;38;5;39mCOMET INFO:\u001b[0m     warmup_epochs       : 3.0\n",
            "\u001b[1;38;5;39mCOMET INFO:\u001b[0m     warmup_momentum     : 0.8\n",
            "\u001b[1;38;5;39mCOMET INFO:\u001b[0m     weight_decay        : 0.0005\n",
            "\u001b[1;38;5;39mCOMET INFO:\u001b[0m     workers             : 8\n",
            "\u001b[1;38;5;39mCOMET INFO:\u001b[0m   Uploads:\n",
            "\u001b[1;38;5;39mCOMET INFO:\u001b[0m     asset               : 13 (1.03 MB)\n",
            "\u001b[1;38;5;39mCOMET INFO:\u001b[0m     confusion-matrix    : 1\n",
            "\u001b[1;38;5;39mCOMET INFO:\u001b[0m     environment details : 1\n",
            "\u001b[1;38;5;39mCOMET INFO:\u001b[0m     git metadata        : 1\n",
            "\u001b[1;38;5;39mCOMET INFO:\u001b[0m     images              : 43\n",
            "\u001b[1;38;5;39mCOMET INFO:\u001b[0m     installed packages  : 1\n",
            "\u001b[1;38;5;39mCOMET INFO:\u001b[0m     model graph         : 1\n",
            "\u001b[1;38;5;39mCOMET INFO:\u001b[0m     os packages         : 1\n",
            "\u001b[1;38;5;39mCOMET INFO:\u001b[0m \n",
            "\u001b[1;38;5;39mCOMET INFO:\u001b[0m Still saving offline stats to messages file before program termination (may take up to 120 seconds)\n",
            "\u001b[1;38;5;39mCOMET INFO:\u001b[0m Starting saving the offline archive\n",
            "\u001b[1;38;5;39mCOMET INFO:\u001b[0m To upload this offline experiment, run:\n",
            "    comet upload /content/yolov5/.cometml-runs/7e904b96f8a246b48c388b609177668d.zip\n"
          ]
        }
      ]
    },
    {
      "cell_type": "code",
      "source": [],
      "metadata": {
        "id": "meMhnNS3vDYD"
      },
      "execution_count": null,
      "outputs": []
    },
    {
      "cell_type": "markdown",
      "source": [
        "### Prediction on the video"
      ],
      "metadata": {
        "id": "fXx_49ddvXSm"
      }
    },
    {
      "cell_type": "code",
      "source": [
        "!python detect.py --weights /content/yolov5/runs/train/exp/weights/best.pt --img 640 --conf 0.25 --source /content/drive/MyDrive/test/VID_chicken.mp4"
      ],
      "metadata": {
        "colab": {
          "base_uri": "https://localhost:8080/"
        },
        "id": "fRmRmAC2vDi5",
        "outputId": "df6a7161-05c6-4400-f885-28e2454cb9d7"
      },
      "execution_count": 4,
      "outputs": [
        {
          "output_type": "stream",
          "name": "stdout",
          "text": [
            "\u001b[34m\u001b[1mdetect: \u001b[0mweights=['/content/yolov5/runs/train/exp/weights/best.pt'], source=/content/drive/MyDrive/test/VID_chicken.mp4, data=data/coco128.yaml, imgsz=[640, 640], conf_thres=0.25, iou_thres=0.45, max_det=1000, device=, view_img=False, save_txt=False, save_csv=False, save_conf=False, save_crop=False, nosave=False, classes=None, agnostic_nms=False, augment=False, visualize=False, update=False, project=runs/detect, name=exp, exist_ok=False, line_thickness=3, hide_labels=False, hide_conf=False, half=False, dnn=False, vid_stride=1\n",
            "YOLOv5 🚀 v7.0-306-gb599ae42 Python-3.10.12 torch-2.2.1+cu121 CUDA:0 (Tesla T4, 15102MiB)\n",
            "\n",
            "Fusing layers... \n",
            "Model summary: 157 layers, 7012822 parameters, 0 gradients, 15.8 GFLOPs\n",
            "WARNING ⚠️ NMS time limit 0.550s exceeded\n",
            "video 1/1 (1/476) /content/drive/MyDrive/test/VID_chicken.mp4: 384x640 2 chickens, 62.4ms\n",
            "video 1/1 (2/476) /content/drive/MyDrive/test/VID_chicken.mp4: 384x640 2 chickens, 12.5ms\n",
            "video 1/1 (3/476) /content/drive/MyDrive/test/VID_chicken.mp4: 384x640 2 chickens, 12.0ms\n",
            "video 1/1 (4/476) /content/drive/MyDrive/test/VID_chicken.mp4: 384x640 2 chickens, 14.0ms\n",
            "video 1/1 (5/476) /content/drive/MyDrive/test/VID_chicken.mp4: 384x640 1 chicken, 13.3ms\n",
            "video 1/1 (6/476) /content/drive/MyDrive/test/VID_chicken.mp4: 384x640 2 chickens, 17.7ms\n",
            "video 1/1 (7/476) /content/drive/MyDrive/test/VID_chicken.mp4: 384x640 2 chickens, 14.1ms\n",
            "video 1/1 (8/476) /content/drive/MyDrive/test/VID_chicken.mp4: 384x640 1 chicken, 12.3ms\n",
            "video 1/1 (9/476) /content/drive/MyDrive/test/VID_chicken.mp4: 384x640 2 chickens, 13.2ms\n",
            "video 1/1 (10/476) /content/drive/MyDrive/test/VID_chicken.mp4: 384x640 2 chickens, 14.3ms\n",
            "video 1/1 (11/476) /content/drive/MyDrive/test/VID_chicken.mp4: 384x640 3 chickens, 16.1ms\n",
            "video 1/1 (12/476) /content/drive/MyDrive/test/VID_chicken.mp4: 384x640 2 chickens, 14.5ms\n",
            "video 1/1 (13/476) /content/drive/MyDrive/test/VID_chicken.mp4: 384x640 1 chicken, 14.5ms\n",
            "video 1/1 (14/476) /content/drive/MyDrive/test/VID_chicken.mp4: 384x640 1 chicken, 14.6ms\n",
            "video 1/1 (15/476) /content/drive/MyDrive/test/VID_chicken.mp4: 384x640 (no detections), 11.6ms\n",
            "video 1/1 (16/476) /content/drive/MyDrive/test/VID_chicken.mp4: 384x640 (no detections), 14.8ms\n",
            "video 1/1 (17/476) /content/drive/MyDrive/test/VID_chicken.mp4: 384x640 1 chicken, 13.8ms\n",
            "video 1/1 (18/476) /content/drive/MyDrive/test/VID_chicken.mp4: 384x640 1 chicken, 13.1ms\n",
            "video 1/1 (19/476) /content/drive/MyDrive/test/VID_chicken.mp4: 384x640 2 chickens, 16.3ms\n",
            "video 1/1 (20/476) /content/drive/MyDrive/test/VID_chicken.mp4: 384x640 1 chicken, 15.8ms\n",
            "video 1/1 (21/476) /content/drive/MyDrive/test/VID_chicken.mp4: 384x640 2 chickens, 12.8ms\n",
            "video 1/1 (22/476) /content/drive/MyDrive/test/VID_chicken.mp4: 384x640 2 chickens, 19.7ms\n",
            "video 1/1 (23/476) /content/drive/MyDrive/test/VID_chicken.mp4: 384x640 1 chicken, 14.8ms\n",
            "video 1/1 (24/476) /content/drive/MyDrive/test/VID_chicken.mp4: 384x640 1 chicken, 16.3ms\n",
            "video 1/1 (25/476) /content/drive/MyDrive/test/VID_chicken.mp4: 384x640 1 chicken, 15.6ms\n",
            "video 1/1 (26/476) /content/drive/MyDrive/test/VID_chicken.mp4: 384x640 (no detections), 14.6ms\n",
            "video 1/1 (27/476) /content/drive/MyDrive/test/VID_chicken.mp4: 384x640 1 chicken, 10.0ms\n",
            "video 1/1 (28/476) /content/drive/MyDrive/test/VID_chicken.mp4: 384x640 1 chicken, 12.4ms\n",
            "video 1/1 (29/476) /content/drive/MyDrive/test/VID_chicken.mp4: 384x640 2 chickens, 13.9ms\n",
            "video 1/1 (30/476) /content/drive/MyDrive/test/VID_chicken.mp4: 384x640 2 chickens, 13.8ms\n",
            "video 1/1 (31/476) /content/drive/MyDrive/test/VID_chicken.mp4: 384x640 1 chicken, 11.3ms\n",
            "video 1/1 (32/476) /content/drive/MyDrive/test/VID_chicken.mp4: 384x640 1 chicken, 18.4ms\n",
            "video 1/1 (33/476) /content/drive/MyDrive/test/VID_chicken.mp4: 384x640 2 chickens, 13.3ms\n",
            "video 1/1 (34/476) /content/drive/MyDrive/test/VID_chicken.mp4: 384x640 1 chicken, 14.0ms\n",
            "video 1/1 (35/476) /content/drive/MyDrive/test/VID_chicken.mp4: 384x640 1 chicken, 13.8ms\n",
            "video 1/1 (36/476) /content/drive/MyDrive/test/VID_chicken.mp4: 384x640 1 chicken, 10.6ms\n",
            "video 1/1 (37/476) /content/drive/MyDrive/test/VID_chicken.mp4: 384x640 1 chicken, 12.6ms\n",
            "video 1/1 (38/476) /content/drive/MyDrive/test/VID_chicken.mp4: 384x640 1 chicken, 10.7ms\n",
            "video 1/1 (39/476) /content/drive/MyDrive/test/VID_chicken.mp4: 384x640 1 chicken, 15.0ms\n",
            "video 1/1 (40/476) /content/drive/MyDrive/test/VID_chicken.mp4: 384x640 1 chicken, 14.3ms\n",
            "video 1/1 (41/476) /content/drive/MyDrive/test/VID_chicken.mp4: 384x640 2 chickens, 11.9ms\n",
            "video 1/1 (42/476) /content/drive/MyDrive/test/VID_chicken.mp4: 384x640 2 chickens, 12.0ms\n",
            "video 1/1 (43/476) /content/drive/MyDrive/test/VID_chicken.mp4: 384x640 2 chickens, 15.2ms\n",
            "video 1/1 (44/476) /content/drive/MyDrive/test/VID_chicken.mp4: 384x640 2 chickens, 13.9ms\n",
            "video 1/1 (45/476) /content/drive/MyDrive/test/VID_chicken.mp4: 384x640 2 chickens, 14.4ms\n",
            "video 1/1 (46/476) /content/drive/MyDrive/test/VID_chicken.mp4: 384x640 2 chickens, 11.0ms\n",
            "video 1/1 (47/476) /content/drive/MyDrive/test/VID_chicken.mp4: 384x640 2 chickens, 12.4ms\n",
            "video 1/1 (48/476) /content/drive/MyDrive/test/VID_chicken.mp4: 384x640 2 chickens, 7.8ms\n",
            "video 1/1 (49/476) /content/drive/MyDrive/test/VID_chicken.mp4: 384x640 3 chickens, 15.4ms\n",
            "video 1/1 (50/476) /content/drive/MyDrive/test/VID_chicken.mp4: 384x640 3 chickens, 11.8ms\n",
            "video 1/1 (51/476) /content/drive/MyDrive/test/VID_chicken.mp4: 384x640 2 chickens, 15.9ms\n",
            "video 1/1 (52/476) /content/drive/MyDrive/test/VID_chicken.mp4: 384x640 2 chickens, 16.5ms\n",
            "video 1/1 (53/476) /content/drive/MyDrive/test/VID_chicken.mp4: 384x640 2 chickens, 18.9ms\n",
            "video 1/1 (54/476) /content/drive/MyDrive/test/VID_chicken.mp4: 384x640 2 chickens, 10.0ms\n",
            "video 1/1 (55/476) /content/drive/MyDrive/test/VID_chicken.mp4: 384x640 3 chickens, 13.8ms\n",
            "video 1/1 (56/476) /content/drive/MyDrive/test/VID_chicken.mp4: 384x640 2 chickens, 19.4ms\n",
            "video 1/1 (57/476) /content/drive/MyDrive/test/VID_chicken.mp4: 384x640 2 chickens, 13.5ms\n",
            "video 1/1 (58/476) /content/drive/MyDrive/test/VID_chicken.mp4: 384x640 3 chickens, 12.1ms\n",
            "video 1/1 (59/476) /content/drive/MyDrive/test/VID_chicken.mp4: 384x640 3 chickens, 10.8ms\n",
            "video 1/1 (60/476) /content/drive/MyDrive/test/VID_chicken.mp4: 384x640 3 chickens, 11.6ms\n",
            "video 1/1 (61/476) /content/drive/MyDrive/test/VID_chicken.mp4: 384x640 1 chicken, 14.4ms\n",
            "video 1/1 (62/476) /content/drive/MyDrive/test/VID_chicken.mp4: 384x640 2 chickens, 11.9ms\n",
            "video 1/1 (63/476) /content/drive/MyDrive/test/VID_chicken.mp4: 384x640 2 chickens, 13.7ms\n",
            "video 1/1 (64/476) /content/drive/MyDrive/test/VID_chicken.mp4: 384x640 2 chickens, 13.9ms\n",
            "video 1/1 (65/476) /content/drive/MyDrive/test/VID_chicken.mp4: 384x640 2 chickens, 13.2ms\n",
            "video 1/1 (66/476) /content/drive/MyDrive/test/VID_chicken.mp4: 384x640 2 chickens, 10.1ms\n",
            "video 1/1 (67/476) /content/drive/MyDrive/test/VID_chicken.mp4: 384x640 3 chickens, 15.7ms\n",
            "video 1/1 (68/476) /content/drive/MyDrive/test/VID_chicken.mp4: 384x640 2 chickens, 12.3ms\n",
            "video 1/1 (69/476) /content/drive/MyDrive/test/VID_chicken.mp4: 384x640 2 chickens, 14.2ms\n",
            "video 1/1 (70/476) /content/drive/MyDrive/test/VID_chicken.mp4: 384x640 2 chickens, 14.5ms\n",
            "video 1/1 (71/476) /content/drive/MyDrive/test/VID_chicken.mp4: 384x640 2 chickens, 10.2ms\n",
            "video 1/1 (72/476) /content/drive/MyDrive/test/VID_chicken.mp4: 384x640 2 chickens, 10.4ms\n",
            "video 1/1 (73/476) /content/drive/MyDrive/test/VID_chicken.mp4: 384x640 2 chickens, 12.2ms\n",
            "video 1/1 (74/476) /content/drive/MyDrive/test/VID_chicken.mp4: 384x640 1 chicken, 16.1ms\n",
            "video 1/1 (75/476) /content/drive/MyDrive/test/VID_chicken.mp4: 384x640 3 chickens, 12.4ms\n",
            "video 1/1 (76/476) /content/drive/MyDrive/test/VID_chicken.mp4: 384x640 3 chickens, 14.8ms\n",
            "video 1/1 (77/476) /content/drive/MyDrive/test/VID_chicken.mp4: 384x640 3 chickens, 15.4ms\n",
            "video 1/1 (78/476) /content/drive/MyDrive/test/VID_chicken.mp4: 384x640 2 chickens, 12.4ms\n",
            "video 1/1 (79/476) /content/drive/MyDrive/test/VID_chicken.mp4: 384x640 3 chickens, 10.5ms\n",
            "video 1/1 (80/476) /content/drive/MyDrive/test/VID_chicken.mp4: 384x640 2 chickens, 15.0ms\n",
            "video 1/1 (81/476) /content/drive/MyDrive/test/VID_chicken.mp4: 384x640 1 chicken, 12.2ms\n",
            "video 1/1 (82/476) /content/drive/MyDrive/test/VID_chicken.mp4: 384x640 1 chicken, 17.3ms\n",
            "video 1/1 (83/476) /content/drive/MyDrive/test/VID_chicken.mp4: 384x640 1 chicken, 15.7ms\n",
            "video 1/1 (84/476) /content/drive/MyDrive/test/VID_chicken.mp4: 384x640 1 chicken, 12.7ms\n",
            "video 1/1 (85/476) /content/drive/MyDrive/test/VID_chicken.mp4: 384x640 1 chicken, 11.1ms\n",
            "video 1/1 (86/476) /content/drive/MyDrive/test/VID_chicken.mp4: 384x640 1 chicken, 14.1ms\n",
            "video 1/1 (87/476) /content/drive/MyDrive/test/VID_chicken.mp4: 384x640 1 chicken, 12.5ms\n",
            "video 1/1 (88/476) /content/drive/MyDrive/test/VID_chicken.mp4: 384x640 (no detections), 14.9ms\n",
            "video 1/1 (89/476) /content/drive/MyDrive/test/VID_chicken.mp4: 384x640 (no detections), 14.1ms\n",
            "video 1/1 (90/476) /content/drive/MyDrive/test/VID_chicken.mp4: 384x640 (no detections), 16.6ms\n",
            "video 1/1 (91/476) /content/drive/MyDrive/test/VID_chicken.mp4: 384x640 (no detections), 13.4ms\n",
            "video 1/1 (92/476) /content/drive/MyDrive/test/VID_chicken.mp4: 384x640 (no detections), 12.3ms\n",
            "video 1/1 (93/476) /content/drive/MyDrive/test/VID_chicken.mp4: 384x640 (no detections), 10.3ms\n",
            "video 1/1 (94/476) /content/drive/MyDrive/test/VID_chicken.mp4: 384x640 (no detections), 23.8ms\n",
            "video 1/1 (95/476) /content/drive/MyDrive/test/VID_chicken.mp4: 384x640 (no detections), 18.3ms\n",
            "video 1/1 (96/476) /content/drive/MyDrive/test/VID_chicken.mp4: 384x640 (no detections), 11.9ms\n",
            "video 1/1 (97/476) /content/drive/MyDrive/test/VID_chicken.mp4: 384x640 (no detections), 11.8ms\n",
            "video 1/1 (98/476) /content/drive/MyDrive/test/VID_chicken.mp4: 384x640 (no detections), 12.0ms\n",
            "video 1/1 (99/476) /content/drive/MyDrive/test/VID_chicken.mp4: 384x640 (no detections), 12.0ms\n",
            "video 1/1 (100/476) /content/drive/MyDrive/test/VID_chicken.mp4: 384x640 (no detections), 8.3ms\n",
            "video 1/1 (101/476) /content/drive/MyDrive/test/VID_chicken.mp4: 384x640 (no detections), 10.0ms\n",
            "video 1/1 (102/476) /content/drive/MyDrive/test/VID_chicken.mp4: 384x640 (no detections), 16.4ms\n",
            "video 1/1 (103/476) /content/drive/MyDrive/test/VID_chicken.mp4: 384x640 (no detections), 12.0ms\n",
            "video 1/1 (104/476) /content/drive/MyDrive/test/VID_chicken.mp4: 384x640 (no detections), 20.0ms\n",
            "video 1/1 (105/476) /content/drive/MyDrive/test/VID_chicken.mp4: 384x640 (no detections), 13.5ms\n",
            "video 1/1 (106/476) /content/drive/MyDrive/test/VID_chicken.mp4: 384x640 (no detections), 12.1ms\n",
            "video 1/1 (107/476) /content/drive/MyDrive/test/VID_chicken.mp4: 384x640 (no detections), 19.2ms\n",
            "video 1/1 (108/476) /content/drive/MyDrive/test/VID_chicken.mp4: 384x640 (no detections), 14.0ms\n",
            "video 1/1 (109/476) /content/drive/MyDrive/test/VID_chicken.mp4: 384x640 (no detections), 15.6ms\n",
            "video 1/1 (110/476) /content/drive/MyDrive/test/VID_chicken.mp4: 384x640 (no detections), 14.4ms\n",
            "video 1/1 (111/476) /content/drive/MyDrive/test/VID_chicken.mp4: 384x640 (no detections), 17.1ms\n",
            "video 1/1 (112/476) /content/drive/MyDrive/test/VID_chicken.mp4: 384x640 (no detections), 13.3ms\n",
            "video 1/1 (113/476) /content/drive/MyDrive/test/VID_chicken.mp4: 384x640 (no detections), 11.0ms\n",
            "video 1/1 (114/476) /content/drive/MyDrive/test/VID_chicken.mp4: 384x640 (no detections), 17.1ms\n",
            "video 1/1 (115/476) /content/drive/MyDrive/test/VID_chicken.mp4: 384x640 (no detections), 11.5ms\n",
            "video 1/1 (116/476) /content/drive/MyDrive/test/VID_chicken.mp4: 384x640 (no detections), 13.9ms\n",
            "video 1/1 (117/476) /content/drive/MyDrive/test/VID_chicken.mp4: 384x640 (no detections), 12.2ms\n",
            "video 1/1 (118/476) /content/drive/MyDrive/test/VID_chicken.mp4: 384x640 (no detections), 14.8ms\n",
            "video 1/1 (119/476) /content/drive/MyDrive/test/VID_chicken.mp4: 384x640 (no detections), 14.7ms\n",
            "video 1/1 (120/476) /content/drive/MyDrive/test/VID_chicken.mp4: 384x640 (no detections), 13.4ms\n",
            "video 1/1 (121/476) /content/drive/MyDrive/test/VID_chicken.mp4: 384x640 1 chicken, 24.1ms\n",
            "video 1/1 (122/476) /content/drive/MyDrive/test/VID_chicken.mp4: 384x640 (no detections), 13.2ms\n",
            "video 1/1 (123/476) /content/drive/MyDrive/test/VID_chicken.mp4: 384x640 (no detections), 16.0ms\n",
            "video 1/1 (124/476) /content/drive/MyDrive/test/VID_chicken.mp4: 384x640 (no detections), 17.9ms\n",
            "video 1/1 (125/476) /content/drive/MyDrive/test/VID_chicken.mp4: 384x640 (no detections), 14.0ms\n",
            "video 1/1 (126/476) /content/drive/MyDrive/test/VID_chicken.mp4: 384x640 (no detections), 13.4ms\n",
            "video 1/1 (127/476) /content/drive/MyDrive/test/VID_chicken.mp4: 384x640 (no detections), 25.3ms\n",
            "video 1/1 (128/476) /content/drive/MyDrive/test/VID_chicken.mp4: 384x640 (no detections), 16.3ms\n",
            "video 1/1 (129/476) /content/drive/MyDrive/test/VID_chicken.mp4: 384x640 (no detections), 15.2ms\n",
            "video 1/1 (130/476) /content/drive/MyDrive/test/VID_chicken.mp4: 384x640 1 chicken, 19.3ms\n",
            "video 1/1 (131/476) /content/drive/MyDrive/test/VID_chicken.mp4: 384x640 (no detections), 19.1ms\n",
            "video 1/1 (132/476) /content/drive/MyDrive/test/VID_chicken.mp4: 384x640 (no detections), 24.9ms\n",
            "video 1/1 (133/476) /content/drive/MyDrive/test/VID_chicken.mp4: 384x640 (no detections), 28.1ms\n",
            "video 1/1 (134/476) /content/drive/MyDrive/test/VID_chicken.mp4: 384x640 (no detections), 11.4ms\n",
            "video 1/1 (135/476) /content/drive/MyDrive/test/VID_chicken.mp4: 384x640 (no detections), 15.8ms\n",
            "video 1/1 (136/476) /content/drive/MyDrive/test/VID_chicken.mp4: 384x640 (no detections), 11.9ms\n",
            "video 1/1 (137/476) /content/drive/MyDrive/test/VID_chicken.mp4: 384x640 (no detections), 14.7ms\n",
            "video 1/1 (138/476) /content/drive/MyDrive/test/VID_chicken.mp4: 384x640 (no detections), 17.4ms\n",
            "video 1/1 (139/476) /content/drive/MyDrive/test/VID_chicken.mp4: 384x640 (no detections), 26.4ms\n",
            "video 1/1 (140/476) /content/drive/MyDrive/test/VID_chicken.mp4: 384x640 (no detections), 11.6ms\n",
            "video 1/1 (141/476) /content/drive/MyDrive/test/VID_chicken.mp4: 384x640 (no detections), 12.6ms\n",
            "video 1/1 (142/476) /content/drive/MyDrive/test/VID_chicken.mp4: 384x640 (no detections), 9.6ms\n",
            "video 1/1 (143/476) /content/drive/MyDrive/test/VID_chicken.mp4: 384x640 (no detections), 23.5ms\n",
            "video 1/1 (144/476) /content/drive/MyDrive/test/VID_chicken.mp4: 384x640 (no detections), 22.8ms\n",
            "video 1/1 (145/476) /content/drive/MyDrive/test/VID_chicken.mp4: 384x640 (no detections), 11.2ms\n",
            "video 1/1 (146/476) /content/drive/MyDrive/test/VID_chicken.mp4: 384x640 (no detections), 21.9ms\n",
            "video 1/1 (147/476) /content/drive/MyDrive/test/VID_chicken.mp4: 384x640 (no detections), 17.9ms\n",
            "video 1/1 (148/476) /content/drive/MyDrive/test/VID_chicken.mp4: 384x640 (no detections), 15.2ms\n",
            "video 1/1 (149/476) /content/drive/MyDrive/test/VID_chicken.mp4: 384x640 (no detections), 31.5ms\n",
            "video 1/1 (150/476) /content/drive/MyDrive/test/VID_chicken.mp4: 384x640 (no detections), 32.0ms\n",
            "video 1/1 (151/476) /content/drive/MyDrive/test/VID_chicken.mp4: 384x640 (no detections), 22.8ms\n",
            "video 1/1 (152/476) /content/drive/MyDrive/test/VID_chicken.mp4: 384x640 (no detections), 17.4ms\n",
            "video 1/1 (153/476) /content/drive/MyDrive/test/VID_chicken.mp4: 384x640 (no detections), 21.0ms\n",
            "video 1/1 (154/476) /content/drive/MyDrive/test/VID_chicken.mp4: 384x640 (no detections), 17.2ms\n",
            "video 1/1 (155/476) /content/drive/MyDrive/test/VID_chicken.mp4: 384x640 (no detections), 9.9ms\n",
            "video 1/1 (156/476) /content/drive/MyDrive/test/VID_chicken.mp4: 384x640 (no detections), 12.8ms\n",
            "video 1/1 (157/476) /content/drive/MyDrive/test/VID_chicken.mp4: 384x640 1 chicken, 17.1ms\n",
            "video 1/1 (158/476) /content/drive/MyDrive/test/VID_chicken.mp4: 384x640 2 chickens, 17.3ms\n",
            "video 1/1 (159/476) /content/drive/MyDrive/test/VID_chicken.mp4: 384x640 2 chickens, 20.5ms\n",
            "video 1/1 (160/476) /content/drive/MyDrive/test/VID_chicken.mp4: 384x640 2 chickens, 9.7ms\n",
            "video 1/1 (161/476) /content/drive/MyDrive/test/VID_chicken.mp4: 384x640 1 chicken, 20.4ms\n",
            "video 1/1 (162/476) /content/drive/MyDrive/test/VID_chicken.mp4: 384x640 1 chicken, 13.9ms\n",
            "video 1/1 (163/476) /content/drive/MyDrive/test/VID_chicken.mp4: 384x640 1 chicken, 26.5ms\n",
            "video 1/1 (164/476) /content/drive/MyDrive/test/VID_chicken.mp4: 384x640 1 chicken, 23.0ms\n",
            "video 1/1 (165/476) /content/drive/MyDrive/test/VID_chicken.mp4: 384x640 1 chicken, 31.7ms\n",
            "video 1/1 (166/476) /content/drive/MyDrive/test/VID_chicken.mp4: 384x640 (no detections), 26.0ms\n",
            "video 1/1 (167/476) /content/drive/MyDrive/test/VID_chicken.mp4: 384x640 1 chicken, 11.2ms\n",
            "video 1/1 (168/476) /content/drive/MyDrive/test/VID_chicken.mp4: 384x640 1 chicken, 16.6ms\n",
            "video 1/1 (169/476) /content/drive/MyDrive/test/VID_chicken.mp4: 384x640 1 chicken, 11.5ms\n",
            "video 1/1 (170/476) /content/drive/MyDrive/test/VID_chicken.mp4: 384x640 (no detections), 19.5ms\n",
            "video 1/1 (171/476) /content/drive/MyDrive/test/VID_chicken.mp4: 384x640 (no detections), 9.4ms\n",
            "video 1/1 (172/476) /content/drive/MyDrive/test/VID_chicken.mp4: 384x640 (no detections), 24.8ms\n",
            "video 1/1 (173/476) /content/drive/MyDrive/test/VID_chicken.mp4: 384x640 (no detections), 13.6ms\n",
            "video 1/1 (174/476) /content/drive/MyDrive/test/VID_chicken.mp4: 384x640 1 chicken, 15.5ms\n",
            "video 1/1 (175/476) /content/drive/MyDrive/test/VID_chicken.mp4: 384x640 2 chickens, 22.2ms\n",
            "video 1/1 (176/476) /content/drive/MyDrive/test/VID_chicken.mp4: 384x640 1 chicken, 20.0ms\n",
            "video 1/1 (177/476) /content/drive/MyDrive/test/VID_chicken.mp4: 384x640 2 chickens, 30.4ms\n",
            "video 1/1 (178/476) /content/drive/MyDrive/test/VID_chicken.mp4: 384x640 1 chicken, 17.5ms\n",
            "video 1/1 (179/476) /content/drive/MyDrive/test/VID_chicken.mp4: 384x640 (no detections), 15.5ms\n",
            "video 1/1 (180/476) /content/drive/MyDrive/test/VID_chicken.mp4: 384x640 (no detections), 13.1ms\n",
            "video 1/1 (181/476) /content/drive/MyDrive/test/VID_chicken.mp4: 384x640 1 chicken, 16.8ms\n",
            "video 1/1 (182/476) /content/drive/MyDrive/test/VID_chicken.mp4: 384x640 1 chicken, 21.5ms\n",
            "video 1/1 (183/476) /content/drive/MyDrive/test/VID_chicken.mp4: 384x640 2 chickens, 22.7ms\n",
            "video 1/1 (184/476) /content/drive/MyDrive/test/VID_chicken.mp4: 384x640 (no detections), 21.3ms\n",
            "video 1/1 (185/476) /content/drive/MyDrive/test/VID_chicken.mp4: 384x640 (no detections), 16.6ms\n",
            "video 1/1 (186/476) /content/drive/MyDrive/test/VID_chicken.mp4: 384x640 (no detections), 31.1ms\n",
            "video 1/1 (187/476) /content/drive/MyDrive/test/VID_chicken.mp4: 384x640 2 chickens, 18.5ms\n",
            "video 1/1 (188/476) /content/drive/MyDrive/test/VID_chicken.mp4: 384x640 (no detections), 35.6ms\n",
            "video 1/1 (189/476) /content/drive/MyDrive/test/VID_chicken.mp4: 384x640 (no detections), 26.7ms\n",
            "video 1/1 (190/476) /content/drive/MyDrive/test/VID_chicken.mp4: 384x640 (no detections), 25.5ms\n",
            "video 1/1 (191/476) /content/drive/MyDrive/test/VID_chicken.mp4: 384x640 (no detections), 13.4ms\n",
            "video 1/1 (192/476) /content/drive/MyDrive/test/VID_chicken.mp4: 384x640 (no detections), 16.0ms\n",
            "video 1/1 (193/476) /content/drive/MyDrive/test/VID_chicken.mp4: 384x640 (no detections), 12.6ms\n",
            "video 1/1 (194/476) /content/drive/MyDrive/test/VID_chicken.mp4: 384x640 (no detections), 9.9ms\n",
            "video 1/1 (195/476) /content/drive/MyDrive/test/VID_chicken.mp4: 384x640 (no detections), 14.3ms\n",
            "video 1/1 (196/476) /content/drive/MyDrive/test/VID_chicken.mp4: 384x640 (no detections), 14.6ms\n",
            "video 1/1 (197/476) /content/drive/MyDrive/test/VID_chicken.mp4: 384x640 (no detections), 15.6ms\n",
            "video 1/1 (198/476) /content/drive/MyDrive/test/VID_chicken.mp4: 384x640 (no detections), 14.3ms\n",
            "video 1/1 (199/476) /content/drive/MyDrive/test/VID_chicken.mp4: 384x640 (no detections), 10.1ms\n",
            "video 1/1 (200/476) /content/drive/MyDrive/test/VID_chicken.mp4: 384x640 (no detections), 15.8ms\n",
            "video 1/1 (201/476) /content/drive/MyDrive/test/VID_chicken.mp4: 384x640 (no detections), 14.0ms\n",
            "video 1/1 (202/476) /content/drive/MyDrive/test/VID_chicken.mp4: 384x640 (no detections), 11.3ms\n",
            "video 1/1 (203/476) /content/drive/MyDrive/test/VID_chicken.mp4: 384x640 (no detections), 10.3ms\n",
            "video 1/1 (204/476) /content/drive/MyDrive/test/VID_chicken.mp4: 384x640 (no detections), 14.4ms\n",
            "video 1/1 (205/476) /content/drive/MyDrive/test/VID_chicken.mp4: 384x640 (no detections), 12.6ms\n",
            "video 1/1 (206/476) /content/drive/MyDrive/test/VID_chicken.mp4: 384x640 (no detections), 16.5ms\n",
            "video 1/1 (207/476) /content/drive/MyDrive/test/VID_chicken.mp4: 384x640 (no detections), 15.9ms\n",
            "video 1/1 (208/476) /content/drive/MyDrive/test/VID_chicken.mp4: 384x640 (no detections), 16.9ms\n",
            "video 1/1 (209/476) /content/drive/MyDrive/test/VID_chicken.mp4: 384x640 (no detections), 11.4ms\n",
            "video 1/1 (210/476) /content/drive/MyDrive/test/VID_chicken.mp4: 384x640 (no detections), 12.6ms\n",
            "video 1/1 (211/476) /content/drive/MyDrive/test/VID_chicken.mp4: 384x640 (no detections), 13.2ms\n",
            "video 1/1 (212/476) /content/drive/MyDrive/test/VID_chicken.mp4: 384x640 (no detections), 12.2ms\n",
            "video 1/1 (213/476) /content/drive/MyDrive/test/VID_chicken.mp4: 384x640 (no detections), 12.4ms\n",
            "video 1/1 (214/476) /content/drive/MyDrive/test/VID_chicken.mp4: 384x640 (no detections), 15.1ms\n",
            "video 1/1 (215/476) /content/drive/MyDrive/test/VID_chicken.mp4: 384x640 (no detections), 11.5ms\n",
            "video 1/1 (216/476) /content/drive/MyDrive/test/VID_chicken.mp4: 384x640 (no detections), 11.9ms\n",
            "video 1/1 (217/476) /content/drive/MyDrive/test/VID_chicken.mp4: 384x640 1 chicken, 14.1ms\n",
            "video 1/1 (218/476) /content/drive/MyDrive/test/VID_chicken.mp4: 384x640 1 chicken, 12.7ms\n",
            "video 1/1 (219/476) /content/drive/MyDrive/test/VID_chicken.mp4: 384x640 (no detections), 14.2ms\n",
            "video 1/1 (220/476) /content/drive/MyDrive/test/VID_chicken.mp4: 384x640 (no detections), 10.8ms\n",
            "video 1/1 (221/476) /content/drive/MyDrive/test/VID_chicken.mp4: 384x640 (no detections), 14.9ms\n",
            "video 1/1 (222/476) /content/drive/MyDrive/test/VID_chicken.mp4: 384x640 (no detections), 14.5ms\n",
            "video 1/1 (223/476) /content/drive/MyDrive/test/VID_chicken.mp4: 384x640 (no detections), 14.6ms\n",
            "video 1/1 (224/476) /content/drive/MyDrive/test/VID_chicken.mp4: 384x640 (no detections), 17.4ms\n",
            "video 1/1 (225/476) /content/drive/MyDrive/test/VID_chicken.mp4: 384x640 (no detections), 16.3ms\n",
            "video 1/1 (226/476) /content/drive/MyDrive/test/VID_chicken.mp4: 384x640 (no detections), 14.6ms\n",
            "video 1/1 (227/476) /content/drive/MyDrive/test/VID_chicken.mp4: 384x640 (no detections), 12.5ms\n",
            "video 1/1 (228/476) /content/drive/MyDrive/test/VID_chicken.mp4: 384x640 (no detections), 12.5ms\n",
            "video 1/1 (229/476) /content/drive/MyDrive/test/VID_chicken.mp4: 384x640 (no detections), 16.5ms\n",
            "video 1/1 (230/476) /content/drive/MyDrive/test/VID_chicken.mp4: 384x640 (no detections), 15.7ms\n",
            "video 1/1 (231/476) /content/drive/MyDrive/test/VID_chicken.mp4: 384x640 (no detections), 19.9ms\n",
            "video 1/1 (232/476) /content/drive/MyDrive/test/VID_chicken.mp4: 384x640 (no detections), 20.3ms\n",
            "video 1/1 (233/476) /content/drive/MyDrive/test/VID_chicken.mp4: 384x640 (no detections), 12.3ms\n",
            "video 1/1 (234/476) /content/drive/MyDrive/test/VID_chicken.mp4: 384x640 (no detections), 11.4ms\n",
            "video 1/1 (235/476) /content/drive/MyDrive/test/VID_chicken.mp4: 384x640 (no detections), 14.2ms\n",
            "video 1/1 (236/476) /content/drive/MyDrive/test/VID_chicken.mp4: 384x640 (no detections), 12.0ms\n",
            "video 1/1 (237/476) /content/drive/MyDrive/test/VID_chicken.mp4: 384x640 (no detections), 14.4ms\n",
            "video 1/1 (238/476) /content/drive/MyDrive/test/VID_chicken.mp4: 384x640 (no detections), 13.7ms\n",
            "video 1/1 (239/476) /content/drive/MyDrive/test/VID_chicken.mp4: 384x640 (no detections), 10.3ms\n",
            "video 1/1 (240/476) /content/drive/MyDrive/test/VID_chicken.mp4: 384x640 (no detections), 13.7ms\n",
            "video 1/1 (241/476) /content/drive/MyDrive/test/VID_chicken.mp4: 384x640 (no detections), 12.4ms\n",
            "video 1/1 (242/476) /content/drive/MyDrive/test/VID_chicken.mp4: 384x640 (no detections), 10.0ms\n",
            "video 1/1 (243/476) /content/drive/MyDrive/test/VID_chicken.mp4: 384x640 (no detections), 12.0ms\n",
            "video 1/1 (244/476) /content/drive/MyDrive/test/VID_chicken.mp4: 384x640 (no detections), 16.9ms\n",
            "video 1/1 (245/476) /content/drive/MyDrive/test/VID_chicken.mp4: 384x640 (no detections), 9.9ms\n",
            "video 1/1 (246/476) /content/drive/MyDrive/test/VID_chicken.mp4: 384x640 (no detections), 15.8ms\n",
            "video 1/1 (247/476) /content/drive/MyDrive/test/VID_chicken.mp4: 384x640 (no detections), 12.6ms\n",
            "video 1/1 (248/476) /content/drive/MyDrive/test/VID_chicken.mp4: 384x640 (no detections), 10.3ms\n",
            "video 1/1 (249/476) /content/drive/MyDrive/test/VID_chicken.mp4: 384x640 (no detections), 15.5ms\n",
            "video 1/1 (250/476) /content/drive/MyDrive/test/VID_chicken.mp4: 384x640 (no detections), 16.2ms\n",
            "video 1/1 (251/476) /content/drive/MyDrive/test/VID_chicken.mp4: 384x640 (no detections), 11.1ms\n",
            "video 1/1 (252/476) /content/drive/MyDrive/test/VID_chicken.mp4: 384x640 (no detections), 19.2ms\n",
            "video 1/1 (253/476) /content/drive/MyDrive/test/VID_chicken.mp4: 384x640 (no detections), 16.8ms\n",
            "video 1/1 (254/476) /content/drive/MyDrive/test/VID_chicken.mp4: 384x640 (no detections), 12.4ms\n",
            "video 1/1 (255/476) /content/drive/MyDrive/test/VID_chicken.mp4: 384x640 (no detections), 15.7ms\n",
            "video 1/1 (256/476) /content/drive/MyDrive/test/VID_chicken.mp4: 384x640 (no detections), 12.3ms\n",
            "video 1/1 (257/476) /content/drive/MyDrive/test/VID_chicken.mp4: 384x640 (no detections), 15.1ms\n",
            "video 1/1 (258/476) /content/drive/MyDrive/test/VID_chicken.mp4: 384x640 (no detections), 21.6ms\n",
            "video 1/1 (259/476) /content/drive/MyDrive/test/VID_chicken.mp4: 384x640 (no detections), 13.7ms\n",
            "video 1/1 (260/476) /content/drive/MyDrive/test/VID_chicken.mp4: 384x640 (no detections), 12.6ms\n",
            "video 1/1 (261/476) /content/drive/MyDrive/test/VID_chicken.mp4: 384x640 (no detections), 14.6ms\n",
            "video 1/1 (262/476) /content/drive/MyDrive/test/VID_chicken.mp4: 384x640 (no detections), 10.8ms\n",
            "video 1/1 (263/476) /content/drive/MyDrive/test/VID_chicken.mp4: 384x640 (no detections), 9.6ms\n",
            "video 1/1 (264/476) /content/drive/MyDrive/test/VID_chicken.mp4: 384x640 (no detections), 14.6ms\n",
            "video 1/1 (265/476) /content/drive/MyDrive/test/VID_chicken.mp4: 384x640 (no detections), 14.1ms\n",
            "video 1/1 (266/476) /content/drive/MyDrive/test/VID_chicken.mp4: 384x640 (no detections), 19.0ms\n",
            "video 1/1 (267/476) /content/drive/MyDrive/test/VID_chicken.mp4: 384x640 (no detections), 12.2ms\n",
            "video 1/1 (268/476) /content/drive/MyDrive/test/VID_chicken.mp4: 384x640 (no detections), 15.7ms\n",
            "video 1/1 (269/476) /content/drive/MyDrive/test/VID_chicken.mp4: 384x640 (no detections), 25.3ms\n",
            "video 1/1 (270/476) /content/drive/MyDrive/test/VID_chicken.mp4: 384x640 (no detections), 13.5ms\n",
            "video 1/1 (271/476) /content/drive/MyDrive/test/VID_chicken.mp4: 384x640 (no detections), 17.3ms\n",
            "video 1/1 (272/476) /content/drive/MyDrive/test/VID_chicken.mp4: 384x640 (no detections), 14.2ms\n",
            "video 1/1 (273/476) /content/drive/MyDrive/test/VID_chicken.mp4: 384x640 (no detections), 13.2ms\n",
            "video 1/1 (274/476) /content/drive/MyDrive/test/VID_chicken.mp4: 384x640 (no detections), 17.9ms\n",
            "video 1/1 (275/476) /content/drive/MyDrive/test/VID_chicken.mp4: 384x640 (no detections), 16.4ms\n",
            "video 1/1 (276/476) /content/drive/MyDrive/test/VID_chicken.mp4: 384x640 (no detections), 13.7ms\n",
            "video 1/1 (277/476) /content/drive/MyDrive/test/VID_chicken.mp4: 384x640 (no detections), 14.8ms\n",
            "video 1/1 (278/476) /content/drive/MyDrive/test/VID_chicken.mp4: 384x640 (no detections), 15.8ms\n",
            "video 1/1 (279/476) /content/drive/MyDrive/test/VID_chicken.mp4: 384x640 (no detections), 12.7ms\n",
            "video 1/1 (280/476) /content/drive/MyDrive/test/VID_chicken.mp4: 384x640 (no detections), 15.6ms\n",
            "video 1/1 (281/476) /content/drive/MyDrive/test/VID_chicken.mp4: 384x640 (no detections), 12.5ms\n",
            "video 1/1 (282/476) /content/drive/MyDrive/test/VID_chicken.mp4: 384x640 (no detections), 9.4ms\n",
            "video 1/1 (283/476) /content/drive/MyDrive/test/VID_chicken.mp4: 384x640 (no detections), 13.7ms\n",
            "video 1/1 (284/476) /content/drive/MyDrive/test/VID_chicken.mp4: 384x640 (no detections), 12.3ms\n",
            "video 1/1 (285/476) /content/drive/MyDrive/test/VID_chicken.mp4: 384x640 (no detections), 16.6ms\n",
            "video 1/1 (286/476) /content/drive/MyDrive/test/VID_chicken.mp4: 384x640 (no detections), 12.6ms\n",
            "video 1/1 (287/476) /content/drive/MyDrive/test/VID_chicken.mp4: 384x640 (no detections), 7.7ms\n",
            "video 1/1 (288/476) /content/drive/MyDrive/test/VID_chicken.mp4: 384x640 (no detections), 12.5ms\n",
            "video 1/1 (289/476) /content/drive/MyDrive/test/VID_chicken.mp4: 384x640 (no detections), 14.3ms\n",
            "video 1/1 (290/476) /content/drive/MyDrive/test/VID_chicken.mp4: 384x640 (no detections), 14.3ms\n",
            "video 1/1 (291/476) /content/drive/MyDrive/test/VID_chicken.mp4: 384x640 (no detections), 17.0ms\n",
            "video 1/1 (292/476) /content/drive/MyDrive/test/VID_chicken.mp4: 384x640 (no detections), 16.0ms\n",
            "video 1/1 (293/476) /content/drive/MyDrive/test/VID_chicken.mp4: 384x640 (no detections), 11.8ms\n",
            "video 1/1 (294/476) /content/drive/MyDrive/test/VID_chicken.mp4: 384x640 (no detections), 9.6ms\n",
            "video 1/1 (295/476) /content/drive/MyDrive/test/VID_chicken.mp4: 384x640 (no detections), 10.4ms\n",
            "video 1/1 (296/476) /content/drive/MyDrive/test/VID_chicken.mp4: 384x640 (no detections), 14.5ms\n",
            "video 1/1 (297/476) /content/drive/MyDrive/test/VID_chicken.mp4: 384x640 (no detections), 11.4ms\n",
            "video 1/1 (298/476) /content/drive/MyDrive/test/VID_chicken.mp4: 384x640 (no detections), 18.8ms\n",
            "video 1/1 (299/476) /content/drive/MyDrive/test/VID_chicken.mp4: 384x640 (no detections), 14.1ms\n",
            "video 1/1 (300/476) /content/drive/MyDrive/test/VID_chicken.mp4: 384x640 (no detections), 13.4ms\n",
            "video 1/1 (301/476) /content/drive/MyDrive/test/VID_chicken.mp4: 384x640 (no detections), 14.1ms\n",
            "video 1/1 (302/476) /content/drive/MyDrive/test/VID_chicken.mp4: 384x640 (no detections), 14.8ms\n",
            "video 1/1 (303/476) /content/drive/MyDrive/test/VID_chicken.mp4: 384x640 (no detections), 13.1ms\n",
            "video 1/1 (304/476) /content/drive/MyDrive/test/VID_chicken.mp4: 384x640 (no detections), 16.2ms\n",
            "video 1/1 (305/476) /content/drive/MyDrive/test/VID_chicken.mp4: 384x640 (no detections), 15.5ms\n",
            "video 1/1 (306/476) /content/drive/MyDrive/test/VID_chicken.mp4: 384x640 (no detections), 10.9ms\n",
            "video 1/1 (307/476) /content/drive/MyDrive/test/VID_chicken.mp4: 384x640 (no detections), 14.3ms\n",
            "video 1/1 (308/476) /content/drive/MyDrive/test/VID_chicken.mp4: 384x640 (no detections), 10.7ms\n",
            "video 1/1 (309/476) /content/drive/MyDrive/test/VID_chicken.mp4: 384x640 (no detections), 12.6ms\n",
            "video 1/1 (310/476) /content/drive/MyDrive/test/VID_chicken.mp4: 384x640 (no detections), 12.4ms\n",
            "video 1/1 (311/476) /content/drive/MyDrive/test/VID_chicken.mp4: 384x640 (no detections), 11.7ms\n",
            "video 1/1 (312/476) /content/drive/MyDrive/test/VID_chicken.mp4: 384x640 (no detections), 10.9ms\n",
            "video 1/1 (313/476) /content/drive/MyDrive/test/VID_chicken.mp4: 384x640 (no detections), 16.7ms\n",
            "video 1/1 (314/476) /content/drive/MyDrive/test/VID_chicken.mp4: 384x640 (no detections), 12.5ms\n",
            "video 1/1 (315/476) /content/drive/MyDrive/test/VID_chicken.mp4: 384x640 (no detections), 12.2ms\n",
            "video 1/1 (316/476) /content/drive/MyDrive/test/VID_chicken.mp4: 384x640 (no detections), 13.0ms\n",
            "video 1/1 (317/476) /content/drive/MyDrive/test/VID_chicken.mp4: 384x640 (no detections), 16.1ms\n",
            "video 1/1 (318/476) /content/drive/MyDrive/test/VID_chicken.mp4: 384x640 (no detections), 15.8ms\n",
            "video 1/1 (319/476) /content/drive/MyDrive/test/VID_chicken.mp4: 384x640 (no detections), 12.7ms\n",
            "video 1/1 (320/476) /content/drive/MyDrive/test/VID_chicken.mp4: 384x640 (no detections), 17.1ms\n",
            "video 1/1 (321/476) /content/drive/MyDrive/test/VID_chicken.mp4: 384x640 (no detections), 11.0ms\n",
            "video 1/1 (322/476) /content/drive/MyDrive/test/VID_chicken.mp4: 384x640 1 chicken, 12.7ms\n",
            "video 1/1 (323/476) /content/drive/MyDrive/test/VID_chicken.mp4: 384x640 1 chicken, 12.4ms\n",
            "video 1/1 (324/476) /content/drive/MyDrive/test/VID_chicken.mp4: 384x640 1 chicken, 17.6ms\n",
            "video 1/1 (325/476) /content/drive/MyDrive/test/VID_chicken.mp4: 384x640 (no detections), 12.2ms\n",
            "video 1/1 (326/476) /content/drive/MyDrive/test/VID_chicken.mp4: 384x640 (no detections), 24.0ms\n",
            "video 1/1 (327/476) /content/drive/MyDrive/test/VID_chicken.mp4: 384x640 (no detections), 13.9ms\n",
            "video 1/1 (328/476) /content/drive/MyDrive/test/VID_chicken.mp4: 384x640 (no detections), 15.4ms\n",
            "video 1/1 (329/476) /content/drive/MyDrive/test/VID_chicken.mp4: 384x640 (no detections), 11.9ms\n",
            "video 1/1 (330/476) /content/drive/MyDrive/test/VID_chicken.mp4: 384x640 (no detections), 12.0ms\n",
            "video 1/1 (331/476) /content/drive/MyDrive/test/VID_chicken.mp4: 384x640 1 chicken, 11.0ms\n",
            "video 1/1 (332/476) /content/drive/MyDrive/test/VID_chicken.mp4: 384x640 (no detections), 12.4ms\n",
            "video 1/1 (333/476) /content/drive/MyDrive/test/VID_chicken.mp4: 384x640 (no detections), 13.2ms\n",
            "video 1/1 (334/476) /content/drive/MyDrive/test/VID_chicken.mp4: 384x640 (no detections), 10.9ms\n",
            "video 1/1 (335/476) /content/drive/MyDrive/test/VID_chicken.mp4: 384x640 (no detections), 10.7ms\n",
            "video 1/1 (336/476) /content/drive/MyDrive/test/VID_chicken.mp4: 384x640 (no detections), 15.1ms\n",
            "video 1/1 (337/476) /content/drive/MyDrive/test/VID_chicken.mp4: 384x640 (no detections), 11.1ms\n",
            "video 1/1 (338/476) /content/drive/MyDrive/test/VID_chicken.mp4: 384x640 (no detections), 14.4ms\n",
            "video 1/1 (339/476) /content/drive/MyDrive/test/VID_chicken.mp4: 384x640 (no detections), 12.5ms\n",
            "video 1/1 (340/476) /content/drive/MyDrive/test/VID_chicken.mp4: 384x640 (no detections), 15.0ms\n",
            "video 1/1 (341/476) /content/drive/MyDrive/test/VID_chicken.mp4: 384x640 (no detections), 10.3ms\n",
            "video 1/1 (342/476) /content/drive/MyDrive/test/VID_chicken.mp4: 384x640 1 chicken, 12.6ms\n",
            "video 1/1 (343/476) /content/drive/MyDrive/test/VID_chicken.mp4: 384x640 1 chicken, 10.9ms\n",
            "video 1/1 (344/476) /content/drive/MyDrive/test/VID_chicken.mp4: 384x640 1 chicken, 17.8ms\n",
            "video 1/1 (345/476) /content/drive/MyDrive/test/VID_chicken.mp4: 384x640 1 chicken, 9.2ms\n",
            "video 1/1 (346/476) /content/drive/MyDrive/test/VID_chicken.mp4: 384x640 1 chicken, 15.2ms\n",
            "video 1/1 (347/476) /content/drive/MyDrive/test/VID_chicken.mp4: 384x640 1 chicken, 17.3ms\n",
            "video 1/1 (348/476) /content/drive/MyDrive/test/VID_chicken.mp4: 384x640 1 chicken, 10.8ms\n",
            "video 1/1 (349/476) /content/drive/MyDrive/test/VID_chicken.mp4: 384x640 1 chicken, 10.7ms\n",
            "video 1/1 (350/476) /content/drive/MyDrive/test/VID_chicken.mp4: 384x640 1 chicken, 12.9ms\n",
            "video 1/1 (351/476) /content/drive/MyDrive/test/VID_chicken.mp4: 384x640 (no detections), 12.7ms\n",
            "video 1/1 (352/476) /content/drive/MyDrive/test/VID_chicken.mp4: 384x640 (no detections), 12.5ms\n",
            "video 1/1 (353/476) /content/drive/MyDrive/test/VID_chicken.mp4: 384x640 (no detections), 12.1ms\n",
            "video 1/1 (354/476) /content/drive/MyDrive/test/VID_chicken.mp4: 384x640 (no detections), 10.9ms\n",
            "video 1/1 (355/476) /content/drive/MyDrive/test/VID_chicken.mp4: 384x640 (no detections), 12.3ms\n",
            "video 1/1 (356/476) /content/drive/MyDrive/test/VID_chicken.mp4: 384x640 (no detections), 15.6ms\n",
            "video 1/1 (357/476) /content/drive/MyDrive/test/VID_chicken.mp4: 384x640 (no detections), 10.5ms\n",
            "video 1/1 (358/476) /content/drive/MyDrive/test/VID_chicken.mp4: 384x640 (no detections), 23.0ms\n",
            "video 1/1 (359/476) /content/drive/MyDrive/test/VID_chicken.mp4: 384x640 (no detections), 12.6ms\n",
            "video 1/1 (360/476) /content/drive/MyDrive/test/VID_chicken.mp4: 384x640 (no detections), 10.2ms\n",
            "video 1/1 (361/476) /content/drive/MyDrive/test/VID_chicken.mp4: 384x640 (no detections), 10.7ms\n",
            "video 1/1 (362/476) /content/drive/MyDrive/test/VID_chicken.mp4: 384x640 (no detections), 18.3ms\n",
            "video 1/1 (363/476) /content/drive/MyDrive/test/VID_chicken.mp4: 384x640 (no detections), 12.5ms\n",
            "video 1/1 (364/476) /content/drive/MyDrive/test/VID_chicken.mp4: 384x640 (no detections), 13.6ms\n",
            "video 1/1 (365/476) /content/drive/MyDrive/test/VID_chicken.mp4: 384x640 (no detections), 15.6ms\n",
            "video 1/1 (366/476) /content/drive/MyDrive/test/VID_chicken.mp4: 384x640 (no detections), 12.0ms\n",
            "video 1/1 (367/476) /content/drive/MyDrive/test/VID_chicken.mp4: 384x640 (no detections), 12.1ms\n",
            "video 1/1 (368/476) /content/drive/MyDrive/test/VID_chicken.mp4: 384x640 (no detections), 12.8ms\n",
            "video 1/1 (369/476) /content/drive/MyDrive/test/VID_chicken.mp4: 384x640 (no detections), 12.4ms\n",
            "video 1/1 (370/476) /content/drive/MyDrive/test/VID_chicken.mp4: 384x640 (no detections), 12.2ms\n",
            "video 1/1 (371/476) /content/drive/MyDrive/test/VID_chicken.mp4: 384x640 (no detections), 14.1ms\n",
            "video 1/1 (372/476) /content/drive/MyDrive/test/VID_chicken.mp4: 384x640 (no detections), 14.2ms\n",
            "video 1/1 (373/476) /content/drive/MyDrive/test/VID_chicken.mp4: 384x640 (no detections), 10.4ms\n",
            "video 1/1 (374/476) /content/drive/MyDrive/test/VID_chicken.mp4: 384x640 (no detections), 14.0ms\n",
            "video 1/1 (375/476) /content/drive/MyDrive/test/VID_chicken.mp4: 384x640 (no detections), 14.7ms\n",
            "video 1/1 (376/476) /content/drive/MyDrive/test/VID_chicken.mp4: 384x640 (no detections), 15.9ms\n",
            "video 1/1 (377/476) /content/drive/MyDrive/test/VID_chicken.mp4: 384x640 (no detections), 17.4ms\n",
            "video 1/1 (378/476) /content/drive/MyDrive/test/VID_chicken.mp4: 384x640 (no detections), 12.0ms\n",
            "video 1/1 (379/476) /content/drive/MyDrive/test/VID_chicken.mp4: 384x640 (no detections), 13.4ms\n",
            "video 1/1 (380/476) /content/drive/MyDrive/test/VID_chicken.mp4: 384x640 (no detections), 14.2ms\n",
            "video 1/1 (381/476) /content/drive/MyDrive/test/VID_chicken.mp4: 384x640 (no detections), 14.7ms\n",
            "video 1/1 (382/476) /content/drive/MyDrive/test/VID_chicken.mp4: 384x640 (no detections), 12.2ms\n",
            "video 1/1 (383/476) /content/drive/MyDrive/test/VID_chicken.mp4: 384x640 (no detections), 14.2ms\n",
            "video 1/1 (384/476) /content/drive/MyDrive/test/VID_chicken.mp4: 384x640 (no detections), 10.2ms\n",
            "video 1/1 (385/476) /content/drive/MyDrive/test/VID_chicken.mp4: 384x640 (no detections), 12.7ms\n",
            "video 1/1 (386/476) /content/drive/MyDrive/test/VID_chicken.mp4: 384x640 1 chicken, 15.3ms\n",
            "video 1/1 (387/476) /content/drive/MyDrive/test/VID_chicken.mp4: 384x640 (no detections), 15.2ms\n",
            "video 1/1 (388/476) /content/drive/MyDrive/test/VID_chicken.mp4: 384x640 (no detections), 14.0ms\n",
            "video 1/1 (389/476) /content/drive/MyDrive/test/VID_chicken.mp4: 384x640 (no detections), 16.1ms\n",
            "video 1/1 (390/476) /content/drive/MyDrive/test/VID_chicken.mp4: 384x640 (no detections), 12.3ms\n",
            "video 1/1 (391/476) /content/drive/MyDrive/test/VID_chicken.mp4: 384x640 (no detections), 10.4ms\n",
            "video 1/1 (392/476) /content/drive/MyDrive/test/VID_chicken.mp4: 384x640 (no detections), 16.4ms\n",
            "video 1/1 (393/476) /content/drive/MyDrive/test/VID_chicken.mp4: 384x640 (no detections), 14.4ms\n",
            "video 1/1 (394/476) /content/drive/MyDrive/test/VID_chicken.mp4: 384x640 1 chicken, 12.8ms\n",
            "video 1/1 (395/476) /content/drive/MyDrive/test/VID_chicken.mp4: 384x640 1 chicken, 11.8ms\n",
            "video 1/1 (396/476) /content/drive/MyDrive/test/VID_chicken.mp4: 384x640 (no detections), 10.3ms\n",
            "video 1/1 (397/476) /content/drive/MyDrive/test/VID_chicken.mp4: 384x640 (no detections), 15.2ms\n",
            "video 1/1 (398/476) /content/drive/MyDrive/test/VID_chicken.mp4: 384x640 (no detections), 17.6ms\n",
            "video 1/1 (399/476) /content/drive/MyDrive/test/VID_chicken.mp4: 384x640 (no detections), 18.1ms\n",
            "video 1/1 (400/476) /content/drive/MyDrive/test/VID_chicken.mp4: 384x640 (no detections), 16.8ms\n",
            "video 1/1 (401/476) /content/drive/MyDrive/test/VID_chicken.mp4: 384x640 (no detections), 17.9ms\n",
            "video 1/1 (402/476) /content/drive/MyDrive/test/VID_chicken.mp4: 384x640 (no detections), 10.9ms\n",
            "video 1/1 (403/476) /content/drive/MyDrive/test/VID_chicken.mp4: 384x640 (no detections), 12.9ms\n",
            "video 1/1 (404/476) /content/drive/MyDrive/test/VID_chicken.mp4: 384x640 1 chicken, 24.5ms\n",
            "video 1/1 (405/476) /content/drive/MyDrive/test/VID_chicken.mp4: 384x640 1 chicken, 10.3ms\n",
            "video 1/1 (406/476) /content/drive/MyDrive/test/VID_chicken.mp4: 384x640 1 chicken, 14.5ms\n",
            "video 1/1 (407/476) /content/drive/MyDrive/test/VID_chicken.mp4: 384x640 1 chicken, 12.0ms\n",
            "video 1/1 (408/476) /content/drive/MyDrive/test/VID_chicken.mp4: 384x640 1 chicken, 18.1ms\n",
            "video 1/1 (409/476) /content/drive/MyDrive/test/VID_chicken.mp4: 384x640 (no detections), 14.2ms\n",
            "video 1/1 (410/476) /content/drive/MyDrive/test/VID_chicken.mp4: 384x640 (no detections), 19.3ms\n",
            "video 1/1 (411/476) /content/drive/MyDrive/test/VID_chicken.mp4: 384x640 (no detections), 18.4ms\n",
            "video 1/1 (412/476) /content/drive/MyDrive/test/VID_chicken.mp4: 384x640 (no detections), 14.6ms\n",
            "video 1/1 (413/476) /content/drive/MyDrive/test/VID_chicken.mp4: 384x640 (no detections), 17.8ms\n",
            "video 1/1 (414/476) /content/drive/MyDrive/test/VID_chicken.mp4: 384x640 (no detections), 16.4ms\n",
            "video 1/1 (415/476) /content/drive/MyDrive/test/VID_chicken.mp4: 384x640 (no detections), 17.0ms\n",
            "video 1/1 (416/476) /content/drive/MyDrive/test/VID_chicken.mp4: 384x640 (no detections), 16.9ms\n",
            "video 1/1 (417/476) /content/drive/MyDrive/test/VID_chicken.mp4: 384x640 (no detections), 11.1ms\n",
            "video 1/1 (418/476) /content/drive/MyDrive/test/VID_chicken.mp4: 384x640 (no detections), 10.4ms\n",
            "video 1/1 (419/476) /content/drive/MyDrive/test/VID_chicken.mp4: 384x640 (no detections), 12.7ms\n",
            "video 1/1 (420/476) /content/drive/MyDrive/test/VID_chicken.mp4: 384x640 (no detections), 24.7ms\n",
            "video 1/1 (421/476) /content/drive/MyDrive/test/VID_chicken.mp4: 384x640 (no detections), 18.5ms\n",
            "video 1/1 (422/476) /content/drive/MyDrive/test/VID_chicken.mp4: 384x640 (no detections), 21.0ms\n",
            "video 1/1 (423/476) /content/drive/MyDrive/test/VID_chicken.mp4: 384x640 (no detections), 10.9ms\n",
            "video 1/1 (424/476) /content/drive/MyDrive/test/VID_chicken.mp4: 384x640 (no detections), 24.6ms\n",
            "video 1/1 (425/476) /content/drive/MyDrive/test/VID_chicken.mp4: 384x640 (no detections), 15.0ms\n",
            "video 1/1 (426/476) /content/drive/MyDrive/test/VID_chicken.mp4: 384x640 (no detections), 18.5ms\n",
            "video 1/1 (427/476) /content/drive/MyDrive/test/VID_chicken.mp4: 384x640 (no detections), 23.3ms\n",
            "video 1/1 (428/476) /content/drive/MyDrive/test/VID_chicken.mp4: 384x640 (no detections), 25.5ms\n",
            "video 1/1 (429/476) /content/drive/MyDrive/test/VID_chicken.mp4: 384x640 (no detections), 18.3ms\n",
            "video 1/1 (430/476) /content/drive/MyDrive/test/VID_chicken.mp4: 384x640 (no detections), 22.5ms\n",
            "video 1/1 (431/476) /content/drive/MyDrive/test/VID_chicken.mp4: 384x640 (no detections), 16.5ms\n",
            "video 1/1 (432/476) /content/drive/MyDrive/test/VID_chicken.mp4: 384x640 (no detections), 16.1ms\n",
            "video 1/1 (433/476) /content/drive/MyDrive/test/VID_chicken.mp4: 384x640 (no detections), 9.6ms\n",
            "video 1/1 (434/476) /content/drive/MyDrive/test/VID_chicken.mp4: 384x640 (no detections), 24.6ms\n",
            "video 1/1 (435/476) /content/drive/MyDrive/test/VID_chicken.mp4: 384x640 (no detections), 16.9ms\n",
            "video 1/1 (436/476) /content/drive/MyDrive/test/VID_chicken.mp4: 384x640 (no detections), 30.3ms\n",
            "video 1/1 (437/476) /content/drive/MyDrive/test/VID_chicken.mp4: 384x640 (no detections), 14.7ms\n",
            "video 1/1 (438/476) /content/drive/MyDrive/test/VID_chicken.mp4: 384x640 (no detections), 23.1ms\n",
            "video 1/1 (439/476) /content/drive/MyDrive/test/VID_chicken.mp4: 384x640 (no detections), 14.3ms\n",
            "video 1/1 (440/476) /content/drive/MyDrive/test/VID_chicken.mp4: 384x640 (no detections), 12.8ms\n",
            "video 1/1 (441/476) /content/drive/MyDrive/test/VID_chicken.mp4: 384x640 (no detections), 9.3ms\n",
            "video 1/1 (442/476) /content/drive/MyDrive/test/VID_chicken.mp4: 384x640 (no detections), 22.9ms\n",
            "video 1/1 (443/476) /content/drive/MyDrive/test/VID_chicken.mp4: 384x640 (no detections), 18.5ms\n",
            "video 1/1 (444/476) /content/drive/MyDrive/test/VID_chicken.mp4: 384x640 (no detections), 17.5ms\n",
            "video 1/1 (445/476) /content/drive/MyDrive/test/VID_chicken.mp4: 384x640 (no detections), 25.0ms\n",
            "video 1/1 (446/476) /content/drive/MyDrive/test/VID_chicken.mp4: 384x640 (no detections), 11.1ms\n",
            "video 1/1 (447/476) /content/drive/MyDrive/test/VID_chicken.mp4: 384x640 (no detections), 25.2ms\n",
            "video 1/1 (448/476) /content/drive/MyDrive/test/VID_chicken.mp4: 384x640 (no detections), 21.1ms\n",
            "video 1/1 (449/476) /content/drive/MyDrive/test/VID_chicken.mp4: 384x640 (no detections), 25.1ms\n",
            "video 1/1 (450/476) /content/drive/MyDrive/test/VID_chicken.mp4: 384x640 (no detections), 13.8ms\n",
            "video 1/1 (451/476) /content/drive/MyDrive/test/VID_chicken.mp4: 384x640 (no detections), 18.8ms\n",
            "video 1/1 (452/476) /content/drive/MyDrive/test/VID_chicken.mp4: 384x640 (no detections), 11.9ms\n",
            "video 1/1 (453/476) /content/drive/MyDrive/test/VID_chicken.mp4: 384x640 (no detections), 24.1ms\n",
            "video 1/1 (454/476) /content/drive/MyDrive/test/VID_chicken.mp4: 384x640 (no detections), 16.0ms\n",
            "video 1/1 (455/476) /content/drive/MyDrive/test/VID_chicken.mp4: 384x640 (no detections), 23.5ms\n",
            "video 1/1 (456/476) /content/drive/MyDrive/test/VID_chicken.mp4: 384x640 (no detections), 15.9ms\n",
            "video 1/1 (457/476) /content/drive/MyDrive/test/VID_chicken.mp4: 384x640 (no detections), 19.7ms\n",
            "video 1/1 (458/476) /content/drive/MyDrive/test/VID_chicken.mp4: 384x640 (no detections), 14.7ms\n",
            "video 1/1 (459/476) /content/drive/MyDrive/test/VID_chicken.mp4: 384x640 (no detections), 15.7ms\n",
            "video 1/1 (460/476) /content/drive/MyDrive/test/VID_chicken.mp4: 384x640 (no detections), 28.7ms\n",
            "video 1/1 (461/476) /content/drive/MyDrive/test/VID_chicken.mp4: 384x640 (no detections), 22.2ms\n",
            "video 1/1 (462/476) /content/drive/MyDrive/test/VID_chicken.mp4: 384x640 (no detections), 18.0ms\n",
            "video 1/1 (463/476) /content/drive/MyDrive/test/VID_chicken.mp4: 384x640 (no detections), 22.1ms\n",
            "video 1/1 (464/476) /content/drive/MyDrive/test/VID_chicken.mp4: 384x640 (no detections), 13.4ms\n",
            "video 1/1 (465/476) /content/drive/MyDrive/test/VID_chicken.mp4: 384x640 (no detections), 20.2ms\n",
            "video 1/1 (466/476) /content/drive/MyDrive/test/VID_chicken.mp4: 384x640 (no detections), 19.0ms\n",
            "video 1/1 (467/476) /content/drive/MyDrive/test/VID_chicken.mp4: 384x640 (no detections), 12.0ms\n",
            "video 1/1 (468/476) /content/drive/MyDrive/test/VID_chicken.mp4: 384x640 (no detections), 15.6ms\n",
            "video 1/1 (469/476) /content/drive/MyDrive/test/VID_chicken.mp4: 384x640 (no detections), 13.0ms\n",
            "video 1/1 (470/476) /content/drive/MyDrive/test/VID_chicken.mp4: 384x640 (no detections), 19.1ms\n",
            "video 1/1 (471/476) /content/drive/MyDrive/test/VID_chicken.mp4: 384x640 (no detections), 22.6ms\n",
            "video 1/1 (472/476) /content/drive/MyDrive/test/VID_chicken.mp4: 384x640 (no detections), 26.5ms\n",
            "video 1/1 (473/476) /content/drive/MyDrive/test/VID_chicken.mp4: 384x640 (no detections), 18.1ms\n",
            "video 1/1 (474/476) /content/drive/MyDrive/test/VID_chicken.mp4: 384x640 (no detections), 21.7ms\n",
            "video 1/1 (475/476) /content/drive/MyDrive/test/VID_chicken.mp4: 384x640 (no detections), 25.3ms\n",
            "video 1/1 (476/476) /content/drive/MyDrive/test/VID_chicken.mp4: 384x640 (no detections), 16.5ms\n",
            "Speed: 1.3ms pre-process, 15.4ms inference, 2.2ms NMS per image at shape (1, 3, 640, 640)\n",
            "Results saved to \u001b[1mruns/detect/exp\u001b[0m\n"
          ]
        }
      ]
    },
    {
      "cell_type": "code",
      "source": [],
      "metadata": {
        "id": "riMDtu4FvDqh"
      },
      "execution_count": null,
      "outputs": []
    },
    {
      "cell_type": "code",
      "source": [],
      "metadata": {
        "id": "_c27MhlSvhQu"
      },
      "execution_count": null,
      "outputs": []
    },
    {
      "cell_type": "markdown",
      "source": [
        "### copy to google drive"
      ],
      "metadata": {
        "id": "ZKCzKMBgvi4t"
      }
    },
    {
      "cell_type": "code",
      "source": [
        "!cp /content/yolov5/runs/detect/exp/VID_chicken.mp4  /content/drive/MyDrive/test #copy video to google drive"
      ],
      "metadata": {
        "id": "h7ySvOHLviIF"
      },
      "execution_count": 5,
      "outputs": []
    },
    {
      "cell_type": "code",
      "source": [],
      "metadata": {
        "id": "ArlBBAHgviQA"
      },
      "execution_count": null,
      "outputs": []
    },
    {
      "cell_type": "markdown",
      "source": [],
      "metadata": {
        "id": "6XPNhQm2vhaW"
      }
    }
  ],
  "metadata": {
    "accelerator": "GPU",
    "colab": {
      "provenance": [],
      "gpuType": "T4",
      "mount_file_id": "1TKpeLZ7AmG7mQGuBRdJO1nRfha7VRN_4",
      "authorship_tag": "ABX9TyPF6hZ/jyYgdYs4wYmED2JK",
      "include_colab_link": true
    },
    "kernelspec": {
      "display_name": "Python 3",
      "name": "python3"
    },
    "language_info": {
      "name": "python"
    }
  },
  "nbformat": 4,
  "nbformat_minor": 0
}